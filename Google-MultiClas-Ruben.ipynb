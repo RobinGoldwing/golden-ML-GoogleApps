{
 "cells": [
  {
   "cell_type": "markdown",
   "metadata": {},
   "source": [
    "## Alumno : Rubén Álvarez Mosquera"
   ]
  },
  {
   "attachments": {},
   "cell_type": "markdown",
   "metadata": {},
   "source": [
    "---\n",
    "# **Clasificación Multiclase de la valoraciones de aplicaciones en Google Store**\n",
    "\n",
    "*Prefacio : Nuestra tarea consiste en clasificar la puntuación (rating) de las aplicaciones de Google Store*\n",
    "\n",
    "*Podemos ver el dataset en Kaggle https://www.kaggle.com/datasets/lava18/google-play-store-apps*\n",
    "\n",
    "---"
   ]
  },
  {
   "cell_type": "markdown",
   "metadata": {},
   "source": [
    "## Declaración de módulos\n",
    "---"
   ]
  },
  {
   "cell_type": "markdown",
   "metadata": {},
   "source": [
    "En primer lugar, vamos a importar algunos módulos comunes. \n",
    "\n",
    "También comprobamos que Python 3.5 o posterior está instalado (aunque Python 2.x puede funcionar, está obsoleto por lo que es **altamente** recomendable utilizar Python 3 en su lugar), así como Scikit-Learn ≥0.20.\n",
    "\n",
    "También agregaremos una librería (warnings) para evitar los molestos mensajes de advertencia(Futurewarnings)."
   ]
  },
  {
   "cell_type": "code",
   "execution_count": 1,
   "metadata": {},
   "outputs": [],
   "source": [
    "# Se requiere Python ≥ 3.5\n",
    "import sys\n",
    "assert sys.version_info >= (3, 5)\n",
    "\n",
    "# Se requiere Scikit-Learn ≥ 0.20\n",
    "import sklearn\n",
    "assert sklearn.__version__ >= \"0.20\"\n",
    "\n",
    "# Otros imports\n",
    "import numpy as np\n",
    "import os\n",
    "\n",
    "# Importamos la librería Pandas para administar Dataframes\n",
    "import pandas as pd\n",
    "\n",
    "# la línea que sigue, sólo en Colab ...\n",
    "# %matplotlib inline\n",
    "# Importamos librería MatPlotLib\n",
    "import matplotlib as mpl\n",
    "import matplotlib.pyplot as plt\n",
    "\n",
    "\n",
    "# Importamos librería \"Seaborn\" para la visualización que es como un MatPlotLib con \"esteriodes\"\n",
    "import seaborn as sns \n",
    "\n",
    "\n",
    "# Importa la librería que va a posibilitar evitar que salgan los molestos mensajes de advertencia\n",
    "import warnings"
   ]
  },
  {
   "cell_type": "markdown",
   "metadata": {},
   "source": [
    "Configuración de las Advertencias \"Futurewarning\""
   ]
  },
  {
   "cell_type": "code",
   "execution_count": 2,
   "metadata": {},
   "outputs": [],
   "source": [
    "# configuración para eviatar que aparezcan las advertencias \"FutureWarnings\"\n",
    "warnings.filterwarnings(\"ignore\", category=FutureWarning)\n",
    "warnings.filterwarnings(\"ignore\", category=UserWarning)"
   ]
  },
  {
   "cell_type": "markdown",
   "metadata": {},
   "source": [
    "Configuración de las visualizaciones de \"Seaborn\""
   ]
  },
  {
   "cell_type": "code",
   "execution_count": 3,
   "metadata": {},
   "outputs": [],
   "source": [
    "# tamaño del texto en las etiquetas por defecto para Matplotlib\n",
    "mpl.rc('axes',  labelsize=15)\n",
    "mpl.rc('xtick', labelsize=15)\n",
    "mpl.rc('ytick', labelsize=15)\n",
    "\n",
    "\n",
    "# Configuramos visualizaciones con Seaborn\n",
    "plt.rcParams['figure.figsize'] = [8,5]\n",
    "plt.rcParams['font.size'] =14\n",
    "plt.rcParams['font.weight']= 'bold'\n",
    "plt.style.use('seaborn-whitegrid')"
   ]
  },
  {
   "cell_type": "markdown",
   "metadata": {},
   "source": [
    "## Importacion de Datos\n",
    "---"
   ]
  },
  {
   "cell_type": "markdown",
   "metadata": {},
   "source": [
    "Definimos la función que importará los datos de un archivo CSV a un Dataframe de Pandas"
   ]
  },
  {
   "cell_type": "code",
   "execution_count": 4,
   "metadata": {},
   "outputs": [],
   "source": [
    "GOOGLE_PATH = os.path.join(\"dataset\")\n",
    "\n",
    "def load_google_data(google_path):\n",
    "    csv_path = os.path.join(google_path, \"googleplaystore.csv\")\n",
    "    return pd.read_csv(csv_path)"
   ]
  },
  {
   "cell_type": "markdown",
   "metadata": {},
   "source": [
    "Llamamos a la función de importación de datos y los importamos a la variable \"insurance\""
   ]
  },
  {
   "cell_type": "code",
   "execution_count": 5,
   "metadata": {},
   "outputs": [],
   "source": [
    "google = load_google_data(GOOGLE_PATH)"
   ]
  },
  {
   "cell_type": "markdown",
   "metadata": {},
   "source": [
    "Comprobamos el estado de los Datos, mediante una revisión de las primeras filas"
   ]
  },
  {
   "cell_type": "code",
   "execution_count": 6,
   "metadata": {},
   "outputs": [
    {
     "data": {
      "text/html": [
       "<div>\n",
       "<style scoped>\n",
       "    .dataframe tbody tr th:only-of-type {\n",
       "        vertical-align: middle;\n",
       "    }\n",
       "\n",
       "    .dataframe tbody tr th {\n",
       "        vertical-align: top;\n",
       "    }\n",
       "\n",
       "    .dataframe thead th {\n",
       "        text-align: right;\n",
       "    }\n",
       "</style>\n",
       "<table border=\"1\" class=\"dataframe\">\n",
       "  <thead>\n",
       "    <tr style=\"text-align: right;\">\n",
       "      <th></th>\n",
       "      <th>App</th>\n",
       "      <th>Category</th>\n",
       "      <th>Rating</th>\n",
       "      <th>Reviews</th>\n",
       "      <th>Size</th>\n",
       "      <th>Installs</th>\n",
       "      <th>Type</th>\n",
       "      <th>Price</th>\n",
       "      <th>Content Rating</th>\n",
       "      <th>Genres</th>\n",
       "      <th>Last Updated</th>\n",
       "      <th>Current Ver</th>\n",
       "      <th>Android Ver</th>\n",
       "    </tr>\n",
       "  </thead>\n",
       "  <tbody>\n",
       "    <tr>\n",
       "      <th>0</th>\n",
       "      <td>Photo Editor &amp; Candy Camera &amp; Grid &amp; ScrapBook</td>\n",
       "      <td>ART_AND_DESIGN</td>\n",
       "      <td>4.1</td>\n",
       "      <td>159</td>\n",
       "      <td>19M</td>\n",
       "      <td>10,000+</td>\n",
       "      <td>Free</td>\n",
       "      <td>0</td>\n",
       "      <td>Everyone</td>\n",
       "      <td>Art &amp; Design</td>\n",
       "      <td>January 7, 2018</td>\n",
       "      <td>1.0.0</td>\n",
       "      <td>4.0.3 and up</td>\n",
       "    </tr>\n",
       "    <tr>\n",
       "      <th>1</th>\n",
       "      <td>Coloring book moana</td>\n",
       "      <td>ART_AND_DESIGN</td>\n",
       "      <td>3.9</td>\n",
       "      <td>967</td>\n",
       "      <td>14M</td>\n",
       "      <td>500,000+</td>\n",
       "      <td>Free</td>\n",
       "      <td>0</td>\n",
       "      <td>Everyone</td>\n",
       "      <td>Art &amp; Design;Pretend Play</td>\n",
       "      <td>January 15, 2018</td>\n",
       "      <td>2.0.0</td>\n",
       "      <td>4.0.3 and up</td>\n",
       "    </tr>\n",
       "    <tr>\n",
       "      <th>2</th>\n",
       "      <td>U Launcher Lite – FREE Live Cool Themes, Hide ...</td>\n",
       "      <td>ART_AND_DESIGN</td>\n",
       "      <td>4.7</td>\n",
       "      <td>87510</td>\n",
       "      <td>8.7M</td>\n",
       "      <td>5,000,000+</td>\n",
       "      <td>Free</td>\n",
       "      <td>0</td>\n",
       "      <td>Everyone</td>\n",
       "      <td>Art &amp; Design</td>\n",
       "      <td>August 1, 2018</td>\n",
       "      <td>1.2.4</td>\n",
       "      <td>4.0.3 and up</td>\n",
       "    </tr>\n",
       "    <tr>\n",
       "      <th>3</th>\n",
       "      <td>Sketch - Draw &amp; Paint</td>\n",
       "      <td>ART_AND_DESIGN</td>\n",
       "      <td>4.5</td>\n",
       "      <td>215644</td>\n",
       "      <td>25M</td>\n",
       "      <td>50,000,000+</td>\n",
       "      <td>Free</td>\n",
       "      <td>0</td>\n",
       "      <td>Teen</td>\n",
       "      <td>Art &amp; Design</td>\n",
       "      <td>June 8, 2018</td>\n",
       "      <td>Varies with device</td>\n",
       "      <td>4.2 and up</td>\n",
       "    </tr>\n",
       "    <tr>\n",
       "      <th>4</th>\n",
       "      <td>Pixel Draw - Number Art Coloring Book</td>\n",
       "      <td>ART_AND_DESIGN</td>\n",
       "      <td>4.3</td>\n",
       "      <td>967</td>\n",
       "      <td>2.8M</td>\n",
       "      <td>100,000+</td>\n",
       "      <td>Free</td>\n",
       "      <td>0</td>\n",
       "      <td>Everyone</td>\n",
       "      <td>Art &amp; Design;Creativity</td>\n",
       "      <td>June 20, 2018</td>\n",
       "      <td>1.1</td>\n",
       "      <td>4.4 and up</td>\n",
       "    </tr>\n",
       "  </tbody>\n",
       "</table>\n",
       "</div>"
      ],
      "text/plain": [
       "                                                 App        Category  Rating  \\\n",
       "0     Photo Editor & Candy Camera & Grid & ScrapBook  ART_AND_DESIGN     4.1   \n",
       "1                                Coloring book moana  ART_AND_DESIGN     3.9   \n",
       "2  U Launcher Lite – FREE Live Cool Themes, Hide ...  ART_AND_DESIGN     4.7   \n",
       "3                              Sketch - Draw & Paint  ART_AND_DESIGN     4.5   \n",
       "4              Pixel Draw - Number Art Coloring Book  ART_AND_DESIGN     4.3   \n",
       "\n",
       "  Reviews  Size     Installs  Type Price Content Rating  \\\n",
       "0     159   19M      10,000+  Free     0       Everyone   \n",
       "1     967   14M     500,000+  Free     0       Everyone   \n",
       "2   87510  8.7M   5,000,000+  Free     0       Everyone   \n",
       "3  215644   25M  50,000,000+  Free     0           Teen   \n",
       "4     967  2.8M     100,000+  Free     0       Everyone   \n",
       "\n",
       "                      Genres      Last Updated         Current Ver  \\\n",
       "0               Art & Design   January 7, 2018               1.0.0   \n",
       "1  Art & Design;Pretend Play  January 15, 2018               2.0.0   \n",
       "2               Art & Design    August 1, 2018               1.2.4   \n",
       "3               Art & Design      June 8, 2018  Varies with device   \n",
       "4    Art & Design;Creativity     June 20, 2018                 1.1   \n",
       "\n",
       "    Android Ver  \n",
       "0  4.0.3 and up  \n",
       "1  4.0.3 and up  \n",
       "2  4.0.3 and up  \n",
       "3    4.2 and up  \n",
       "4    4.4 and up  "
      ]
     },
     "execution_count": 6,
     "metadata": {},
     "output_type": "execute_result"
    }
   ],
   "source": [
    "google.head()"
   ]
  },
  {
   "attachments": {},
   "cell_type": "markdown",
   "metadata": {},
   "source": [
    "Realizamos una copia de backup"
   ]
  },
  {
   "cell_type": "code",
   "execution_count": 7,
   "metadata": {},
   "outputs": [],
   "source": [
    "google_backup = google.copy()"
   ]
  },
  {
   "attachments": {},
   "cell_type": "markdown",
   "metadata": {},
   "source": [
    "## Revisamos el estado de los datos\n",
    "---"
   ]
  },
  {
   "attachments": {},
   "cell_type": "markdown",
   "metadata": {},
   "source": [
    "#### Revisamos las columnas en general"
   ]
  },
  {
   "cell_type": "code",
   "execution_count": 8,
   "metadata": {},
   "outputs": [
    {
     "name": "stdout",
     "output_type": "stream",
     "text": [
      "<class 'pandas.core.frame.DataFrame'>\n",
      "RangeIndex: 10841 entries, 0 to 10840\n",
      "Data columns (total 13 columns):\n",
      " #   Column          Non-Null Count  Dtype  \n",
      "---  ------          --------------  -----  \n",
      " 0   App             10841 non-null  object \n",
      " 1   Category        10841 non-null  object \n",
      " 2   Rating          9367 non-null   float64\n",
      " 3   Reviews         10841 non-null  object \n",
      " 4   Size            10841 non-null  object \n",
      " 5   Installs        10841 non-null  object \n",
      " 6   Type            10840 non-null  object \n",
      " 7   Price           10841 non-null  object \n",
      " 8   Content Rating  10840 non-null  object \n",
      " 9   Genres          10841 non-null  object \n",
      " 10  Last Updated    10841 non-null  object \n",
      " 11  Current Ver     10833 non-null  object \n",
      " 12  Android Ver     10838 non-null  object \n",
      "dtypes: float64(1), object(12)\n",
      "memory usage: 1.1+ MB\n"
     ]
    }
   ],
   "source": [
    "google.info()"
   ]
  },
  {
   "attachments": {},
   "cell_type": "markdown",
   "metadata": {},
   "source": [
    "#### Podemos ver que :\n",
    "- Menos la variable \"Rating\" que es cuantitativa/continua, todas son variables con valores de objeto/string, aunque alguna claramente es cuantitativa como Reviews, Size, Installs, Price\n",
    "\n",
    "Deberemos actuar sobre algunas columnas para subsanar formatos, para poder realizar la clasificación lo más eficientemente posible sin pérdida de información"
   ]
  },
  {
   "attachments": {},
   "cell_type": "markdown",
   "metadata": {},
   "source": [
    "#### Comprobación del número de NaN por categoría"
   ]
  },
  {
   "cell_type": "code",
   "execution_count": 9,
   "metadata": {},
   "outputs": [
    {
     "data": {
      "text/plain": [
       "App                  0\n",
       "Category             0\n",
       "Rating            1474\n",
       "Reviews              0\n",
       "Size                 0\n",
       "Installs             0\n",
       "Type                 1\n",
       "Price                0\n",
       "Content Rating       1\n",
       "Genres               0\n",
       "Last Updated         0\n",
       "Current Ver          8\n",
       "Android Ver          3\n",
       "dtype: int64"
      ]
     },
     "execution_count": 9,
     "metadata": {},
     "output_type": "execute_result"
    }
   ],
   "source": [
    "# De forma global\n",
    "google.isna().sum()"
   ]
  },
  {
   "attachments": {},
   "cell_type": "markdown",
   "metadata": {},
   "source": [
    "#### Vemos que hay valores NaN en :\n",
    "- Rating      1474\n",
    "- Type           1\n",
    "- Content Rating 1\n",
    "- Current Ver    8\n",
    "- Android Ver    3\n",
    "\n",
    "Por lo que tendremos que actuar sobre ellas para corregir la ausencia de datos"
   ]
  },
  {
   "attachments": {},
   "cell_type": "markdown",
   "metadata": {},
   "source": [
    "### \"App\" ------------------------------------------\n",
    "*Nombre de la aplicación*"
   ]
  },
  {
   "cell_type": "code",
   "execution_count": 10,
   "metadata": {},
   "outputs": [],
   "source": [
    "# Eliminación de la columna \"App\"\n",
    "google.drop([\"App\"],axis=1, inplace=True)"
   ]
  },
  {
   "attachments": {},
   "cell_type": "markdown",
   "metadata": {},
   "source": [
    "Procedertemos a eliminar esta celda, porque no aporta información para la clasificación"
   ]
  },
  {
   "attachments": {},
   "cell_type": "markdown",
   "metadata": {},
   "source": [
    "### \"Category\" ------------------------------------------\n",
    "*Nombre de la categoría en la que está clasificada la Aplicación*"
   ]
  },
  {
   "cell_type": "code",
   "execution_count": 11,
   "metadata": {},
   "outputs": [
    {
     "data": {
      "text/plain": [
       "FAMILY                 1972\n",
       "GAME                   1144\n",
       "TOOLS                   843\n",
       "MEDICAL                 463\n",
       "BUSINESS                460\n",
       "PRODUCTIVITY            424\n",
       "PERSONALIZATION         392\n",
       "COMMUNICATION           387\n",
       "SPORTS                  384\n",
       "LIFESTYLE               382\n",
       "FINANCE                 366\n",
       "HEALTH_AND_FITNESS      341\n",
       "PHOTOGRAPHY             335\n",
       "SOCIAL                  295\n",
       "NEWS_AND_MAGAZINES      283\n",
       "SHOPPING                260\n",
       "TRAVEL_AND_LOCAL        258\n",
       "DATING                  234\n",
       "BOOKS_AND_REFERENCE     231\n",
       "VIDEO_PLAYERS           175\n",
       "EDUCATION               156\n",
       "ENTERTAINMENT           149\n",
       "MAPS_AND_NAVIGATION     137\n",
       "FOOD_AND_DRINK          127\n",
       "HOUSE_AND_HOME           88\n",
       "LIBRARIES_AND_DEMO       85\n",
       "AUTO_AND_VEHICLES        85\n",
       "WEATHER                  82\n",
       "ART_AND_DESIGN           65\n",
       "EVENTS                   64\n",
       "PARENTING                60\n",
       "COMICS                   60\n",
       "BEAUTY                   53\n",
       "1.9                       1\n",
       "Name: Category, dtype: int64"
      ]
     },
     "execution_count": 11,
     "metadata": {},
     "output_type": "execute_result"
    }
   ],
   "source": [
    "google['Category'].value_counts()"
   ]
  },
  {
   "cell_type": "code",
   "execution_count": 12,
   "metadata": {},
   "outputs": [
    {
     "data": {
      "text/plain": [
       "34"
      ]
     },
     "execution_count": 12,
     "metadata": {},
     "output_type": "execute_result"
    }
   ],
   "source": [
    "google['Category'].nunique()"
   ]
  },
  {
   "cell_type": "code",
   "execution_count": 13,
   "metadata": {},
   "outputs": [
    {
     "data": {
      "image/png": "[encoded data removed]",
      "text/plain": [
       "<Figure size 800x500 with 1 Axes>"
      ]
     },
     "metadata": {},
     "output_type": "display_data"
    }
   ],
   "source": [
    "plt.rcParams['font.size'] =7\n",
    "mpl.rc('axes',  labelsize=7)\n",
    "mpl.rc('xtick', labelsize=7)\n",
    "mpl.rc('ytick', labelsize=7)\n",
    "\n",
    "data = list(google['Category'].value_counts())\n",
    "labels = google['Category'].value_counts().index.tolist()\n",
    "colors = sns.color_palette('pastel')[0:5]\n",
    "plt.pie(data, labels = labels, colors = colors, autopct='%.0f%%')\n",
    "\n",
    "plt.show()"
   ]
  },
  {
   "attachments": {},
   "cell_type": "markdown",
   "metadata": {},
   "source": [
    "- Como podemos ver existen 34 opciones de categoría\n",
    "- Las 3 categorías más numerosas son Family, Game y Tools\n",
    "\n",
    "- Como son variables categóricas, necesitamos convertirlas, para poder usarlo en el modelo de clasificación.\n",
    "- Pasaremos a usar \"OneHotEncoder\"\n",
    "- Lo haremos en un posterior punto, junto a otras variables que también necesiten el uso de OneHotEncoder"
   ]
  },
  {
   "attachments": {},
   "cell_type": "markdown",
   "metadata": {},
   "source": [
    "### \"Rating\" ------------------------------------------\n",
    "*Puntuación que los usuarios le han dado a la aplicación*"
   ]
  },
  {
   "cell_type": "code",
   "execution_count": 14,
   "metadata": {},
   "outputs": [
    {
     "data": {
      "text/plain": [
       "count    9367.000000\n",
       "mean        4.193338\n",
       "std         0.537431\n",
       "min         1.000000\n",
       "25%         4.000000\n",
       "50%         4.300000\n",
       "75%         4.500000\n",
       "max        19.000000\n",
       "Name: Rating, dtype: float64"
      ]
     },
     "execution_count": 14,
     "metadata": {},
     "output_type": "execute_result"
    }
   ],
   "source": [
    "google['Rating'].describe()"
   ]
  },
  {
   "attachments": {},
   "cell_type": "markdown",
   "metadata": {},
   "source": [
    "- Podemos ver que los valores van de 1 a 19\n",
    "- Este ultimo valor no tiene sentido, ya que los valores van de 1 a 5 estrellas, por lo que nos esperaríamos 5 a lo sumo.\n",
    "- Tendremos que actuar sobre los datos, y en todo caso copar en 5 el techo máximo"
   ]
  },
  {
   "cell_type": "code",
   "execution_count": 15,
   "metadata": {},
   "outputs": [
    {
     "data": {
      "text/plain": [
       "1"
      ]
     },
     "execution_count": 15,
     "metadata": {},
     "output_type": "execute_result"
    }
   ],
   "source": [
    "valores_mayor_5 = google.loc[google['Rating'] > 5, 'Rating']\n",
    "valores_mayor_5.count()"
   ]
  },
  {
   "cell_type": "code",
   "execution_count": 16,
   "metadata": {},
   "outputs": [
    {
     "data": {
      "text/plain": [
       "10472    19.0\n",
       "Name: Rating, dtype: float64"
      ]
     },
     "execution_count": 16,
     "metadata": {},
     "output_type": "execute_result"
    }
   ],
   "source": [
    "valores_mayor_5"
   ]
  },
  {
   "attachments": {},
   "cell_type": "markdown",
   "metadata": {},
   "source": [
    "- Podemos ver que el número de registros que en la categoría \"Rating\" mayor de 5 es 1.\n",
    "- En concreto es el que marca 19, por lo que podemos entender que es un 1.9 en vez de un 19\n",
    "- Pasamos a cambiar el número 19 por 1.9"
   ]
  },
  {
   "cell_type": "code",
   "execution_count": 17,
   "metadata": {},
   "outputs": [],
   "source": [
    "google.loc[10472, 'Rating'] = 1.9"
   ]
  },
  {
   "cell_type": "code",
   "execution_count": 18,
   "metadata": {},
   "outputs": [
    {
     "data": {
      "text/plain": [
       "1.9"
      ]
     },
     "execution_count": 18,
     "metadata": {},
     "output_type": "execute_result"
    }
   ],
   "source": [
    "google.loc[10472, 'Rating']"
   ]
  },
  {
   "attachments": {},
   "cell_type": "markdown",
   "metadata": {},
   "source": [
    "Comprobamos que no hay valores mayores de 5"
   ]
  },
  {
   "cell_type": "code",
   "execution_count": 19,
   "metadata": {},
   "outputs": [
    {
     "data": {
      "text/plain": [
       "0"
      ]
     },
     "execution_count": 19,
     "metadata": {},
     "output_type": "execute_result"
    }
   ],
   "source": [
    "valores_mayor_5 = google.loc[google['Rating'] > 5, 'Rating']\n",
    "valores_mayor_5.count()"
   ]
  },
  {
   "attachments": {},
   "cell_type": "markdown",
   "metadata": {},
   "source": [
    "Ahora comprobamos los NaN, y nos damos cuenta que tenemos 1474 NaN."
   ]
  },
  {
   "cell_type": "code",
   "execution_count": 20,
   "metadata": {},
   "outputs": [
    {
     "data": {
      "text/plain": [
       "1474"
      ]
     },
     "execution_count": 20,
     "metadata": {},
     "output_type": "execute_result"
    }
   ],
   "source": [
    "google['Rating'].isna().sum()"
   ]
  },
  {
   "attachments": {},
   "cell_type": "markdown",
   "metadata": {},
   "source": [
    "Lo que haremos en aplicar la media aritmética a todo ellos, que es de 4.2"
   ]
  },
  {
   "cell_type": "code",
   "execution_count": 21,
   "metadata": {},
   "outputs": [
    {
     "data": {
      "text/plain": [
       "4.1915127575531175"
      ]
     },
     "execution_count": 21,
     "metadata": {},
     "output_type": "execute_result"
    }
   ],
   "source": [
    "google['Rating'].mean()"
   ]
  },
  {
   "cell_type": "code",
   "execution_count": 22,
   "metadata": {},
   "outputs": [],
   "source": [
    "google['Rating'] = google['Rating'].fillna(4.2)"
   ]
  },
  {
   "cell_type": "code",
   "execution_count": 23,
   "metadata": {},
   "outputs": [
    {
     "data": {
      "text/plain": [
       "0"
      ]
     },
     "execution_count": 23,
     "metadata": {},
     "output_type": "execute_result"
    }
   ],
   "source": [
    "google['Rating'].isna().sum()"
   ]
  },
  {
   "cell_type": "code",
   "execution_count": 24,
   "metadata": {},
   "outputs": [
    {
     "data": {
      "text/plain": [
       "<AxesSubplot:xlabel='Rating', ylabel='Count'>"
      ]
     },
     "execution_count": 24,
     "metadata": {},
     "output_type": "execute_result"
    },
    {
     "data": {
      "image/png": "[encoded data removed]",
      "text/plain": [
       "<Figure size 800x500 with 1 Axes>"
      ]
     },
     "metadata": {},
     "output_type": "display_data"
    }
   ],
   "source": [
    "sns.histplot(data=google.Rating)"
   ]
  },
  {
   "cell_type": "code",
   "execution_count": 25,
   "metadata": {},
   "outputs": [
    {
     "data": {
      "text/plain": [
       "0    4.2\n",
       "Name: Rating, dtype: float64"
      ]
     },
     "execution_count": 25,
     "metadata": {},
     "output_type": "execute_result"
    }
   ],
   "source": [
    "google['Rating'].mode()"
   ]
  },
  {
   "cell_type": "code",
   "execution_count": 26,
   "metadata": {},
   "outputs": [
    {
     "data": {
      "text/plain": [
       "4.192666728161507"
      ]
     },
     "execution_count": 26,
     "metadata": {},
     "output_type": "execute_result"
    }
   ],
   "source": [
    "google['Rating'].mean()"
   ]
  },
  {
   "attachments": {},
   "cell_type": "markdown",
   "metadata": {},
   "source": [
    "- Podemos ver la distribución de los Rating\n",
    "- Es una distribución normal/Gauss\n",
    "- Examinamos como los más numerosos están sobre la media que es 4.2 que coincide con la moda"
   ]
  },
  {
   "attachments": {},
   "cell_type": "markdown",
   "metadata": {},
   "source": [
    "### \"Reviews\" ------------------------------------------\n",
    "*Número de Valoraciones de la aplicación*"
   ]
  },
  {
   "cell_type": "code",
   "execution_count": 27,
   "metadata": {},
   "outputs": [
    {
     "data": {
      "text/plain": [
       "count     10841\n",
       "unique     6002\n",
       "top           0\n",
       "freq        596\n",
       "Name: Reviews, dtype: object"
      ]
     },
     "execution_count": 27,
     "metadata": {},
     "output_type": "execute_result"
    }
   ],
   "source": [
    "google['Reviews'].describe()"
   ]
  },
  {
   "attachments": {},
   "cell_type": "markdown",
   "metadata": {},
   "source": [
    "- Observamos que el tipo de valor es \"object\" por lo que es como si fura una variable categórica, cuando en realidad es una variable cuantitativa/discreta\n",
    "- Pasamos a convertir la variable a tipo \"integer\"\n",
    "- Para ello debemos asegurarnos que no hay otros caracteres que no sean numéricos"
   ]
  },
  {
   "cell_type": "code",
   "execution_count": 28,
   "metadata": {},
   "outputs": [],
   "source": [
    "valores_no_numericos = google['Reviews'][~google['Reviews'].str.contains('^\\d+$')]"
   ]
  },
  {
   "cell_type": "code",
   "execution_count": 29,
   "metadata": {},
   "outputs": [
    {
     "data": {
      "text/plain": [
       "1"
      ]
     },
     "execution_count": 29,
     "metadata": {},
     "output_type": "execute_result"
    }
   ],
   "source": [
    "valores_no_numericos.count()"
   ]
  },
  {
   "cell_type": "code",
   "execution_count": 30,
   "metadata": {},
   "outputs": [
    {
     "data": {
      "text/plain": [
       "10472    3.0M\n",
       "Name: Reviews, dtype: object"
      ]
     },
     "execution_count": 30,
     "metadata": {},
     "output_type": "execute_result"
    }
   ],
   "source": [
    "valores_no_numericos"
   ]
  },
  {
   "attachments": {},
   "cell_type": "markdown",
   "metadata": {},
   "source": [
    "- Podemos observar que el único valor que tenemos que no es numérico es el índice 10472, que tiene un valor de 3.0M, que casualmente es el mismo registro que tenía un valor de 19 en el Rating.\n",
    "- Eso nos puede indicar que el registro no es fiable, por lo que pasamos a su eliminación"
   ]
  },
  {
   "cell_type": "code",
   "execution_count": 31,
   "metadata": {},
   "outputs": [],
   "source": [
    "google = google.drop(10472)"
   ]
  },
  {
   "attachments": {},
   "cell_type": "markdown",
   "metadata": {},
   "source": [
    "Ahora podemos aplicar el cambio a tipo de valor \"integer\""
   ]
  },
  {
   "cell_type": "code",
   "execution_count": 32,
   "metadata": {},
   "outputs": [],
   "source": [
    "google['Reviews'] = google['Reviews'].astype(int)"
   ]
  },
  {
   "attachments": {},
   "cell_type": "markdown",
   "metadata": {},
   "source": [
    "Revisamos los NaN de la variable, y vemos que no hay registros NaN por lo que damos por terminada la revisión de la variable"
   ]
  },
  {
   "cell_type": "code",
   "execution_count": 33,
   "metadata": {},
   "outputs": [
    {
     "data": {
      "text/plain": [
       "0"
      ]
     },
     "execution_count": 33,
     "metadata": {},
     "output_type": "execute_result"
    }
   ],
   "source": [
    "google['Reviews'].isna().sum()"
   ]
  },
  {
   "attachments": {},
   "cell_type": "markdown",
   "metadata": {},
   "source": [
    "### \"Size\" ------------------------------------------\n",
    "*Cantidad que ocupa la aplicación en el sistema, medido en MegaBytes \"M\" y en KiloByte \"k\"*"
   ]
  },
  {
   "cell_type": "code",
   "execution_count": 34,
   "metadata": {},
   "outputs": [
    {
     "data": {
      "text/plain": [
       "10307                  7.4M\n",
       "8500                    11M\n",
       "10624                  9.9M\n",
       "7085                   5.5M\n",
       "10135                  2.9M\n",
       "3664                   5.3M\n",
       "6369                   4.8M\n",
       "9926                    42M\n",
       "165                     15M\n",
       "2282     Varies with device\n",
       "Name: Size, dtype: object"
      ]
     },
     "execution_count": 34,
     "metadata": {},
     "output_type": "execute_result"
    }
   ],
   "source": [
    "google['Size'].sample(10)"
   ]
  },
  {
   "attachments": {},
   "cell_type": "markdown",
   "metadata": {},
   "source": [
    "- Podemos observar que a parte de una cantidad numérica (MegaBytes) junto con una M, o junto a una k, y  también obtenemos otros registros que tienen \"Varies with device\"\n",
    "- En este caso y queriendo aplicar la media a todos estos registros, debemos realizar los siguientes pasos:\n",
    "    - Eliminar la \"M\" de los registros\n",
    "    - Eliminar la 'k' de los registros y dividir por 1000 para equipararlo a MegaBytes\n",
    "    - Hallar la media artimética\n",
    "    - CAmbiar los valores \"Varies with device\" por la media aritmética\n",
    "    - Pasar la variable de tipo \"object\" a \"float\"\n",
    "    - Redondear con un decimal"
   ]
  },
  {
   "cell_type": "code",
   "execution_count": 35,
   "metadata": {},
   "outputs": [],
   "source": [
    "# Reemplazamos el caracter 'M' por uno vacio\n",
    "google['Size'] = google['Size'].str.replace('M','')\n",
    "# Reemplazamos el caracter k por uno vacio y aplicamos un redondeo a la división por 1000 para equipararlo a megabytes\n",
    "google['Size'] = google['Size'].apply(lambda x: round(float(x.replace('k',''))/1000,1) if 'k' in x else x)\n",
    "# Hallamos la media\n",
    "media = google.loc[google['Size'] != 'Varies with device', 'Size'].astype(float).mean()\n",
    "# Sustituimos el valor\"Varies with device\" por la media\n",
    "google['Size'] = google['Size'].apply(lambda x: media if x == 'Varies with device' else x)\n",
    "# Pasamos el tipo de dato de la variable a Float\n",
    "google['Size'] = google['Size'].astype(float)\n",
    "# Redondeamos a 1 decimal los valores de la variable\n",
    "google['Size'] = google['Size'].round(1)\n"
   ]
  },
  {
   "attachments": {},
   "cell_type": "markdown",
   "metadata": {},
   "source": [
    "Comprobamos que los cambios han surtido el efecto deseado"
   ]
  },
  {
   "cell_type": "code",
   "execution_count": 36,
   "metadata": {},
   "outputs": [
    {
     "data": {
      "text/plain": [
       "5704     21.5\n",
       "6455      5.3\n",
       "714      21.5\n",
       "3462      1.3\n",
       "5012      0.3\n",
       "8560     16.0\n",
       "1955     21.5\n",
       "10587     4.4\n",
       "8624     86.0\n",
       "10568    17.0\n",
       "Name: Size, dtype: float64"
      ]
     },
     "execution_count": 36,
     "metadata": {},
     "output_type": "execute_result"
    }
   ],
   "source": [
    "google['Size'].sample(10)"
   ]
  },
  {
   "cell_type": "code",
   "execution_count": 37,
   "metadata": {},
   "outputs": [
    {
     "data": {
      "text/plain": [
       "21.51396678966784"
      ]
     },
     "execution_count": 37,
     "metadata": {},
     "output_type": "execute_result"
    }
   ],
   "source": [
    "google['Size'].mean()"
   ]
  },
  {
   "cell_type": "code",
   "execution_count": 38,
   "metadata": {},
   "outputs": [
    {
     "data": {
      "text/plain": [
       "0    21.5\n",
       "Name: Size, dtype: float64"
      ]
     },
     "execution_count": 38,
     "metadata": {},
     "output_type": "execute_result"
    }
   ],
   "source": [
    "google['Size'].mode()"
   ]
  },
  {
   "cell_type": "code",
   "execution_count": 39,
   "metadata": {},
   "outputs": [
    {
     "data": {
      "text/plain": [
       "<AxesSubplot:xlabel='Size', ylabel='Count'>"
      ]
     },
     "execution_count": 39,
     "metadata": {},
     "output_type": "execute_result"
    },
    {
     "data": {
      "image/png": "[encoded data removed]",
      "text/plain": [
       "<Figure size 800x500 with 1 Axes>"
      ]
     },
     "metadata": {},
     "output_type": "display_data"
    }
   ],
   "source": [
    "sns.histplot(data=google.Size)"
   ]
  },
  {
   "attachments": {},
   "cell_type": "markdown",
   "metadata": {},
   "source": [
    "- Podemos observar que la distribución del peso en Megabytes de las aplicaciones tiene un peso mayor en las cantidades pequeñas\n",
    "- También que la media y la moda coinciden en unos 21.5 Mb "
   ]
  },
  {
   "attachments": {},
   "cell_type": "markdown",
   "metadata": {},
   "source": [
    "### \"Installs\" ------------------------------------------\n",
    "*Número de instalaciones de la aplicación*"
   ]
  },
  {
   "cell_type": "code",
   "execution_count": 40,
   "metadata": {},
   "outputs": [
    {
     "data": {
      "text/plain": [
       "count          10840\n",
       "unique            21\n",
       "top       1,000,000+\n",
       "freq            1579\n",
       "Name: Installs, dtype: object"
      ]
     },
     "execution_count": 40,
     "metadata": {},
     "output_type": "execute_result"
    }
   ],
   "source": [
    "google['Installs'].describe()"
   ]
  },
  {
   "cell_type": "code",
   "execution_count": 41,
   "metadata": {},
   "outputs": [
    {
     "data": {
      "text/plain": [
       "7358         50,000+\n",
       "2021      1,000,000+\n",
       "10524            10+\n",
       "10445     1,000,000+\n",
       "10510            10+\n",
       "832      10,000,000+\n",
       "771         500,000+\n",
       "8060            100+\n",
       "2277         10,000+\n",
       "1508        500,000+\n",
       "Name: Installs, dtype: object"
      ]
     },
     "execution_count": 41,
     "metadata": {},
     "output_type": "execute_result"
    }
   ],
   "source": [
    "google['Installs'].sample(10)"
   ]
  },
  {
   "cell_type": "code",
   "execution_count": 42,
   "metadata": {},
   "outputs": [
    {
     "data": {
      "text/plain": [
       "0"
      ]
     },
     "execution_count": 42,
     "metadata": {},
     "output_type": "execute_result"
    }
   ],
   "source": [
    "google['Installs'].isna().sum()"
   ]
  },
  {
   "attachments": {},
   "cell_type": "markdown",
   "metadata": {},
   "source": [
    "Podemos observar que:\n",
    "- No contiene valores NaN\n",
    "- Contiene un caracter + que debemos eliminar\n",
    "- Los números tienen el caracter ',' que también deberemos eliminar\n",
    "- Es de tipo 'object' cuando debería ser de tipo 'integer' ya que son instalaciones unitarias"
   ]
  },
  {
   "cell_type": "code",
   "execution_count": 43,
   "metadata": {},
   "outputs": [],
   "source": [
    "# Eliminamos el caracter '+'\n",
    "google['Installs'] = google['Installs'].str.replace('+','')\n",
    "# Eliminamos el caracter ','\n",
    "google['Installs'] = google['Installs'].str.replace(',','')\n",
    "# Pasamos el tipo de dato de la variable a Integer\n",
    "google['Installs'] = google['Installs'].astype(int)"
   ]
  },
  {
   "attachments": {},
   "cell_type": "markdown",
   "metadata": {},
   "source": [
    "Comprobamos el estado final"
   ]
  },
  {
   "cell_type": "code",
   "execution_count": 44,
   "metadata": {},
   "outputs": [
    {
     "data": {
      "text/plain": [
       "3081    5000000\n",
       "745     5000000\n",
       "6186        100\n",
       "8504         50\n",
       "7479     100000\n",
       "8876          1\n",
       "7323       1000\n",
       "6126       1000\n",
       "6105    1000000\n",
       "5525    1000000\n",
       "Name: Installs, dtype: int32"
      ]
     },
     "execution_count": 44,
     "metadata": {},
     "output_type": "execute_result"
    }
   ],
   "source": [
    "google['Installs'].sample(10)"
   ]
  },
  {
   "cell_type": "code",
   "execution_count": 45,
   "metadata": {},
   "outputs": [
    {
     "data": {
      "text/plain": [
       "15464338.882564576"
      ]
     },
     "execution_count": 45,
     "metadata": {},
     "output_type": "execute_result"
    }
   ],
   "source": [
    "google['Installs'].mean()"
   ]
  },
  {
   "cell_type": "code",
   "execution_count": 46,
   "metadata": {},
   "outputs": [
    {
     "data": {
      "text/plain": [
       "0    1000000\n",
       "Name: Installs, dtype: int32"
      ]
     },
     "execution_count": 46,
     "metadata": {},
     "output_type": "execute_result"
    }
   ],
   "source": [
    "google['Installs'].mode()"
   ]
  },
  {
   "attachments": {},
   "cell_type": "markdown",
   "metadata": {},
   "source": [
    "- Podemos observar que la media está en más de 15 millones, mientras que la moda está en 1 millón de instalaciones"
   ]
  },
  {
   "attachments": {},
   "cell_type": "markdown",
   "metadata": {},
   "source": [
    "### \"Type\" ------------------------------------------\n",
    "*Tipo de Aplicación, gratuita o de pago (Free/Paid)*"
   ]
  },
  {
   "cell_type": "code",
   "execution_count": 47,
   "metadata": {},
   "outputs": [
    {
     "data": {
      "text/plain": [
       "count     10839\n",
       "unique        2\n",
       "top        Free\n",
       "freq      10039\n",
       "Name: Type, dtype: object"
      ]
     },
     "execution_count": 47,
     "metadata": {},
     "output_type": "execute_result"
    }
   ],
   "source": [
    "google['Type'].describe()"
   ]
  },
  {
   "cell_type": "code",
   "execution_count": 48,
   "metadata": {},
   "outputs": [
    {
     "data": {
      "text/plain": [
       "8700    Free\n",
       "9571    Free\n",
       "6870    Free\n",
       "5519    Free\n",
       "1945    Free\n",
       "5935    Free\n",
       "6607    Free\n",
       "6610    Free\n",
       "2346    Free\n",
       "6882    Free\n",
       "Name: Type, dtype: object"
      ]
     },
     "execution_count": 48,
     "metadata": {},
     "output_type": "execute_result"
    }
   ],
   "source": [
    "google['Type'].sample(10)"
   ]
  },
  {
   "cell_type": "code",
   "execution_count": 49,
   "metadata": {},
   "outputs": [
    {
     "data": {
      "text/plain": [
       "1"
      ]
     },
     "execution_count": 49,
     "metadata": {},
     "output_type": "execute_result"
    }
   ],
   "source": [
    "google['Type'].isna().sum()"
   ]
  },
  {
   "attachments": {},
   "cell_type": "markdown",
   "metadata": {},
   "source": [
    "- Como podemos ver existen al menos 2 opciones de categoría\n",
    "- Como son variables categóricas, necesitamos convertirlas, para poder usarlo en el modelo de clasificación.\n",
    "- Pasaremos a usar \"OneHotEncoder\"\n",
    "- Lo haremos en un posterior punto, junto a otras variables que también necesiten el uso de OneHotEncoder\n",
    "- También vemos un registro con NaN, que pasaremos a cambiarlo por el valor mayoritario"
   ]
  },
  {
   "cell_type": "code",
   "execution_count": 50,
   "metadata": {},
   "outputs": [
    {
     "data": {
      "text/plain": [
       "Free    10039\n",
       "Paid      800\n",
       "Name: Type, dtype: int64"
      ]
     },
     "execution_count": 50,
     "metadata": {},
     "output_type": "execute_result"
    }
   ],
   "source": [
    "google['Type'].value_counts()"
   ]
  },
  {
   "attachments": {},
   "cell_type": "markdown",
   "metadata": {},
   "source": [
    "El mayoritario es \"Free\" por lo que pasamos a agregar este registro al registro con NaN"
   ]
  },
  {
   "cell_type": "code",
   "execution_count": 51,
   "metadata": {},
   "outputs": [],
   "source": [
    "google['Type'] = google['Type'].fillna('Free')"
   ]
  },
  {
   "cell_type": "code",
   "execution_count": 52,
   "metadata": {},
   "outputs": [
    {
     "data": {
      "text/plain": [
       "0"
      ]
     },
     "execution_count": 52,
     "metadata": {},
     "output_type": "execute_result"
    }
   ],
   "source": [
    "google['Type'].isna().sum()"
   ]
  },
  {
   "cell_type": "code",
   "execution_count": 53,
   "metadata": {},
   "outputs": [
    {
     "data": {
      "text/plain": [
       "([<matplotlib.patches.Wedge at 0x1ed0bd2d790>,\n",
       "  <matplotlib.patches.Wedge at 0x1ed0bd2deb0>],\n",
       " [Text(-1.070566794830964, 0.2527582596184673, 'Free'),\n",
       "  Text(1.0705667889147297, -0.2527582846768919, 'Paid')],\n",
       " [Text(-0.5839455244532531, 0.13786814161007305, '93%'),\n",
       "  Text(0.5839455212262161, -0.13786815527830465, '7%')])"
      ]
     },
     "execution_count": 53,
     "metadata": {},
     "output_type": "execute_result"
    },
    {
     "data": {
      "image/png": "[encoded data removed]",
      "text/plain": [
       "<Figure size 800x500 with 1 Axes>"
      ]
     },
     "metadata": {},
     "output_type": "display_data"
    }
   ],
   "source": [
    "plt.rcParams['font.size'] =7\n",
    "mpl.rc('axes',  labelsize=7)\n",
    "mpl.rc('xtick', labelsize=7)\n",
    "mpl.rc('ytick', labelsize=7)\n",
    "\n",
    "data = list(google['Type'].value_counts())\n",
    "labels = google['Type'].value_counts().index.tolist()\n",
    "colors = sns.color_palette('pastel')[0:5]\n",
    "plt.pie(data, labels = labels, colors = colors, autopct='%.0f%%')"
   ]
  },
  {
   "attachments": {},
   "cell_type": "markdown",
   "metadata": {},
   "source": [
    "- Observamos que es aplastante la mayoría de aplicaciones gratuitas con un 93%"
   ]
  },
  {
   "attachments": {},
   "cell_type": "markdown",
   "metadata": {},
   "source": [
    "### \"Price\" ------------------------------------------\n",
    "*Precio de la aplicación*"
   ]
  },
  {
   "cell_type": "code",
   "execution_count": 54,
   "metadata": {},
   "outputs": [
    {
     "data": {
      "text/plain": [
       "count     10840\n",
       "unique       92\n",
       "top           0\n",
       "freq      10040\n",
       "Name: Price, dtype: object"
      ]
     },
     "execution_count": 54,
     "metadata": {},
     "output_type": "execute_result"
    }
   ],
   "source": [
    "google['Price'].describe()"
   ]
  },
  {
   "cell_type": "code",
   "execution_count": 55,
   "metadata": {},
   "outputs": [
    {
     "data": {
      "text/plain": [
       "3887    0\n",
       "2345    0\n",
       "5685    0\n",
       "203     0\n",
       "3169    0\n",
       "7845    0\n",
       "3861    0\n",
       "3322    0\n",
       "943     0\n",
       "8194    0\n",
       "Name: Price, dtype: object"
      ]
     },
     "execution_count": 55,
     "metadata": {},
     "output_type": "execute_result"
    }
   ],
   "source": [
    "google['Price'].sample(10)"
   ]
  },
  {
   "cell_type": "code",
   "execution_count": 56,
   "metadata": {},
   "outputs": [
    {
     "data": {
      "text/plain": [
       "0"
      ]
     },
     "execution_count": 56,
     "metadata": {},
     "output_type": "execute_result"
    }
   ],
   "source": [
    "google['Price'].isna().sum()"
   ]
  },
  {
   "attachments": {},
   "cell_type": "markdown",
   "metadata": {},
   "source": [
    "Observamos que :\n",
    "- No tienen NaN\n",
    "- Al intentar pasarlo a integer nos salta un error en algunos valores, que tienen el símbolo '$' y también que algunos precios contienen 2 decimales\n",
    "- Pasaremos a eliminar los caracteres '$' y pasar los números a float con 2 decimales"
   ]
  },
  {
   "cell_type": "code",
   "execution_count": 57,
   "metadata": {},
   "outputs": [],
   "source": [
    "# Eliminamos el caracter '$'\n",
    "google['Price'] = google['Price'].str.replace('$','')\n",
    "# Pasamos las cantidades a float con 2 decimales\n",
    "google['Price'] = google['Price'].apply(lambda x: round(float(x),2))\n",
    "# Pasamos el tipo de dato de la variable a Integer\n",
    "google['Price'] = google['Price'].astype(float)"
   ]
  },
  {
   "attachments": {},
   "cell_type": "markdown",
   "metadata": {},
   "source": [
    "Observamos si los cambios son corectos"
   ]
  },
  {
   "cell_type": "code",
   "execution_count": 58,
   "metadata": {},
   "outputs": [
    {
     "data": {
      "text/plain": [
       "4014     0.00\n",
       "1098     0.00\n",
       "1341     2.99\n",
       "10019    0.00\n",
       "3901     0.00\n",
       "2320     0.00\n",
       "9430     0.00\n",
       "9683     0.00\n",
       "10743    0.00\n",
       "6045     0.00\n",
       "Name: Price, dtype: float64"
      ]
     },
     "execution_count": 58,
     "metadata": {},
     "output_type": "execute_result"
    }
   ],
   "source": [
    "google['Price'].sample(10)"
   ]
  },
  {
   "attachments": {},
   "cell_type": "markdown",
   "metadata": {},
   "source": [
    "Revisamos los datos de las aplicaciones de pago"
   ]
  },
  {
   "cell_type": "code",
   "execution_count": 59,
   "metadata": {},
   "outputs": [],
   "source": [
    "data = google[google['Type'] == 'Paid']"
   ]
  },
  {
   "cell_type": "code",
   "execution_count": 60,
   "metadata": {},
   "outputs": [
    {
     "data": {
      "text/plain": [
       "13.920837499999855"
      ]
     },
     "execution_count": 60,
     "metadata": {},
     "output_type": "execute_result"
    }
   ],
   "source": [
    "# La media\n",
    "data['Price'].mean()"
   ]
  },
  {
   "cell_type": "code",
   "execution_count": 61,
   "metadata": {},
   "outputs": [
    {
     "data": {
      "text/plain": [
       "0    0.99\n",
       "Name: Price, dtype: float64"
      ]
     },
     "execution_count": 61,
     "metadata": {},
     "output_type": "execute_result"
    }
   ],
   "source": [
    "# La moda\n",
    "data['Price'].mode()"
   ]
  },
  {
   "cell_type": "code",
   "execution_count": 62,
   "metadata": {},
   "outputs": [
    {
     "data": {
      "text/plain": [
       "count    800.000000\n",
       "mean      13.920837\n",
       "std       57.195358\n",
       "min        0.990000\n",
       "25%        1.490000\n",
       "50%        2.990000\n",
       "75%        4.990000\n",
       "max      400.000000\n",
       "Name: Price, dtype: float64"
      ]
     },
     "execution_count": 62,
     "metadata": {},
     "output_type": "execute_result"
    }
   ],
   "source": [
    "# Una revisión de las aplicaciones de pago\n",
    "data['Price'].describe()"
   ]
  },
  {
   "cell_type": "code",
   "execution_count": 63,
   "metadata": {},
   "outputs": [
    {
     "data": {
      "text/plain": [
       "<seaborn.axisgrid.FacetGrid at 0x1ed0bf9a940>"
      ]
     },
     "execution_count": 63,
     "metadata": {},
     "output_type": "execute_result"
    },
    {
     "data": {
      "image/png": "[encoded data removed]",
      "text/plain": [
       "<Figure size 500x500 with 1 Axes>"
      ]
     },
     "metadata": {},
     "output_type": "display_data"
    }
   ],
   "source": [
    "# Gráfica de dispersión\n",
    "sns.displot(data=data, x='Price', kind=\"kde\")"
   ]
  },
  {
   "attachments": {},
   "cell_type": "markdown",
   "metadata": {},
   "source": [
    "Observamos que:\n",
    "- La distribución está agrupada en los valores más bajos\n",
    "- La media de las aplicaciones de pago es de 13.9\n",
    "- La moda es de 0.99\n",
    "- Y finalmente que existen aplicaciones muy caras hasta 400 euros, pero que hasta el tercer cuartil(75%) es de únicamente 4.99"
   ]
  },
  {
   "attachments": {},
   "cell_type": "markdown",
   "metadata": {},
   "source": [
    "### \"Content Rating\" ------------------------------------------\n",
    "*Las edades para las que está clasificada la aplicación*"
   ]
  },
  {
   "cell_type": "code",
   "execution_count": 64,
   "metadata": {},
   "outputs": [
    {
     "data": {
      "text/plain": [
       "count        10840\n",
       "unique           6\n",
       "top       Everyone\n",
       "freq          8714\n",
       "Name: Content Rating, dtype: object"
      ]
     },
     "execution_count": 64,
     "metadata": {},
     "output_type": "execute_result"
    }
   ],
   "source": [
    "google['Content Rating'].describe()"
   ]
  },
  {
   "cell_type": "code",
   "execution_count": 65,
   "metadata": {},
   "outputs": [
    {
     "data": {
      "text/plain": [
       "7708        Everyone\n",
       "8944        Everyone\n",
       "2425        Everyone\n",
       "6919        Everyone\n",
       "2483        Everyone\n",
       "2251        Everyone\n",
       "4033            Teen\n",
       "5772        Everyone\n",
       "4150        Everyone\n",
       "3790    Everyone 10+\n",
       "Name: Content Rating, dtype: object"
      ]
     },
     "execution_count": 65,
     "metadata": {},
     "output_type": "execute_result"
    }
   ],
   "source": [
    "google['Content Rating'].sample(10)"
   ]
  },
  {
   "cell_type": "code",
   "execution_count": 66,
   "metadata": {},
   "outputs": [
    {
     "data": {
      "text/plain": [
       "0"
      ]
     },
     "execution_count": 66,
     "metadata": {},
     "output_type": "execute_result"
    }
   ],
   "source": [
    "google['Content Rating'].isna().sum()"
   ]
  },
  {
   "cell_type": "code",
   "execution_count": 67,
   "metadata": {},
   "outputs": [
    {
     "data": {
      "image/png": "[encoded data removed]",
      "text/plain": [
       "<Figure size 800x500 with 1 Axes>"
      ]
     },
     "metadata": {},
     "output_type": "display_data"
    }
   ],
   "source": [
    "plt.rcParams['font.size'] =7\n",
    "mpl.rc('axes',  labelsize=7)\n",
    "mpl.rc('xtick', labelsize=7)\n",
    "mpl.rc('ytick', labelsize=7)\n",
    "\n",
    "data = list(google['Content Rating'].value_counts())\n",
    "labels = google['Content Rating'].value_counts().index.tolist()\n",
    "colors = sns.color_palette('pastel')[0:5]\n",
    "plt.pie(data, labels = labels, colors = colors, autopct='%.0f%%');"
   ]
  },
  {
   "attachments": {},
   "cell_type": "markdown",
   "metadata": {},
   "source": [
    "Observamos que :\n",
    "- Existen al menos 6 opciones de categoría\n",
    "- La más numerosa es la de \"Everyone\" conun 80%, seguida de la de \"Teen\" con un 11%\n",
    "- Como son variables categóricas, necesitamos convertirlas, para poder usarlo en el modelo de clasificación.\n",
    "- Pasaremos a usar \"OneHotEncoder\"\n",
    "- Lo haremos en un posterior punto, junto a otras variables que también necesiten el uso de OneHotEncoder"
   ]
  },
  {
   "attachments": {},
   "cell_type": "markdown",
   "metadata": {},
   "source": [
    "### \"Genres\" ------------------------------------------\n",
    "*Categoría de género de aplicación*"
   ]
  },
  {
   "cell_type": "code",
   "execution_count": 68,
   "metadata": {},
   "outputs": [
    {
     "data": {
      "text/plain": [
       "count     10840\n",
       "unique      119\n",
       "top       Tools\n",
       "freq        842\n",
       "Name: Genres, dtype: object"
      ]
     },
     "execution_count": 68,
     "metadata": {},
     "output_type": "execute_result"
    }
   ],
   "source": [
    "google['Genres'].describe()"
   ]
  },
  {
   "cell_type": "code",
   "execution_count": 69,
   "metadata": {},
   "outputs": [
    {
     "data": {
      "text/plain": [
       "9210     Travel & Local\n",
       "7988      Entertainment\n",
       "7256    Personalization\n",
       "6401             Casual\n",
       "7447           Business\n",
       "7943           Business\n",
       "7794      Entertainment\n",
       "6624             Events\n",
       "4629      Communication\n",
       "9700          Education\n",
       "Name: Genres, dtype: object"
      ]
     },
     "execution_count": 69,
     "metadata": {},
     "output_type": "execute_result"
    }
   ],
   "source": [
    "google['Genres'].sample(10)"
   ]
  },
  {
   "attachments": {},
   "cell_type": "markdown",
   "metadata": {},
   "source": [
    "- Como podemos ver existen al menos 119 opciones únicas de categoría\n",
    "- También observamos que los valores a veces se encuantran con más de una categoría separadas por ';', por lo que una aplicación puede tener más de una categoría, y eso deberemos tenerlo en cuenta\n",
    "- Como son variables categóricas, necesitamos convertirlas, para poder usarlo en el modelo de clasificación.\n",
    "- Pasaremos a usar \"OneHotEncoder\"\n",
    "- Lo haremos en un posterior punto, junto a otras variables que también necesiten el uso de OneHotEncoder"
   ]
  },
  {
   "attachments": {},
   "cell_type": "markdown",
   "metadata": {},
   "source": [
    "### \"Last Updated\" ------------------------------------------\n",
    "*Fecha de la última actualización de la aplicación*"
   ]
  },
  {
   "cell_type": "code",
   "execution_count": 70,
   "metadata": {},
   "outputs": [
    {
     "data": {
      "text/plain": [
       "count              10840\n",
       "unique              1377\n",
       "top       August 3, 2018\n",
       "freq                 326\n",
       "Name: Last Updated, dtype: object"
      ]
     },
     "execution_count": 70,
     "metadata": {},
     "output_type": "execute_result"
    }
   ],
   "source": [
    "google['Last Updated'].describe()"
   ]
  },
  {
   "cell_type": "code",
   "execution_count": 71,
   "metadata": {},
   "outputs": [
    {
     "data": {
      "text/plain": [
       "7297         July 30, 2014\n",
       "7385     September 1, 2015\n",
       "5768         July 16, 2018\n",
       "1594          July 3, 2018\n",
       "42           July 30, 2018\n",
       "5452     November 21, 2017\n",
       "9609     December 20, 2017\n",
       "33         January 6, 2018\n",
       "7133    September 13, 2016\n",
       "3086          May 15, 2018\n",
       "Name: Last Updated, dtype: object"
      ]
     },
     "execution_count": 71,
     "metadata": {},
     "output_type": "execute_result"
    }
   ],
   "source": [
    "google['Last Updated'].sample(10)"
   ]
  },
  {
   "attachments": {},
   "cell_type": "markdown",
   "metadata": {},
   "source": [
    "Podemos observar que:\n",
    "- Es una variable tipo 'object' categórica\n",
    "- No podemos usar este tipo de datos para los modelos de Predicción\n",
    "- En todo caso, deberemos pasar los datos a nuevas columnas independientes con el año, mes e incluso día aunque no es una información muy interesante\n",
    "- De todas formas en este estudio obviaremos esta columna, por lo que pasaremos a eliminarla."
   ]
  },
  {
   "cell_type": "code",
   "execution_count": 72,
   "metadata": {},
   "outputs": [],
   "source": [
    "google.drop([\"Last Updated\"],axis=1, inplace=True)"
   ]
  },
  {
   "attachments": {},
   "cell_type": "markdown",
   "metadata": {},
   "source": [
    "Comprobamos los cambios realizados en el dataset"
   ]
  },
  {
   "cell_type": "code",
   "execution_count": 73,
   "metadata": {},
   "outputs": [
    {
     "data": {
      "text/html": [
       "<div>\n",
       "<style scoped>\n",
       "    .dataframe tbody tr th:only-of-type {\n",
       "        vertical-align: middle;\n",
       "    }\n",
       "\n",
       "    .dataframe tbody tr th {\n",
       "        vertical-align: top;\n",
       "    }\n",
       "\n",
       "    .dataframe thead th {\n",
       "        text-align: right;\n",
       "    }\n",
       "</style>\n",
       "<table border=\"1\" class=\"dataframe\">\n",
       "  <thead>\n",
       "    <tr style=\"text-align: right;\">\n",
       "      <th></th>\n",
       "      <th>Category</th>\n",
       "      <th>Rating</th>\n",
       "      <th>Reviews</th>\n",
       "      <th>Size</th>\n",
       "      <th>Installs</th>\n",
       "      <th>Type</th>\n",
       "      <th>Price</th>\n",
       "      <th>Content Rating</th>\n",
       "      <th>Genres</th>\n",
       "      <th>Current Ver</th>\n",
       "      <th>Android Ver</th>\n",
       "    </tr>\n",
       "  </thead>\n",
       "  <tbody>\n",
       "    <tr>\n",
       "      <th>9653</th>\n",
       "      <td>BUSINESS</td>\n",
       "      <td>4.2</td>\n",
       "      <td>0</td>\n",
       "      <td>11.0</td>\n",
       "      <td>10</td>\n",
       "      <td>Free</td>\n",
       "      <td>0.0</td>\n",
       "      <td>Teen</td>\n",
       "      <td>Business</td>\n",
       "      <td>v2.7.11.27</td>\n",
       "      <td>4.1 and up</td>\n",
       "    </tr>\n",
       "    <tr>\n",
       "      <th>6939</th>\n",
       "      <td>PHOTOGRAPHY</td>\n",
       "      <td>3.9</td>\n",
       "      <td>205</td>\n",
       "      <td>2.4</td>\n",
       "      <td>50000</td>\n",
       "      <td>Free</td>\n",
       "      <td>0.0</td>\n",
       "      <td>Everyone</td>\n",
       "      <td>Photography</td>\n",
       "      <td>1.0.5</td>\n",
       "      <td>4.0 and up</td>\n",
       "    </tr>\n",
       "    <tr>\n",
       "      <th>9324</th>\n",
       "      <td>PRODUCTIVITY</td>\n",
       "      <td>4.2</td>\n",
       "      <td>3</td>\n",
       "      <td>4.4</td>\n",
       "      <td>100</td>\n",
       "      <td>Free</td>\n",
       "      <td>0.0</td>\n",
       "      <td>Everyone</td>\n",
       "      <td>Productivity</td>\n",
       "      <td>4.2</td>\n",
       "      <td>4.0.3 and up</td>\n",
       "    </tr>\n",
       "    <tr>\n",
       "      <th>9038</th>\n",
       "      <td>FAMILY</td>\n",
       "      <td>4.3</td>\n",
       "      <td>1894</td>\n",
       "      <td>40.0</td>\n",
       "      <td>100000</td>\n",
       "      <td>Free</td>\n",
       "      <td>0.0</td>\n",
       "      <td>Mature 17+</td>\n",
       "      <td>Simulation</td>\n",
       "      <td>1.441</td>\n",
       "      <td>2.3 and up</td>\n",
       "    </tr>\n",
       "    <tr>\n",
       "      <th>2711</th>\n",
       "      <td>SHOPPING</td>\n",
       "      <td>4.3</td>\n",
       "      <td>213735</td>\n",
       "      <td>43.0</td>\n",
       "      <td>10000000</td>\n",
       "      <td>Free</td>\n",
       "      <td>0.0</td>\n",
       "      <td>Everyone</td>\n",
       "      <td>Shopping</td>\n",
       "      <td>5.3.73</td>\n",
       "      <td>4.4 and up</td>\n",
       "    </tr>\n",
       "    <tr>\n",
       "      <th>10272</th>\n",
       "      <td>SPORTS</td>\n",
       "      <td>4.5</td>\n",
       "      <td>5675</td>\n",
       "      <td>49.0</td>\n",
       "      <td>100000</td>\n",
       "      <td>Free</td>\n",
       "      <td>0.0</td>\n",
       "      <td>Everyone</td>\n",
       "      <td>Sports</td>\n",
       "      <td>3.0.10</td>\n",
       "      <td>4.1 and up</td>\n",
       "    </tr>\n",
       "    <tr>\n",
       "      <th>7572</th>\n",
       "      <td>PHOTOGRAPHY</td>\n",
       "      <td>4.6</td>\n",
       "      <td>847144</td>\n",
       "      <td>4.2</td>\n",
       "      <td>10000000</td>\n",
       "      <td>Free</td>\n",
       "      <td>0.0</td>\n",
       "      <td>Everyone</td>\n",
       "      <td>Photography</td>\n",
       "      <td>4.7.4</td>\n",
       "      <td>4.0 and up</td>\n",
       "    </tr>\n",
       "    <tr>\n",
       "      <th>1438</th>\n",
       "      <td>HEALTH_AND_FITNESS</td>\n",
       "      <td>4.6</td>\n",
       "      <td>111455</td>\n",
       "      <td>21.5</td>\n",
       "      <td>5000000</td>\n",
       "      <td>Free</td>\n",
       "      <td>0.0</td>\n",
       "      <td>Everyone</td>\n",
       "      <td>Health &amp; Fitness</td>\n",
       "      <td>Varies with device</td>\n",
       "      <td>Varies with device</td>\n",
       "    </tr>\n",
       "    <tr>\n",
       "      <th>27</th>\n",
       "      <td>ART_AND_DESIGN</td>\n",
       "      <td>4.1</td>\n",
       "      <td>203</td>\n",
       "      <td>6.1</td>\n",
       "      <td>100000</td>\n",
       "      <td>Free</td>\n",
       "      <td>0.0</td>\n",
       "      <td>Everyone</td>\n",
       "      <td>Art &amp; Design</td>\n",
       "      <td>1.03</td>\n",
       "      <td>4.0.3 and up</td>\n",
       "    </tr>\n",
       "    <tr>\n",
       "      <th>4049</th>\n",
       "      <td>VIDEO_PLAYERS</td>\n",
       "      <td>4.5</td>\n",
       "      <td>1013867</td>\n",
       "      <td>32.0</td>\n",
       "      <td>50000000</td>\n",
       "      <td>Free</td>\n",
       "      <td>0.0</td>\n",
       "      <td>Everyone</td>\n",
       "      <td>Video Players &amp; Editors</td>\n",
       "      <td>4.5.0.10701.GP</td>\n",
       "      <td>4.1 and up</td>\n",
       "    </tr>\n",
       "  </tbody>\n",
       "</table>\n",
       "</div>"
      ],
      "text/plain": [
       "                 Category  Rating  Reviews  Size  Installs  Type  Price  \\\n",
       "9653             BUSINESS     4.2        0  11.0        10  Free    0.0   \n",
       "6939          PHOTOGRAPHY     3.9      205   2.4     50000  Free    0.0   \n",
       "9324         PRODUCTIVITY     4.2        3   4.4       100  Free    0.0   \n",
       "9038               FAMILY     4.3     1894  40.0    100000  Free    0.0   \n",
       "2711             SHOPPING     4.3   213735  43.0  10000000  Free    0.0   \n",
       "10272              SPORTS     4.5     5675  49.0    100000  Free    0.0   \n",
       "7572          PHOTOGRAPHY     4.6   847144   4.2  10000000  Free    0.0   \n",
       "1438   HEALTH_AND_FITNESS     4.6   111455  21.5   5000000  Free    0.0   \n",
       "27         ART_AND_DESIGN     4.1      203   6.1    100000  Free    0.0   \n",
       "4049        VIDEO_PLAYERS     4.5  1013867  32.0  50000000  Free    0.0   \n",
       "\n",
       "      Content Rating                   Genres         Current Ver  \\\n",
       "9653            Teen                 Business          v2.7.11.27   \n",
       "6939        Everyone              Photography               1.0.5   \n",
       "9324        Everyone             Productivity                 4.2   \n",
       "9038      Mature 17+               Simulation               1.441   \n",
       "2711        Everyone                 Shopping              5.3.73   \n",
       "10272       Everyone                   Sports              3.0.10   \n",
       "7572        Everyone              Photography               4.7.4   \n",
       "1438        Everyone         Health & Fitness  Varies with device   \n",
       "27          Everyone             Art & Design                1.03   \n",
       "4049        Everyone  Video Players & Editors      4.5.0.10701.GP   \n",
       "\n",
       "              Android Ver  \n",
       "9653           4.1 and up  \n",
       "6939           4.0 and up  \n",
       "9324         4.0.3 and up  \n",
       "9038           2.3 and up  \n",
       "2711           4.4 and up  \n",
       "10272          4.1 and up  \n",
       "7572           4.0 and up  \n",
       "1438   Varies with device  \n",
       "27           4.0.3 and up  \n",
       "4049           4.1 and up  "
      ]
     },
     "execution_count": 73,
     "metadata": {},
     "output_type": "execute_result"
    }
   ],
   "source": [
    "google.sample(10)"
   ]
  },
  {
   "attachments": {},
   "cell_type": "markdown",
   "metadata": {},
   "source": [
    "### \"Current Ver\" ------------------------------------------\n",
    "*Número de la versión de la aplicación*"
   ]
  },
  {
   "cell_type": "code",
   "execution_count": 74,
   "metadata": {},
   "outputs": [
    {
     "data": {
      "text/plain": [
       "count                  10832\n",
       "unique                  2831\n",
       "top       Varies with device\n",
       "freq                    1459\n",
       "Name: Current Ver, dtype: object"
      ]
     },
     "execution_count": 74,
     "metadata": {},
     "output_type": "execute_result"
    }
   ],
   "source": [
    "google['Current Ver'].describe()"
   ]
  },
  {
   "attachments": {},
   "cell_type": "markdown",
   "metadata": {},
   "source": [
    "Podemos observar que :\n",
    "- No es un dato útil, ya que cada versión de las aplicaciones es diferentes, y no se puede hacer una correlación entre el número de versión y el Rating, ya que es algo subjetivo del equipo de desarrollo\n",
    "- Pasamos a la elminación de esta variable"
   ]
  },
  {
   "cell_type": "code",
   "execution_count": 75,
   "metadata": {},
   "outputs": [],
   "source": [
    "google.drop([\"Current Ver\"],axis=1, inplace=True)"
   ]
  },
  {
   "attachments": {},
   "cell_type": "markdown",
   "metadata": {},
   "source": [
    "### \"Android Ver\" ------------------------------------------\n",
    "*Número de versión del sistema operativo para la que está diseñada la aplicación*"
   ]
  },
  {
   "cell_type": "code",
   "execution_count": 76,
   "metadata": {},
   "outputs": [
    {
     "data": {
      "text/plain": [
       "count          10838\n",
       "unique            33\n",
       "top       4.1 and up\n",
       "freq            2451\n",
       "Name: Android Ver, dtype: object"
      ]
     },
     "execution_count": 76,
     "metadata": {},
     "output_type": "execute_result"
    }
   ],
   "source": [
    "google['Android Ver'].describe()"
   ]
  },
  {
   "cell_type": "code",
   "execution_count": 77,
   "metadata": {},
   "outputs": [
    {
     "data": {
      "text/plain": [
       "851            4.0.3 and up\n",
       "3440     Varies with device\n",
       "397              2.3 and up\n",
       "4709             4.1 and up\n",
       "3249     Varies with device\n",
       "2448             4.1 and up\n",
       "9486           4.0.3 and up\n",
       "9289             4.3 and up\n",
       "10185            4.1 and up\n",
       "717              4.4 and up\n",
       "Name: Android Ver, dtype: object"
      ]
     },
     "execution_count": 77,
     "metadata": {},
     "output_type": "execute_result"
    }
   ],
   "source": [
    "google['Android Ver'].sample(10)"
   ]
  },
  {
   "cell_type": "code",
   "execution_count": 78,
   "metadata": {},
   "outputs": [
    {
     "data": {
      "image/png": "[encoded data removed]",
      "text/plain": [
       "<Figure size 800x500 with 1 Axes>"
      ]
     },
     "metadata": {},
     "output_type": "display_data"
    }
   ],
   "source": [
    "plt.rcParams['font.size'] =7\n",
    "mpl.rc('axes',  labelsize=7)\n",
    "mpl.rc('xtick', labelsize=7)\n",
    "mpl.rc('ytick', labelsize=7)\n",
    "\n",
    "data = list(google['Android Ver'].value_counts())\n",
    "labels = google['Android Ver'].value_counts().index.tolist()\n",
    "colors = sns.color_palette('pastel')[0:5]\n",
    "plt.pie(data, labels = labels, colors = colors, autopct='%.0f%%');"
   ]
  },
  {
   "attachments": {},
   "cell_type": "markdown",
   "metadata": {},
   "source": [
    "Podemos observar que :\n",
    "- La más numerosas son:\n",
    "    - 4.1 and up        23%\n",
    "    - 4.0.3 and up      14%\n",
    "    - 4.0 and up        13%\n",
    "    - Varies con Device 13%\n",
    "- Es una columna categórica.\n",
    "- Como son variables categóricas, necesitamos convertirlas, para poder usarlo en el modelo de clasificación.\n",
    "- Pasaremos a usar \"OneHotEncoder\"\n",
    "- Lo haremos en un posterior punto, junto a otras variables que también necesiten el uso de OneHotEncoder"
   ]
  },
  {
   "attachments": {},
   "cell_type": "markdown",
   "metadata": {},
   "source": [
    "\n",
    "---\n",
    "---"
   ]
  },
  {
   "attachments": {},
   "cell_type": "markdown",
   "metadata": {},
   "source": [
    "## Uso de OneHotEncoder para la gestión de las columnas categorizadas\n",
    "---"
   ]
  },
  {
   "cell_type": "markdown",
   "metadata": {},
   "source": [
    "Ante de nada realizaremos un Backup de los datos por si necesitáramos volver al estado anterior"
   ]
  },
  {
   "cell_type": "code",
   "execution_count": 79,
   "metadata": {},
   "outputs": [],
   "source": [
    "# Haremos una copia para ver los resultados \n",
    "google_backup = google.copy()"
   ]
  },
  {
   "cell_type": "markdown",
   "metadata": {},
   "source": [
    "Crearemos una nueva variable con el Dataframe Normalizado llamdo \"titanic_norm\""
   ]
  },
  {
   "cell_type": "code",
   "execution_count": 80,
   "metadata": {},
   "outputs": [],
   "source": [
    "google_norm = google.copy()"
   ]
  },
  {
   "cell_type": "markdown",
   "metadata": {},
   "source": [
    "Llamamos a la librería \"OneHotEncoder\" de Sklearn"
   ]
  },
  {
   "cell_type": "code",
   "execution_count": 81,
   "metadata": {},
   "outputs": [],
   "source": [
    "# Declaramos la librería OneHotEncoder de sklearn\n",
    "from sklearn.preprocessing import OneHotEncoder"
   ]
  },
  {
   "cell_type": "markdown",
   "metadata": {},
   "source": [
    "Usamos el método con cada una de las columnas categóricas, empezando por\n"
   ]
  },
  {
   "attachments": {},
   "cell_type": "markdown",
   "metadata": {},
   "source": [
    "#### Category -----------------------------------"
   ]
  },
  {
   "cell_type": "code",
   "execution_count": 82,
   "metadata": {},
   "outputs": [
    {
     "name": "stdout",
     "output_type": "stream",
     "text": [
      "<class 'pandas.core.frame.DataFrame'>\n",
      "RangeIndex: 10840 entries, 0 to 10839\n",
      "Data columns (total 42 columns):\n",
      " #   Column               Non-Null Count  Dtype  \n",
      "---  ------               --------------  -----  \n",
      " 0   Rating               10840 non-null  float64\n",
      " 1   Reviews              10840 non-null  int32  \n",
      " 2   Size                 10840 non-null  float64\n",
      " 3   Installs             10840 non-null  int32  \n",
      " 4   Type                 10840 non-null  object \n",
      " 5   Price                10840 non-null  float64\n",
      " 6   Content Rating       10840 non-null  object \n",
      " 7   Genres               10840 non-null  object \n",
      " 8   Android Ver          10838 non-null  object \n",
      " 9   ART_AND_DESIGN       10840 non-null  float64\n",
      " 10  AUTO_AND_VEHICLES    10840 non-null  float64\n",
      " 11  BEAUTY               10840 non-null  float64\n",
      " 12  BOOKS_AND_REFERENCE  10840 non-null  float64\n",
      " 13  BUSINESS             10840 non-null  float64\n",
      " 14  COMICS               10840 non-null  float64\n",
      " 15  COMMUNICATION        10840 non-null  float64\n",
      " 16  DATING               10840 non-null  float64\n",
      " 17  EDUCATION            10840 non-null  float64\n",
      " 18  ENTERTAINMENT        10840 non-null  float64\n",
      " 19  EVENTS               10840 non-null  float64\n",
      " 20  FAMILY               10840 non-null  float64\n",
      " 21  FINANCE              10840 non-null  float64\n",
      " 22  FOOD_AND_DRINK       10840 non-null  float64\n",
      " 23  GAME                 10840 non-null  float64\n",
      " 24  HEALTH_AND_FITNESS   10840 non-null  float64\n",
      " 25  HOUSE_AND_HOME       10840 non-null  float64\n",
      " 26  LIBRARIES_AND_DEMO   10840 non-null  float64\n",
      " 27  LIFESTYLE            10840 non-null  float64\n",
      " 28  MAPS_AND_NAVIGATION  10840 non-null  float64\n",
      " 29  MEDICAL              10840 non-null  float64\n",
      " 30  NEWS_AND_MAGAZINES   10840 non-null  float64\n",
      " 31  PARENTING            10840 non-null  float64\n",
      " 32  PERSONALIZATION      10840 non-null  float64\n",
      " 33  PHOTOGRAPHY          10840 non-null  float64\n",
      " 34  PRODUCTIVITY         10840 non-null  float64\n",
      " 35  SHOPPING             10840 non-null  float64\n",
      " 36  SOCIAL               10840 non-null  float64\n",
      " 37  SPORTS               10840 non-null  float64\n",
      " 38  TOOLS                10840 non-null  float64\n",
      " 39  TRAVEL_AND_LOCAL     10840 non-null  float64\n",
      " 40  VIDEO_PLAYERS        10840 non-null  float64\n",
      " 41  WEATHER              10840 non-null  float64\n",
      "dtypes: float64(36), int32(2), object(4)\n",
      "memory usage: 3.4+ MB\n"
     ]
    },
    {
     "data": {
      "text/html": [
       "<div>\n",
       "<style scoped>\n",
       "    .dataframe tbody tr th:only-of-type {\n",
       "        vertical-align: middle;\n",
       "    }\n",
       "\n",
       "    .dataframe tbody tr th {\n",
       "        vertical-align: top;\n",
       "    }\n",
       "\n",
       "    .dataframe thead th {\n",
       "        text-align: right;\n",
       "    }\n",
       "</style>\n",
       "<table border=\"1\" class=\"dataframe\">\n",
       "  <thead>\n",
       "    <tr style=\"text-align: right;\">\n",
       "      <th></th>\n",
       "      <th>Rating</th>\n",
       "      <th>Reviews</th>\n",
       "      <th>Size</th>\n",
       "      <th>Installs</th>\n",
       "      <th>Type</th>\n",
       "      <th>Price</th>\n",
       "      <th>Content Rating</th>\n",
       "      <th>Genres</th>\n",
       "      <th>Android Ver</th>\n",
       "      <th>ART_AND_DESIGN</th>\n",
       "      <th>...</th>\n",
       "      <th>PERSONALIZATION</th>\n",
       "      <th>PHOTOGRAPHY</th>\n",
       "      <th>PRODUCTIVITY</th>\n",
       "      <th>SHOPPING</th>\n",
       "      <th>SOCIAL</th>\n",
       "      <th>SPORTS</th>\n",
       "      <th>TOOLS</th>\n",
       "      <th>TRAVEL_AND_LOCAL</th>\n",
       "      <th>VIDEO_PLAYERS</th>\n",
       "      <th>WEATHER</th>\n",
       "    </tr>\n",
       "  </thead>\n",
       "  <tbody>\n",
       "    <tr>\n",
       "      <th>0</th>\n",
       "      <td>4.1</td>\n",
       "      <td>159</td>\n",
       "      <td>19.0</td>\n",
       "      <td>10000</td>\n",
       "      <td>Free</td>\n",
       "      <td>0.0</td>\n",
       "      <td>Everyone</td>\n",
       "      <td>Art &amp; Design</td>\n",
       "      <td>4.0.3 and up</td>\n",
       "      <td>1.0</td>\n",
       "      <td>...</td>\n",
       "      <td>0.0</td>\n",
       "      <td>0.0</td>\n",
       "      <td>0.0</td>\n",
       "      <td>0.0</td>\n",
       "      <td>0.0</td>\n",
       "      <td>0.0</td>\n",
       "      <td>0.0</td>\n",
       "      <td>0.0</td>\n",
       "      <td>0.0</td>\n",
       "      <td>0.0</td>\n",
       "    </tr>\n",
       "    <tr>\n",
       "      <th>1</th>\n",
       "      <td>3.9</td>\n",
       "      <td>967</td>\n",
       "      <td>14.0</td>\n",
       "      <td>500000</td>\n",
       "      <td>Free</td>\n",
       "      <td>0.0</td>\n",
       "      <td>Everyone</td>\n",
       "      <td>Art &amp; Design;Pretend Play</td>\n",
       "      <td>4.0.3 and up</td>\n",
       "      <td>1.0</td>\n",
       "      <td>...</td>\n",
       "      <td>0.0</td>\n",
       "      <td>0.0</td>\n",
       "      <td>0.0</td>\n",
       "      <td>0.0</td>\n",
       "      <td>0.0</td>\n",
       "      <td>0.0</td>\n",
       "      <td>0.0</td>\n",
       "      <td>0.0</td>\n",
       "      <td>0.0</td>\n",
       "      <td>0.0</td>\n",
       "    </tr>\n",
       "    <tr>\n",
       "      <th>2</th>\n",
       "      <td>4.7</td>\n",
       "      <td>87510</td>\n",
       "      <td>8.7</td>\n",
       "      <td>5000000</td>\n",
       "      <td>Free</td>\n",
       "      <td>0.0</td>\n",
       "      <td>Everyone</td>\n",
       "      <td>Art &amp; Design</td>\n",
       "      <td>4.0.3 and up</td>\n",
       "      <td>1.0</td>\n",
       "      <td>...</td>\n",
       "      <td>0.0</td>\n",
       "      <td>0.0</td>\n",
       "      <td>0.0</td>\n",
       "      <td>0.0</td>\n",
       "      <td>0.0</td>\n",
       "      <td>0.0</td>\n",
       "      <td>0.0</td>\n",
       "      <td>0.0</td>\n",
       "      <td>0.0</td>\n",
       "      <td>0.0</td>\n",
       "    </tr>\n",
       "    <tr>\n",
       "      <th>3</th>\n",
       "      <td>4.5</td>\n",
       "      <td>215644</td>\n",
       "      <td>25.0</td>\n",
       "      <td>50000000</td>\n",
       "      <td>Free</td>\n",
       "      <td>0.0</td>\n",
       "      <td>Teen</td>\n",
       "      <td>Art &amp; Design</td>\n",
       "      <td>4.2 and up</td>\n",
       "      <td>1.0</td>\n",
       "      <td>...</td>\n",
       "      <td>0.0</td>\n",
       "      <td>0.0</td>\n",
       "      <td>0.0</td>\n",
       "      <td>0.0</td>\n",
       "      <td>0.0</td>\n",
       "      <td>0.0</td>\n",
       "      <td>0.0</td>\n",
       "      <td>0.0</td>\n",
       "      <td>0.0</td>\n",
       "      <td>0.0</td>\n",
       "    </tr>\n",
       "    <tr>\n",
       "      <th>4</th>\n",
       "      <td>4.3</td>\n",
       "      <td>967</td>\n",
       "      <td>2.8</td>\n",
       "      <td>100000</td>\n",
       "      <td>Free</td>\n",
       "      <td>0.0</td>\n",
       "      <td>Everyone</td>\n",
       "      <td>Art &amp; Design;Creativity</td>\n",
       "      <td>4.4 and up</td>\n",
       "      <td>1.0</td>\n",
       "      <td>...</td>\n",
       "      <td>0.0</td>\n",
       "      <td>0.0</td>\n",
       "      <td>0.0</td>\n",
       "      <td>0.0</td>\n",
       "      <td>0.0</td>\n",
       "      <td>0.0</td>\n",
       "      <td>0.0</td>\n",
       "      <td>0.0</td>\n",
       "      <td>0.0</td>\n",
       "      <td>0.0</td>\n",
       "    </tr>\n",
       "  </tbody>\n",
       "</table>\n",
       "<p>5 rows × 42 columns</p>\n",
       "</div>"
      ],
      "text/plain": [
       "   Rating  Reviews  Size  Installs  Type  Price Content Rating  \\\n",
       "0     4.1      159  19.0     10000  Free    0.0       Everyone   \n",
       "1     3.9      967  14.0    500000  Free    0.0       Everyone   \n",
       "2     4.7    87510   8.7   5000000  Free    0.0       Everyone   \n",
       "3     4.5   215644  25.0  50000000  Free    0.0           Teen   \n",
       "4     4.3      967   2.8    100000  Free    0.0       Everyone   \n",
       "\n",
       "                      Genres   Android Ver  ART_AND_DESIGN  ...  \\\n",
       "0               Art & Design  4.0.3 and up             1.0  ...   \n",
       "1  Art & Design;Pretend Play  4.0.3 and up             1.0  ...   \n",
       "2               Art & Design  4.0.3 and up             1.0  ...   \n",
       "3               Art & Design    4.2 and up             1.0  ...   \n",
       "4    Art & Design;Creativity    4.4 and up             1.0  ...   \n",
       "\n",
       "   PERSONALIZATION  PHOTOGRAPHY  PRODUCTIVITY  SHOPPING  SOCIAL  SPORTS  \\\n",
       "0              0.0          0.0           0.0       0.0     0.0     0.0   \n",
       "1              0.0          0.0           0.0       0.0     0.0     0.0   \n",
       "2              0.0          0.0           0.0       0.0     0.0     0.0   \n",
       "3              0.0          0.0           0.0       0.0     0.0     0.0   \n",
       "4              0.0          0.0           0.0       0.0     0.0     0.0   \n",
       "\n",
       "   TOOLS  TRAVEL_AND_LOCAL  VIDEO_PLAYERS  WEATHER  \n",
       "0    0.0               0.0            0.0      0.0  \n",
       "1    0.0               0.0            0.0      0.0  \n",
       "2    0.0               0.0            0.0      0.0  \n",
       "3    0.0               0.0            0.0      0.0  \n",
       "4    0.0               0.0            0.0      0.0  \n",
       "\n",
       "[5 rows x 42 columns]"
      ]
     },
     "execution_count": 82,
     "metadata": {},
     "output_type": "execute_result"
    }
   ],
   "source": [
    "# agregamos la columna a la variable\n",
    "cat_cat = google[ [\"Category\"] ]\n",
    "# Llamamor al método\n",
    "cat_encoder =OneHotEncoder(sparse=False)\n",
    "# para la categoria \n",
    "cat_cat_1hot = cat_encoder.fit_transform(cat_cat)\n",
    "\n",
    "# Agregar las columnas nuevas por cada categoría\n",
    "google_norm.reset_index(drop=False, inplace=True)\n",
    "google_norm=google_norm.join(pd.DataFrame(cat_cat_1hot, columns=[cat for cat in cat_encoder.categories_[0]]))\n",
    "# Borraremos la columna categorizada, así como el index que se añadió al realizar el join \n",
    "google_norm=google_norm.drop([\"Category\",\"index\"], axis=1)\n",
    "# Mostramos el resultado\n",
    "google_norm.info()\n",
    "google_norm.head()"
   ]
  },
  {
   "attachments": {},
   "cell_type": "markdown",
   "metadata": {},
   "source": [
    "### Type -----------------------------------------"
   ]
  },
  {
   "cell_type": "code",
   "execution_count": 83,
   "metadata": {},
   "outputs": [
    {
     "name": "stdout",
     "output_type": "stream",
     "text": [
      "<class 'pandas.core.frame.DataFrame'>\n",
      "RangeIndex: 10840 entries, 0 to 10839\n",
      "Data columns (total 43 columns):\n",
      " #   Column               Non-Null Count  Dtype  \n",
      "---  ------               --------------  -----  \n",
      " 0   Rating               10840 non-null  float64\n",
      " 1   Reviews              10840 non-null  int32  \n",
      " 2   Size                 10840 non-null  float64\n",
      " 3   Installs             10840 non-null  int32  \n",
      " 4   Price                10840 non-null  float64\n",
      " 5   Content Rating       10840 non-null  object \n",
      " 6   Genres               10840 non-null  object \n",
      " 7   Android Ver          10838 non-null  object \n",
      " 8   ART_AND_DESIGN       10840 non-null  float64\n",
      " 9   AUTO_AND_VEHICLES    10840 non-null  float64\n",
      " 10  BEAUTY               10840 non-null  float64\n",
      " 11  BOOKS_AND_REFERENCE  10840 non-null  float64\n",
      " 12  BUSINESS             10840 non-null  float64\n",
      " 13  COMICS               10840 non-null  float64\n",
      " 14  COMMUNICATION        10840 non-null  float64\n",
      " 15  DATING               10840 non-null  float64\n",
      " 16  EDUCATION            10840 non-null  float64\n",
      " 17  ENTERTAINMENT        10840 non-null  float64\n",
      " 18  EVENTS               10840 non-null  float64\n",
      " 19  FAMILY               10840 non-null  float64\n",
      " 20  FINANCE              10840 non-null  float64\n",
      " 21  FOOD_AND_DRINK       10840 non-null  float64\n",
      " 22  GAME                 10840 non-null  float64\n",
      " 23  HEALTH_AND_FITNESS   10840 non-null  float64\n",
      " 24  HOUSE_AND_HOME       10840 non-null  float64\n",
      " 25  LIBRARIES_AND_DEMO   10840 non-null  float64\n",
      " 26  LIFESTYLE            10840 non-null  float64\n",
      " 27  MAPS_AND_NAVIGATION  10840 non-null  float64\n",
      " 28  MEDICAL              10840 non-null  float64\n",
      " 29  NEWS_AND_MAGAZINES   10840 non-null  float64\n",
      " 30  PARENTING            10840 non-null  float64\n",
      " 31  PERSONALIZATION      10840 non-null  float64\n",
      " 32  PHOTOGRAPHY          10840 non-null  float64\n",
      " 33  PRODUCTIVITY         10840 non-null  float64\n",
      " 34  SHOPPING             10840 non-null  float64\n",
      " 35  SOCIAL               10840 non-null  float64\n",
      " 36  SPORTS               10840 non-null  float64\n",
      " 37  TOOLS                10840 non-null  float64\n",
      " 38  TRAVEL_AND_LOCAL     10840 non-null  float64\n",
      " 39  VIDEO_PLAYERS        10840 non-null  float64\n",
      " 40  WEATHER              10840 non-null  float64\n",
      " 41  Free                 10840 non-null  float64\n",
      " 42  Paid                 10840 non-null  float64\n",
      "dtypes: float64(38), int32(2), object(3)\n",
      "memory usage: 3.5+ MB\n"
     ]
    },
    {
     "data": {
      "text/html": [
       "<div>\n",
       "<style scoped>\n",
       "    .dataframe tbody tr th:only-of-type {\n",
       "        vertical-align: middle;\n",
       "    }\n",
       "\n",
       "    .dataframe tbody tr th {\n",
       "        vertical-align: top;\n",
       "    }\n",
       "\n",
       "    .dataframe thead th {\n",
       "        text-align: right;\n",
       "    }\n",
       "</style>\n",
       "<table border=\"1\" class=\"dataframe\">\n",
       "  <thead>\n",
       "    <tr style=\"text-align: right;\">\n",
       "      <th></th>\n",
       "      <th>Rating</th>\n",
       "      <th>Reviews</th>\n",
       "      <th>Size</th>\n",
       "      <th>Installs</th>\n",
       "      <th>Price</th>\n",
       "      <th>Content Rating</th>\n",
       "      <th>Genres</th>\n",
       "      <th>Android Ver</th>\n",
       "      <th>ART_AND_DESIGN</th>\n",
       "      <th>AUTO_AND_VEHICLES</th>\n",
       "      <th>...</th>\n",
       "      <th>PRODUCTIVITY</th>\n",
       "      <th>SHOPPING</th>\n",
       "      <th>SOCIAL</th>\n",
       "      <th>SPORTS</th>\n",
       "      <th>TOOLS</th>\n",
       "      <th>TRAVEL_AND_LOCAL</th>\n",
       "      <th>VIDEO_PLAYERS</th>\n",
       "      <th>WEATHER</th>\n",
       "      <th>Free</th>\n",
       "      <th>Paid</th>\n",
       "    </tr>\n",
       "  </thead>\n",
       "  <tbody>\n",
       "    <tr>\n",
       "      <th>0</th>\n",
       "      <td>4.1</td>\n",
       "      <td>159</td>\n",
       "      <td>19.0</td>\n",
       "      <td>10000</td>\n",
       "      <td>0.0</td>\n",
       "      <td>Everyone</td>\n",
       "      <td>Art &amp; Design</td>\n",
       "      <td>4.0.3 and up</td>\n",
       "      <td>1.0</td>\n",
       "      <td>0.0</td>\n",
       "      <td>...</td>\n",
       "      <td>0.0</td>\n",
       "      <td>0.0</td>\n",
       "      <td>0.0</td>\n",
       "      <td>0.0</td>\n",
       "      <td>0.0</td>\n",
       "      <td>0.0</td>\n",
       "      <td>0.0</td>\n",
       "      <td>0.0</td>\n",
       "      <td>1.0</td>\n",
       "      <td>0.0</td>\n",
       "    </tr>\n",
       "    <tr>\n",
       "      <th>1</th>\n",
       "      <td>3.9</td>\n",
       "      <td>967</td>\n",
       "      <td>14.0</td>\n",
       "      <td>500000</td>\n",
       "      <td>0.0</td>\n",
       "      <td>Everyone</td>\n",
       "      <td>Art &amp; Design;Pretend Play</td>\n",
       "      <td>4.0.3 and up</td>\n",
       "      <td>1.0</td>\n",
       "      <td>0.0</td>\n",
       "      <td>...</td>\n",
       "      <td>0.0</td>\n",
       "      <td>0.0</td>\n",
       "      <td>0.0</td>\n",
       "      <td>0.0</td>\n",
       "      <td>0.0</td>\n",
       "      <td>0.0</td>\n",
       "      <td>0.0</td>\n",
       "      <td>0.0</td>\n",
       "      <td>1.0</td>\n",
       "      <td>0.0</td>\n",
       "    </tr>\n",
       "    <tr>\n",
       "      <th>2</th>\n",
       "      <td>4.7</td>\n",
       "      <td>87510</td>\n",
       "      <td>8.7</td>\n",
       "      <td>5000000</td>\n",
       "      <td>0.0</td>\n",
       "      <td>Everyone</td>\n",
       "      <td>Art &amp; Design</td>\n",
       "      <td>4.0.3 and up</td>\n",
       "      <td>1.0</td>\n",
       "      <td>0.0</td>\n",
       "      <td>...</td>\n",
       "      <td>0.0</td>\n",
       "      <td>0.0</td>\n",
       "      <td>0.0</td>\n",
       "      <td>0.0</td>\n",
       "      <td>0.0</td>\n",
       "      <td>0.0</td>\n",
       "      <td>0.0</td>\n",
       "      <td>0.0</td>\n",
       "      <td>1.0</td>\n",
       "      <td>0.0</td>\n",
       "    </tr>\n",
       "    <tr>\n",
       "      <th>3</th>\n",
       "      <td>4.5</td>\n",
       "      <td>215644</td>\n",
       "      <td>25.0</td>\n",
       "      <td>50000000</td>\n",
       "      <td>0.0</td>\n",
       "      <td>Teen</td>\n",
       "      <td>Art &amp; Design</td>\n",
       "      <td>4.2 and up</td>\n",
       "      <td>1.0</td>\n",
       "      <td>0.0</td>\n",
       "      <td>...</td>\n",
       "      <td>0.0</td>\n",
       "      <td>0.0</td>\n",
       "      <td>0.0</td>\n",
       "      <td>0.0</td>\n",
       "      <td>0.0</td>\n",
       "      <td>0.0</td>\n",
       "      <td>0.0</td>\n",
       "      <td>0.0</td>\n",
       "      <td>1.0</td>\n",
       "      <td>0.0</td>\n",
       "    </tr>\n",
       "    <tr>\n",
       "      <th>4</th>\n",
       "      <td>4.3</td>\n",
       "      <td>967</td>\n",
       "      <td>2.8</td>\n",
       "      <td>100000</td>\n",
       "      <td>0.0</td>\n",
       "      <td>Everyone</td>\n",
       "      <td>Art &amp; Design;Creativity</td>\n",
       "      <td>4.4 and up</td>\n",
       "      <td>1.0</td>\n",
       "      <td>0.0</td>\n",
       "      <td>...</td>\n",
       "      <td>0.0</td>\n",
       "      <td>0.0</td>\n",
       "      <td>0.0</td>\n",
       "      <td>0.0</td>\n",
       "      <td>0.0</td>\n",
       "      <td>0.0</td>\n",
       "      <td>0.0</td>\n",
       "      <td>0.0</td>\n",
       "      <td>1.0</td>\n",
       "      <td>0.0</td>\n",
       "    </tr>\n",
       "  </tbody>\n",
       "</table>\n",
       "<p>5 rows × 43 columns</p>\n",
       "</div>"
      ],
      "text/plain": [
       "   Rating  Reviews  Size  Installs  Price Content Rating  \\\n",
       "0     4.1      159  19.0     10000    0.0       Everyone   \n",
       "1     3.9      967  14.0    500000    0.0       Everyone   \n",
       "2     4.7    87510   8.7   5000000    0.0       Everyone   \n",
       "3     4.5   215644  25.0  50000000    0.0           Teen   \n",
       "4     4.3      967   2.8    100000    0.0       Everyone   \n",
       "\n",
       "                      Genres   Android Ver  ART_AND_DESIGN  AUTO_AND_VEHICLES  \\\n",
       "0               Art & Design  4.0.3 and up             1.0                0.0   \n",
       "1  Art & Design;Pretend Play  4.0.3 and up             1.0                0.0   \n",
       "2               Art & Design  4.0.3 and up             1.0                0.0   \n",
       "3               Art & Design    4.2 and up             1.0                0.0   \n",
       "4    Art & Design;Creativity    4.4 and up             1.0                0.0   \n",
       "\n",
       "   ...  PRODUCTIVITY  SHOPPING  SOCIAL  SPORTS  TOOLS  TRAVEL_AND_LOCAL  \\\n",
       "0  ...           0.0       0.0     0.0     0.0    0.0               0.0   \n",
       "1  ...           0.0       0.0     0.0     0.0    0.0               0.0   \n",
       "2  ...           0.0       0.0     0.0     0.0    0.0               0.0   \n",
       "3  ...           0.0       0.0     0.0     0.0    0.0               0.0   \n",
       "4  ...           0.0       0.0     0.0     0.0    0.0               0.0   \n",
       "\n",
       "   VIDEO_PLAYERS  WEATHER  Free  Paid  \n",
       "0            0.0      0.0   1.0   0.0  \n",
       "1            0.0      0.0   1.0   0.0  \n",
       "2            0.0      0.0   1.0   0.0  \n",
       "3            0.0      0.0   1.0   0.0  \n",
       "4            0.0      0.0   1.0   0.0  \n",
       "\n",
       "[5 rows x 43 columns]"
      ]
     },
     "execution_count": 83,
     "metadata": {},
     "output_type": "execute_result"
    }
   ],
   "source": [
    "# agregamos la columna a la variable\n",
    "type_cat = google[ [\"Type\"] ]\n",
    "# Llamamor al método\n",
    "type_encoder =OneHotEncoder(sparse=False)\n",
    "# para la categoria \n",
    "type_cat_1hot = type_encoder.fit_transform(type_cat)\n",
    "\n",
    "# Agregar las columnas nuevas por cada categoría\n",
    "google_norm.reset_index(drop=False, inplace=True)\n",
    "google_norm=google_norm.join(pd.DataFrame(type_cat_1hot, columns=[cat for cat in type_encoder.categories_[0]]))\n",
    "# Borraremos la columna categorizada, así como el index que se añadió al realizar el join \n",
    "google_norm=google_norm.drop([\"Type\",\"index\"], axis=1)\n",
    "# Mostramos el resultado\n",
    "google_norm.info()\n",
    "google_norm.head()"
   ]
  },
  {
   "attachments": {},
   "cell_type": "markdown",
   "metadata": {},
   "source": [
    "### Content Rating -------------------------------------------"
   ]
  },
  {
   "cell_type": "code",
   "execution_count": 84,
   "metadata": {},
   "outputs": [
    {
     "name": "stdout",
     "output_type": "stream",
     "text": [
      "<class 'pandas.core.frame.DataFrame'>\n",
      "RangeIndex: 10840 entries, 0 to 10839\n",
      "Data columns (total 48 columns):\n",
      " #   Column               Non-Null Count  Dtype  \n",
      "---  ------               --------------  -----  \n",
      " 0   Rating               10840 non-null  float64\n",
      " 1   Reviews              10840 non-null  int32  \n",
      " 2   Size                 10840 non-null  float64\n",
      " 3   Installs             10840 non-null  int32  \n",
      " 4   Price                10840 non-null  float64\n",
      " 5   Genres               10840 non-null  object \n",
      " 6   Android Ver          10838 non-null  object \n",
      " 7   ART_AND_DESIGN       10840 non-null  float64\n",
      " 8   AUTO_AND_VEHICLES    10840 non-null  float64\n",
      " 9   BEAUTY               10840 non-null  float64\n",
      " 10  BOOKS_AND_REFERENCE  10840 non-null  float64\n",
      " 11  BUSINESS             10840 non-null  float64\n",
      " 12  COMICS               10840 non-null  float64\n",
      " 13  COMMUNICATION        10840 non-null  float64\n",
      " 14  DATING               10840 non-null  float64\n",
      " 15  EDUCATION            10840 non-null  float64\n",
      " 16  ENTERTAINMENT        10840 non-null  float64\n",
      " 17  EVENTS               10840 non-null  float64\n",
      " 18  FAMILY               10840 non-null  float64\n",
      " 19  FINANCE              10840 non-null  float64\n",
      " 20  FOOD_AND_DRINK       10840 non-null  float64\n",
      " 21  GAME                 10840 non-null  float64\n",
      " 22  HEALTH_AND_FITNESS   10840 non-null  float64\n",
      " 23  HOUSE_AND_HOME       10840 non-null  float64\n",
      " 24  LIBRARIES_AND_DEMO   10840 non-null  float64\n",
      " 25  LIFESTYLE            10840 non-null  float64\n",
      " 26  MAPS_AND_NAVIGATION  10840 non-null  float64\n",
      " 27  MEDICAL              10840 non-null  float64\n",
      " 28  NEWS_AND_MAGAZINES   10840 non-null  float64\n",
      " 29  PARENTING            10840 non-null  float64\n",
      " 30  PERSONALIZATION      10840 non-null  float64\n",
      " 31  PHOTOGRAPHY          10840 non-null  float64\n",
      " 32  PRODUCTIVITY         10840 non-null  float64\n",
      " 33  SHOPPING             10840 non-null  float64\n",
      " 34  SOCIAL               10840 non-null  float64\n",
      " 35  SPORTS               10840 non-null  float64\n",
      " 36  TOOLS                10840 non-null  float64\n",
      " 37  TRAVEL_AND_LOCAL     10840 non-null  float64\n",
      " 38  VIDEO_PLAYERS        10840 non-null  float64\n",
      " 39  WEATHER              10840 non-null  float64\n",
      " 40  Free                 10840 non-null  float64\n",
      " 41  Paid                 10840 non-null  float64\n",
      " 42  Adults only 18+      10840 non-null  float64\n",
      " 43  Everyone             10840 non-null  float64\n",
      " 44  Everyone 10+         10840 non-null  float64\n",
      " 45  Mature 17+           10840 non-null  float64\n",
      " 46  Teen                 10840 non-null  float64\n",
      " 47  Unrated              10840 non-null  float64\n",
      "dtypes: float64(44), int32(2), object(2)\n",
      "memory usage: 3.9+ MB\n"
     ]
    },
    {
     "data": {
      "text/html": [
       "<div>\n",
       "<style scoped>\n",
       "    .dataframe tbody tr th:only-of-type {\n",
       "        vertical-align: middle;\n",
       "    }\n",
       "\n",
       "    .dataframe tbody tr th {\n",
       "        vertical-align: top;\n",
       "    }\n",
       "\n",
       "    .dataframe thead th {\n",
       "        text-align: right;\n",
       "    }\n",
       "</style>\n",
       "<table border=\"1\" class=\"dataframe\">\n",
       "  <thead>\n",
       "    <tr style=\"text-align: right;\">\n",
       "      <th></th>\n",
       "      <th>Rating</th>\n",
       "      <th>Reviews</th>\n",
       "      <th>Size</th>\n",
       "      <th>Installs</th>\n",
       "      <th>Price</th>\n",
       "      <th>Genres</th>\n",
       "      <th>Android Ver</th>\n",
       "      <th>ART_AND_DESIGN</th>\n",
       "      <th>AUTO_AND_VEHICLES</th>\n",
       "      <th>BEAUTY</th>\n",
       "      <th>...</th>\n",
       "      <th>VIDEO_PLAYERS</th>\n",
       "      <th>WEATHER</th>\n",
       "      <th>Free</th>\n",
       "      <th>Paid</th>\n",
       "      <th>Adults only 18+</th>\n",
       "      <th>Everyone</th>\n",
       "      <th>Everyone 10+</th>\n",
       "      <th>Mature 17+</th>\n",
       "      <th>Teen</th>\n",
       "      <th>Unrated</th>\n",
       "    </tr>\n",
       "  </thead>\n",
       "  <tbody>\n",
       "    <tr>\n",
       "      <th>0</th>\n",
       "      <td>4.1</td>\n",
       "      <td>159</td>\n",
       "      <td>19.0</td>\n",
       "      <td>10000</td>\n",
       "      <td>0.0</td>\n",
       "      <td>Art &amp; Design</td>\n",
       "      <td>4.0.3 and up</td>\n",
       "      <td>1.0</td>\n",
       "      <td>0.0</td>\n",
       "      <td>0.0</td>\n",
       "      <td>...</td>\n",
       "      <td>0.0</td>\n",
       "      <td>0.0</td>\n",
       "      <td>1.0</td>\n",
       "      <td>0.0</td>\n",
       "      <td>0.0</td>\n",
       "      <td>1.0</td>\n",
       "      <td>0.0</td>\n",
       "      <td>0.0</td>\n",
       "      <td>0.0</td>\n",
       "      <td>0.0</td>\n",
       "    </tr>\n",
       "    <tr>\n",
       "      <th>1</th>\n",
       "      <td>3.9</td>\n",
       "      <td>967</td>\n",
       "      <td>14.0</td>\n",
       "      <td>500000</td>\n",
       "      <td>0.0</td>\n",
       "      <td>Art &amp; Design;Pretend Play</td>\n",
       "      <td>4.0.3 and up</td>\n",
       "      <td>1.0</td>\n",
       "      <td>0.0</td>\n",
       "      <td>0.0</td>\n",
       "      <td>...</td>\n",
       "      <td>0.0</td>\n",
       "      <td>0.0</td>\n",
       "      <td>1.0</td>\n",
       "      <td>0.0</td>\n",
       "      <td>0.0</td>\n",
       "      <td>1.0</td>\n",
       "      <td>0.0</td>\n",
       "      <td>0.0</td>\n",
       "      <td>0.0</td>\n",
       "      <td>0.0</td>\n",
       "    </tr>\n",
       "    <tr>\n",
       "      <th>2</th>\n",
       "      <td>4.7</td>\n",
       "      <td>87510</td>\n",
       "      <td>8.7</td>\n",
       "      <td>5000000</td>\n",
       "      <td>0.0</td>\n",
       "      <td>Art &amp; Design</td>\n",
       "      <td>4.0.3 and up</td>\n",
       "      <td>1.0</td>\n",
       "      <td>0.0</td>\n",
       "      <td>0.0</td>\n",
       "      <td>...</td>\n",
       "      <td>0.0</td>\n",
       "      <td>0.0</td>\n",
       "      <td>1.0</td>\n",
       "      <td>0.0</td>\n",
       "      <td>0.0</td>\n",
       "      <td>1.0</td>\n",
       "      <td>0.0</td>\n",
       "      <td>0.0</td>\n",
       "      <td>0.0</td>\n",
       "      <td>0.0</td>\n",
       "    </tr>\n",
       "    <tr>\n",
       "      <th>3</th>\n",
       "      <td>4.5</td>\n",
       "      <td>215644</td>\n",
       "      <td>25.0</td>\n",
       "      <td>50000000</td>\n",
       "      <td>0.0</td>\n",
       "      <td>Art &amp; Design</td>\n",
       "      <td>4.2 and up</td>\n",
       "      <td>1.0</td>\n",
       "      <td>0.0</td>\n",
       "      <td>0.0</td>\n",
       "      <td>...</td>\n",
       "      <td>0.0</td>\n",
       "      <td>0.0</td>\n",
       "      <td>1.0</td>\n",
       "      <td>0.0</td>\n",
       "      <td>0.0</td>\n",
       "      <td>0.0</td>\n",
       "      <td>0.0</td>\n",
       "      <td>0.0</td>\n",
       "      <td>1.0</td>\n",
       "      <td>0.0</td>\n",
       "    </tr>\n",
       "    <tr>\n",
       "      <th>4</th>\n",
       "      <td>4.3</td>\n",
       "      <td>967</td>\n",
       "      <td>2.8</td>\n",
       "      <td>100000</td>\n",
       "      <td>0.0</td>\n",
       "      <td>Art &amp; Design;Creativity</td>\n",
       "      <td>4.4 and up</td>\n",
       "      <td>1.0</td>\n",
       "      <td>0.0</td>\n",
       "      <td>0.0</td>\n",
       "      <td>...</td>\n",
       "      <td>0.0</td>\n",
       "      <td>0.0</td>\n",
       "      <td>1.0</td>\n",
       "      <td>0.0</td>\n",
       "      <td>0.0</td>\n",
       "      <td>1.0</td>\n",
       "      <td>0.0</td>\n",
       "      <td>0.0</td>\n",
       "      <td>0.0</td>\n",
       "      <td>0.0</td>\n",
       "    </tr>\n",
       "  </tbody>\n",
       "</table>\n",
       "<p>5 rows × 48 columns</p>\n",
       "</div>"
      ],
      "text/plain": [
       "   Rating  Reviews  Size  Installs  Price                     Genres  \\\n",
       "0     4.1      159  19.0     10000    0.0               Art & Design   \n",
       "1     3.9      967  14.0    500000    0.0  Art & Design;Pretend Play   \n",
       "2     4.7    87510   8.7   5000000    0.0               Art & Design   \n",
       "3     4.5   215644  25.0  50000000    0.0               Art & Design   \n",
       "4     4.3      967   2.8    100000    0.0    Art & Design;Creativity   \n",
       "\n",
       "    Android Ver  ART_AND_DESIGN  AUTO_AND_VEHICLES  BEAUTY  ...  \\\n",
       "0  4.0.3 and up             1.0                0.0     0.0  ...   \n",
       "1  4.0.3 and up             1.0                0.0     0.0  ...   \n",
       "2  4.0.3 and up             1.0                0.0     0.0  ...   \n",
       "3    4.2 and up             1.0                0.0     0.0  ...   \n",
       "4    4.4 and up             1.0                0.0     0.0  ...   \n",
       "\n",
       "   VIDEO_PLAYERS  WEATHER  Free  Paid  Adults only 18+  Everyone  \\\n",
       "0            0.0      0.0   1.0   0.0              0.0       1.0   \n",
       "1            0.0      0.0   1.0   0.0              0.0       1.0   \n",
       "2            0.0      0.0   1.0   0.0              0.0       1.0   \n",
       "3            0.0      0.0   1.0   0.0              0.0       0.0   \n",
       "4            0.0      0.0   1.0   0.0              0.0       1.0   \n",
       "\n",
       "   Everyone 10+  Mature 17+  Teen  Unrated  \n",
       "0           0.0         0.0   0.0      0.0  \n",
       "1           0.0         0.0   0.0      0.0  \n",
       "2           0.0         0.0   0.0      0.0  \n",
       "3           0.0         0.0   1.0      0.0  \n",
       "4           0.0         0.0   0.0      0.0  \n",
       "\n",
       "[5 rows x 48 columns]"
      ]
     },
     "execution_count": 84,
     "metadata": {},
     "output_type": "execute_result"
    }
   ],
   "source": [
    "# agregamos la columna a la variable\n",
    "cont_cat = google[ [\"Content Rating\"] ]\n",
    "# Llamamor al método\n",
    "cont_encoder =OneHotEncoder(sparse=False)\n",
    "# para la categoria \n",
    "cont_cat_1hot = cont_encoder.fit_transform(cont_cat)\n",
    "\n",
    "# Agregar las columnas nuevas por cada categoría\n",
    "google_norm.reset_index(drop=False, inplace=True)\n",
    "google_norm=google_norm.join(pd.DataFrame(cont_cat_1hot, columns=[cat for cat in cont_encoder.categories_[0]]))\n",
    "# Borraremos la columna categorizada, así como el index que se añadió al realizar el join \n",
    "google_norm=google_norm.drop([\"Content Rating\",\"index\"], axis=1)\n",
    "# Mostramos el resultado\n",
    "google_norm.info()\n",
    "google_norm.head()"
   ]
  },
  {
   "attachments": {},
   "cell_type": "markdown",
   "metadata": {},
   "source": [
    "### Android Ver -------------------------------------"
   ]
  },
  {
   "attachments": {},
   "cell_type": "markdown",
   "metadata": {},
   "source": [
    "Comprobamos los NaN del Dataset para esta variable y encontramos 2"
   ]
  },
  {
   "cell_type": "code",
   "execution_count": 85,
   "metadata": {},
   "outputs": [
    {
     "data": {
      "text/plain": [
       "2"
      ]
     },
     "execution_count": 85,
     "metadata": {},
     "output_type": "execute_result"
    }
   ],
   "source": [
    "google_norm['Android Ver'].isna().sum()"
   ]
  },
  {
   "attachments": {},
   "cell_type": "markdown",
   "metadata": {},
   "source": [
    "Los eliminamos"
   ]
  },
  {
   "cell_type": "code",
   "execution_count": 86,
   "metadata": {},
   "outputs": [],
   "source": [
    "google_norm.dropna(subset=['Android Ver'], inplace=True)"
   ]
  },
  {
   "attachments": {},
   "cell_type": "markdown",
   "metadata": {},
   "source": [
    "Comprobamos que ya no están"
   ]
  },
  {
   "cell_type": "code",
   "execution_count": 87,
   "metadata": {},
   "outputs": [
    {
     "data": {
      "text/plain": [
       "0"
      ]
     },
     "execution_count": 87,
     "metadata": {},
     "output_type": "execute_result"
    }
   ],
   "source": [
    "google_norm['Android Ver'].isna().sum()"
   ]
  },
  {
   "cell_type": "code",
   "execution_count": 88,
   "metadata": {},
   "outputs": [
    {
     "name": "stdout",
     "output_type": "stream",
     "text": [
      "<class 'pandas.core.frame.DataFrame'>\n",
      "RangeIndex: 10838 entries, 0 to 10837\n",
      "Data columns (total 81 columns):\n",
      " #   Column               Non-Null Count  Dtype  \n",
      "---  ------               --------------  -----  \n",
      " 0   Rating               10838 non-null  float64\n",
      " 1   Reviews              10838 non-null  int32  \n",
      " 2   Size                 10838 non-null  float64\n",
      " 3   Installs             10838 non-null  int32  \n",
      " 4   Price                10838 non-null  float64\n",
      " 5   Genres               10838 non-null  object \n",
      " 6   ART_AND_DESIGN       10838 non-null  float64\n",
      " 7   AUTO_AND_VEHICLES    10838 non-null  float64\n",
      " 8   BEAUTY               10838 non-null  float64\n",
      " 9   BOOKS_AND_REFERENCE  10838 non-null  float64\n",
      " 10  BUSINESS             10838 non-null  float64\n",
      " 11  COMICS               10838 non-null  float64\n",
      " 12  COMMUNICATION        10838 non-null  float64\n",
      " 13  DATING               10838 non-null  float64\n",
      " 14  EDUCATION            10838 non-null  float64\n",
      " 15  ENTERTAINMENT        10838 non-null  float64\n",
      " 16  EVENTS               10838 non-null  float64\n",
      " 17  FAMILY               10838 non-null  float64\n",
      " 18  FINANCE              10838 non-null  float64\n",
      " 19  FOOD_AND_DRINK       10838 non-null  float64\n",
      " 20  GAME                 10838 non-null  float64\n",
      " 21  HEALTH_AND_FITNESS   10838 non-null  float64\n",
      " 22  HOUSE_AND_HOME       10838 non-null  float64\n",
      " 23  LIBRARIES_AND_DEMO   10838 non-null  float64\n",
      " 24  LIFESTYLE            10838 non-null  float64\n",
      " 25  MAPS_AND_NAVIGATION  10838 non-null  float64\n",
      " 26  MEDICAL              10838 non-null  float64\n",
      " 27  NEWS_AND_MAGAZINES   10838 non-null  float64\n",
      " 28  PARENTING            10838 non-null  float64\n",
      " 29  PERSONALIZATION      10838 non-null  float64\n",
      " 30  PHOTOGRAPHY          10838 non-null  float64\n",
      " 31  PRODUCTIVITY         10838 non-null  float64\n",
      " 32  SHOPPING             10838 non-null  float64\n",
      " 33  SOCIAL               10838 non-null  float64\n",
      " 34  SPORTS               10838 non-null  float64\n",
      " 35  TOOLS                10838 non-null  float64\n",
      " 36  TRAVEL_AND_LOCAL     10838 non-null  float64\n",
      " 37  VIDEO_PLAYERS        10838 non-null  float64\n",
      " 38  WEATHER              10838 non-null  float64\n",
      " 39  Free                 10838 non-null  float64\n",
      " 40  Paid                 10838 non-null  float64\n",
      " 41  Adults only 18+      10838 non-null  float64\n",
      " 42  Everyone             10838 non-null  float64\n",
      " 43  Everyone 10+         10838 non-null  float64\n",
      " 44  Mature 17+           10838 non-null  float64\n",
      " 45  Teen                 10838 non-null  float64\n",
      " 46  Unrated              10838 non-null  float64\n",
      " 47  1.0 and up           10838 non-null  float64\n",
      " 48  1.5 and up           10838 non-null  float64\n",
      " 49  1.6 and up           10838 non-null  float64\n",
      " 50  2.0 and up           10838 non-null  float64\n",
      " 51  2.0.1 and up         10838 non-null  float64\n",
      " 52  2.1 and up           10838 non-null  float64\n",
      " 53  2.2 - 7.1.1          10838 non-null  float64\n",
      " 54  2.2 and up           10838 non-null  float64\n",
      " 55  2.3 and up           10838 non-null  float64\n",
      " 56  2.3.3 and up         10838 non-null  float64\n",
      " 57  3.0 and up           10838 non-null  float64\n",
      " 58  3.1 and up           10838 non-null  float64\n",
      " 59  3.2 and up           10838 non-null  float64\n",
      " 60  4.0 and up           10838 non-null  float64\n",
      " 61  4.0.3 - 7.1.1        10838 non-null  float64\n",
      " 62  4.0.3 and up         10838 non-null  float64\n",
      " 63  4.1 - 7.1.1          10838 non-null  float64\n",
      " 64  4.1 and up           10838 non-null  float64\n",
      " 65  4.2 and up           10838 non-null  float64\n",
      " 66  4.3 and up           10838 non-null  float64\n",
      " 67  4.4 and up           10838 non-null  float64\n",
      " 68  4.4W and up          10838 non-null  float64\n",
      " 69  5.0 - 6.0            10838 non-null  float64\n",
      " 70  5.0 - 7.1.1          10838 non-null  float64\n",
      " 71  5.0 - 8.0            10838 non-null  float64\n",
      " 72  5.0 and up           10838 non-null  float64\n",
      " 73  5.1 and up           10838 non-null  float64\n",
      " 74  6.0 and up           10838 non-null  float64\n",
      " 75  7.0 - 7.1.1          10838 non-null  float64\n",
      " 76  7.0 and up           10838 non-null  float64\n",
      " 77  7.1 and up           10838 non-null  float64\n",
      " 78  8.0 and up           10838 non-null  float64\n",
      " 79  Varies with device   10838 non-null  float64\n",
      " 80  nan                  10838 non-null  float64\n",
      "dtypes: float64(78), int32(2), object(1)\n",
      "memory usage: 6.6+ MB\n"
     ]
    },
    {
     "data": {
      "text/html": [
       "<div>\n",
       "<style scoped>\n",
       "    .dataframe tbody tr th:only-of-type {\n",
       "        vertical-align: middle;\n",
       "    }\n",
       "\n",
       "    .dataframe tbody tr th {\n",
       "        vertical-align: top;\n",
       "    }\n",
       "\n",
       "    .dataframe thead th {\n",
       "        text-align: right;\n",
       "    }\n",
       "</style>\n",
       "<table border=\"1\" class=\"dataframe\">\n",
       "  <thead>\n",
       "    <tr style=\"text-align: right;\">\n",
       "      <th></th>\n",
       "      <th>Rating</th>\n",
       "      <th>Reviews</th>\n",
       "      <th>Size</th>\n",
       "      <th>Installs</th>\n",
       "      <th>Price</th>\n",
       "      <th>Genres</th>\n",
       "      <th>ART_AND_DESIGN</th>\n",
       "      <th>AUTO_AND_VEHICLES</th>\n",
       "      <th>BEAUTY</th>\n",
       "      <th>BOOKS_AND_REFERENCE</th>\n",
       "      <th>...</th>\n",
       "      <th>5.0 - 8.0</th>\n",
       "      <th>5.0 and up</th>\n",
       "      <th>5.1 and up</th>\n",
       "      <th>6.0 and up</th>\n",
       "      <th>7.0 - 7.1.1</th>\n",
       "      <th>7.0 and up</th>\n",
       "      <th>7.1 and up</th>\n",
       "      <th>8.0 and up</th>\n",
       "      <th>Varies with device</th>\n",
       "      <th>NaN</th>\n",
       "    </tr>\n",
       "  </thead>\n",
       "  <tbody>\n",
       "    <tr>\n",
       "      <th>0</th>\n",
       "      <td>4.1</td>\n",
       "      <td>159</td>\n",
       "      <td>19.0</td>\n",
       "      <td>10000</td>\n",
       "      <td>0.0</td>\n",
       "      <td>Art &amp; Design</td>\n",
       "      <td>1.0</td>\n",
       "      <td>0.0</td>\n",
       "      <td>0.0</td>\n",
       "      <td>0.0</td>\n",
       "      <td>...</td>\n",
       "      <td>0.0</td>\n",
       "      <td>0.0</td>\n",
       "      <td>0.0</td>\n",
       "      <td>0.0</td>\n",
       "      <td>0.0</td>\n",
       "      <td>0.0</td>\n",
       "      <td>0.0</td>\n",
       "      <td>0.0</td>\n",
       "      <td>0.0</td>\n",
       "      <td>0.0</td>\n",
       "    </tr>\n",
       "    <tr>\n",
       "      <th>1</th>\n",
       "      <td>3.9</td>\n",
       "      <td>967</td>\n",
       "      <td>14.0</td>\n",
       "      <td>500000</td>\n",
       "      <td>0.0</td>\n",
       "      <td>Art &amp; Design;Pretend Play</td>\n",
       "      <td>1.0</td>\n",
       "      <td>0.0</td>\n",
       "      <td>0.0</td>\n",
       "      <td>0.0</td>\n",
       "      <td>...</td>\n",
       "      <td>0.0</td>\n",
       "      <td>0.0</td>\n",
       "      <td>0.0</td>\n",
       "      <td>0.0</td>\n",
       "      <td>0.0</td>\n",
       "      <td>0.0</td>\n",
       "      <td>0.0</td>\n",
       "      <td>0.0</td>\n",
       "      <td>0.0</td>\n",
       "      <td>0.0</td>\n",
       "    </tr>\n",
       "    <tr>\n",
       "      <th>2</th>\n",
       "      <td>4.7</td>\n",
       "      <td>87510</td>\n",
       "      <td>8.7</td>\n",
       "      <td>5000000</td>\n",
       "      <td>0.0</td>\n",
       "      <td>Art &amp; Design</td>\n",
       "      <td>1.0</td>\n",
       "      <td>0.0</td>\n",
       "      <td>0.0</td>\n",
       "      <td>0.0</td>\n",
       "      <td>...</td>\n",
       "      <td>0.0</td>\n",
       "      <td>0.0</td>\n",
       "      <td>0.0</td>\n",
       "      <td>0.0</td>\n",
       "      <td>0.0</td>\n",
       "      <td>0.0</td>\n",
       "      <td>0.0</td>\n",
       "      <td>0.0</td>\n",
       "      <td>0.0</td>\n",
       "      <td>0.0</td>\n",
       "    </tr>\n",
       "    <tr>\n",
       "      <th>3</th>\n",
       "      <td>4.5</td>\n",
       "      <td>215644</td>\n",
       "      <td>25.0</td>\n",
       "      <td>50000000</td>\n",
       "      <td>0.0</td>\n",
       "      <td>Art &amp; Design</td>\n",
       "      <td>1.0</td>\n",
       "      <td>0.0</td>\n",
       "      <td>0.0</td>\n",
       "      <td>0.0</td>\n",
       "      <td>...</td>\n",
       "      <td>0.0</td>\n",
       "      <td>0.0</td>\n",
       "      <td>0.0</td>\n",
       "      <td>0.0</td>\n",
       "      <td>0.0</td>\n",
       "      <td>0.0</td>\n",
       "      <td>0.0</td>\n",
       "      <td>0.0</td>\n",
       "      <td>0.0</td>\n",
       "      <td>0.0</td>\n",
       "    </tr>\n",
       "    <tr>\n",
       "      <th>4</th>\n",
       "      <td>4.3</td>\n",
       "      <td>967</td>\n",
       "      <td>2.8</td>\n",
       "      <td>100000</td>\n",
       "      <td>0.0</td>\n",
       "      <td>Art &amp; Design;Creativity</td>\n",
       "      <td>1.0</td>\n",
       "      <td>0.0</td>\n",
       "      <td>0.0</td>\n",
       "      <td>0.0</td>\n",
       "      <td>...</td>\n",
       "      <td>0.0</td>\n",
       "      <td>0.0</td>\n",
       "      <td>0.0</td>\n",
       "      <td>0.0</td>\n",
       "      <td>0.0</td>\n",
       "      <td>0.0</td>\n",
       "      <td>0.0</td>\n",
       "      <td>0.0</td>\n",
       "      <td>0.0</td>\n",
       "      <td>0.0</td>\n",
       "    </tr>\n",
       "  </tbody>\n",
       "</table>\n",
       "<p>5 rows × 81 columns</p>\n",
       "</div>"
      ],
      "text/plain": [
       "   Rating  Reviews  Size  Installs  Price                     Genres  \\\n",
       "0     4.1      159  19.0     10000    0.0               Art & Design   \n",
       "1     3.9      967  14.0    500000    0.0  Art & Design;Pretend Play   \n",
       "2     4.7    87510   8.7   5000000    0.0               Art & Design   \n",
       "3     4.5   215644  25.0  50000000    0.0               Art & Design   \n",
       "4     4.3      967   2.8    100000    0.0    Art & Design;Creativity   \n",
       "\n",
       "   ART_AND_DESIGN  AUTO_AND_VEHICLES  BEAUTY  BOOKS_AND_REFERENCE  ...  \\\n",
       "0             1.0                0.0     0.0                  0.0  ...   \n",
       "1             1.0                0.0     0.0                  0.0  ...   \n",
       "2             1.0                0.0     0.0                  0.0  ...   \n",
       "3             1.0                0.0     0.0                  0.0  ...   \n",
       "4             1.0                0.0     0.0                  0.0  ...   \n",
       "\n",
       "   5.0 - 8.0  5.0 and up  5.1 and up  6.0 and up  7.0 - 7.1.1  7.0 and up  \\\n",
       "0        0.0         0.0         0.0         0.0          0.0         0.0   \n",
       "1        0.0         0.0         0.0         0.0          0.0         0.0   \n",
       "2        0.0         0.0         0.0         0.0          0.0         0.0   \n",
       "3        0.0         0.0         0.0         0.0          0.0         0.0   \n",
       "4        0.0         0.0         0.0         0.0          0.0         0.0   \n",
       "\n",
       "   7.1 and up  8.0 and up  Varies with device  NaN  \n",
       "0         0.0         0.0                 0.0  0.0  \n",
       "1         0.0         0.0                 0.0  0.0  \n",
       "2         0.0         0.0                 0.0  0.0  \n",
       "3         0.0         0.0                 0.0  0.0  \n",
       "4         0.0         0.0                 0.0  0.0  \n",
       "\n",
       "[5 rows x 81 columns]"
      ]
     },
     "execution_count": 88,
     "metadata": {},
     "output_type": "execute_result"
    }
   ],
   "source": [
    "# agregamos la columna a la variable\n",
    "an_cat = google[ [\"Android Ver\"] ]\n",
    "# Llamamor al método\n",
    "an_encoder =OneHotEncoder(sparse=False)\n",
    "# para la categoria \n",
    "an_cat_1hot = an_encoder.fit_transform(an_cat)\n",
    "\n",
    "# Agregar las columnas nuevas por cada categoría\n",
    "google_norm.reset_index(drop=False, inplace=True)\n",
    "google_norm=google_norm.join(pd.DataFrame(an_cat_1hot, columns=[cat for cat in an_encoder.categories_[0]]))\n",
    "# Borraremos la columna categorizada, así como el index que se añadió al realizar el join \n",
    "google_norm=google_norm.drop([\"Android Ver\",\"index\"], axis=1)\n",
    "# Mostramos el resultado\n",
    "google_norm.info()\n",
    "google_norm.head()"
   ]
  },
  {
   "attachments": {},
   "cell_type": "markdown",
   "metadata": {},
   "source": [
    "Aparece una columna extraña despúes de hacer el OneHotEnconder con el título NaN que nos interfiere en los modelos, y pasamos a aliminarla"
   ]
  },
  {
   "cell_type": "code",
   "execution_count": 89,
   "metadata": {},
   "outputs": [],
   "source": [
    "google_norm = google_norm.iloc[:, :-1]"
   ]
  },
  {
   "attachments": {},
   "cell_type": "markdown",
   "metadata": {},
   "source": [
    "Revisamos y los datos ahora son correctos"
   ]
  },
  {
   "cell_type": "code",
   "execution_count": 90,
   "metadata": {},
   "outputs": [
    {
     "data": {
      "text/html": [
       "<div>\n",
       "<style scoped>\n",
       "    .dataframe tbody tr th:only-of-type {\n",
       "        vertical-align: middle;\n",
       "    }\n",
       "\n",
       "    .dataframe tbody tr th {\n",
       "        vertical-align: top;\n",
       "    }\n",
       "\n",
       "    .dataframe thead th {\n",
       "        text-align: right;\n",
       "    }\n",
       "</style>\n",
       "<table border=\"1\" class=\"dataframe\">\n",
       "  <thead>\n",
       "    <tr style=\"text-align: right;\">\n",
       "      <th></th>\n",
       "      <th>Rating</th>\n",
       "      <th>Reviews</th>\n",
       "      <th>Size</th>\n",
       "      <th>Installs</th>\n",
       "      <th>Price</th>\n",
       "      <th>Genres</th>\n",
       "      <th>ART_AND_DESIGN</th>\n",
       "      <th>AUTO_AND_VEHICLES</th>\n",
       "      <th>BEAUTY</th>\n",
       "      <th>BOOKS_AND_REFERENCE</th>\n",
       "      <th>...</th>\n",
       "      <th>5.0 - 7.1.1</th>\n",
       "      <th>5.0 - 8.0</th>\n",
       "      <th>5.0 and up</th>\n",
       "      <th>5.1 and up</th>\n",
       "      <th>6.0 and up</th>\n",
       "      <th>7.0 - 7.1.1</th>\n",
       "      <th>7.0 and up</th>\n",
       "      <th>7.1 and up</th>\n",
       "      <th>8.0 and up</th>\n",
       "      <th>Varies with device</th>\n",
       "    </tr>\n",
       "  </thead>\n",
       "  <tbody>\n",
       "    <tr>\n",
       "      <th>0</th>\n",
       "      <td>4.1</td>\n",
       "      <td>159</td>\n",
       "      <td>19.0</td>\n",
       "      <td>10000</td>\n",
       "      <td>0.0</td>\n",
       "      <td>Art &amp; Design</td>\n",
       "      <td>1.0</td>\n",
       "      <td>0.0</td>\n",
       "      <td>0.0</td>\n",
       "      <td>0.0</td>\n",
       "      <td>...</td>\n",
       "      <td>0.0</td>\n",
       "      <td>0.0</td>\n",
       "      <td>0.0</td>\n",
       "      <td>0.0</td>\n",
       "      <td>0.0</td>\n",
       "      <td>0.0</td>\n",
       "      <td>0.0</td>\n",
       "      <td>0.0</td>\n",
       "      <td>0.0</td>\n",
       "      <td>0.0</td>\n",
       "    </tr>\n",
       "    <tr>\n",
       "      <th>1</th>\n",
       "      <td>3.9</td>\n",
       "      <td>967</td>\n",
       "      <td>14.0</td>\n",
       "      <td>500000</td>\n",
       "      <td>0.0</td>\n",
       "      <td>Art &amp; Design;Pretend Play</td>\n",
       "      <td>1.0</td>\n",
       "      <td>0.0</td>\n",
       "      <td>0.0</td>\n",
       "      <td>0.0</td>\n",
       "      <td>...</td>\n",
       "      <td>0.0</td>\n",
       "      <td>0.0</td>\n",
       "      <td>0.0</td>\n",
       "      <td>0.0</td>\n",
       "      <td>0.0</td>\n",
       "      <td>0.0</td>\n",
       "      <td>0.0</td>\n",
       "      <td>0.0</td>\n",
       "      <td>0.0</td>\n",
       "      <td>0.0</td>\n",
       "    </tr>\n",
       "    <tr>\n",
       "      <th>2</th>\n",
       "      <td>4.7</td>\n",
       "      <td>87510</td>\n",
       "      <td>8.7</td>\n",
       "      <td>5000000</td>\n",
       "      <td>0.0</td>\n",
       "      <td>Art &amp; Design</td>\n",
       "      <td>1.0</td>\n",
       "      <td>0.0</td>\n",
       "      <td>0.0</td>\n",
       "      <td>0.0</td>\n",
       "      <td>...</td>\n",
       "      <td>0.0</td>\n",
       "      <td>0.0</td>\n",
       "      <td>0.0</td>\n",
       "      <td>0.0</td>\n",
       "      <td>0.0</td>\n",
       "      <td>0.0</td>\n",
       "      <td>0.0</td>\n",
       "      <td>0.0</td>\n",
       "      <td>0.0</td>\n",
       "      <td>0.0</td>\n",
       "    </tr>\n",
       "    <tr>\n",
       "      <th>3</th>\n",
       "      <td>4.5</td>\n",
       "      <td>215644</td>\n",
       "      <td>25.0</td>\n",
       "      <td>50000000</td>\n",
       "      <td>0.0</td>\n",
       "      <td>Art &amp; Design</td>\n",
       "      <td>1.0</td>\n",
       "      <td>0.0</td>\n",
       "      <td>0.0</td>\n",
       "      <td>0.0</td>\n",
       "      <td>...</td>\n",
       "      <td>0.0</td>\n",
       "      <td>0.0</td>\n",
       "      <td>0.0</td>\n",
       "      <td>0.0</td>\n",
       "      <td>0.0</td>\n",
       "      <td>0.0</td>\n",
       "      <td>0.0</td>\n",
       "      <td>0.0</td>\n",
       "      <td>0.0</td>\n",
       "      <td>0.0</td>\n",
       "    </tr>\n",
       "    <tr>\n",
       "      <th>4</th>\n",
       "      <td>4.3</td>\n",
       "      <td>967</td>\n",
       "      <td>2.8</td>\n",
       "      <td>100000</td>\n",
       "      <td>0.0</td>\n",
       "      <td>Art &amp; Design;Creativity</td>\n",
       "      <td>1.0</td>\n",
       "      <td>0.0</td>\n",
       "      <td>0.0</td>\n",
       "      <td>0.0</td>\n",
       "      <td>...</td>\n",
       "      <td>0.0</td>\n",
       "      <td>0.0</td>\n",
       "      <td>0.0</td>\n",
       "      <td>0.0</td>\n",
       "      <td>0.0</td>\n",
       "      <td>0.0</td>\n",
       "      <td>0.0</td>\n",
       "      <td>0.0</td>\n",
       "      <td>0.0</td>\n",
       "      <td>0.0</td>\n",
       "    </tr>\n",
       "  </tbody>\n",
       "</table>\n",
       "<p>5 rows × 80 columns</p>\n",
       "</div>"
      ],
      "text/plain": [
       "   Rating  Reviews  Size  Installs  Price                     Genres  \\\n",
       "0     4.1      159  19.0     10000    0.0               Art & Design   \n",
       "1     3.9      967  14.0    500000    0.0  Art & Design;Pretend Play   \n",
       "2     4.7    87510   8.7   5000000    0.0               Art & Design   \n",
       "3     4.5   215644  25.0  50000000    0.0               Art & Design   \n",
       "4     4.3      967   2.8    100000    0.0    Art & Design;Creativity   \n",
       "\n",
       "   ART_AND_DESIGN  AUTO_AND_VEHICLES  BEAUTY  BOOKS_AND_REFERENCE  ...  \\\n",
       "0             1.0                0.0     0.0                  0.0  ...   \n",
       "1             1.0                0.0     0.0                  0.0  ...   \n",
       "2             1.0                0.0     0.0                  0.0  ...   \n",
       "3             1.0                0.0     0.0                  0.0  ...   \n",
       "4             1.0                0.0     0.0                  0.0  ...   \n",
       "\n",
       "   5.0 - 7.1.1  5.0 - 8.0  5.0 and up  5.1 and up  6.0 and up  7.0 - 7.1.1  \\\n",
       "0          0.0        0.0         0.0         0.0         0.0          0.0   \n",
       "1          0.0        0.0         0.0         0.0         0.0          0.0   \n",
       "2          0.0        0.0         0.0         0.0         0.0          0.0   \n",
       "3          0.0        0.0         0.0         0.0         0.0          0.0   \n",
       "4          0.0        0.0         0.0         0.0         0.0          0.0   \n",
       "\n",
       "   7.0 and up  7.1 and up  8.0 and up  Varies with device  \n",
       "0         0.0         0.0         0.0                 0.0  \n",
       "1         0.0         0.0         0.0                 0.0  \n",
       "2         0.0         0.0         0.0                 0.0  \n",
       "3         0.0         0.0         0.0                 0.0  \n",
       "4         0.0         0.0         0.0                 0.0  \n",
       "\n",
       "[5 rows x 80 columns]"
      ]
     },
     "execution_count": 90,
     "metadata": {},
     "output_type": "execute_result"
    }
   ],
   "source": [
    "google_norm.head()"
   ]
  },
  {
   "attachments": {},
   "cell_type": "markdown",
   "metadata": {},
   "source": [
    "### Genres -----------------------------------------------"
   ]
  },
  {
   "attachments": {},
   "cell_type": "markdown",
   "metadata": {},
   "source": [
    "- Aquí tenemos el problema que algunos de los géneros coinciden con las Categorías (Category)\n",
    "- Además, en esta variable, existen valores con más de una categoría separadas con \";\""
   ]
  },
  {
   "attachments": {},
   "cell_type": "markdown",
   "metadata": {},
   "source": [
    "Realizaremos una separación entre género1 y género 2"
   ]
  },
  {
   "cell_type": "code",
   "execution_count": 91,
   "metadata": {},
   "outputs": [],
   "source": [
    "# Separar los valores en diferentes columnas\n",
    "google_norm[['genero1', 'genero2']] = google_norm['Genres'].str.split(';', expand=True)\n",
    "\n",
    "# Eliminar la columna original de géneros\n",
    "google_norm.drop('Genres', axis=1, inplace=True)\n",
    "\n",
    "# Crear instancia de OneHotEncoder\n",
    "encoder = OneHotEncoder()\n",
    "\n",
    "# Aplicar OneHotEncoder a los datos\n",
    "datos_codificados = encoder.fit_transform(google_norm[['genero1', 'genero2']])\n",
    "\n",
    "# Convertimos la salida a un DataFrame de Pandas\n",
    "datos_codificados_df = pd.DataFrame.sparse.from_spmatrix(datos_codificados, columns=encoder.get_feature_names_out(['genero1', 'genero2']))\n",
    "\n",
    "# Modificar los nombres de las columnas del DataFrame codificado para que coincidan con las categorías\n",
    "datos_codificados_df.columns = datos_codificados_df.columns.str.upper().str.replace(' ', '_').str.replace('&', 'AND')\n",
    "\n",
    "# Concatenamos el DataFrame codificado con el DataFrame original\n",
    "google_norm = pd.concat([google_norm, datos_codificados_df], axis=1)\n",
    "\n",
    "# Eliminar las columnas creadas género1 y genero2 que ya no es necesario después de aplicar OneHotEncoder\n",
    "google_norm = google_norm.drop(['genero1', 'genero2'], axis=1)\n"
   ]
  },
  {
   "cell_type": "code",
   "execution_count": 92,
   "metadata": {},
   "outputs": [
    {
     "data": {
      "text/plain": [
       "['Rating',\n",
       " 'Reviews',\n",
       " 'Size',\n",
       " 'Installs',\n",
       " 'Price',\n",
       " 'ART_AND_DESIGN',\n",
       " 'AUTO_AND_VEHICLES',\n",
       " 'BEAUTY',\n",
       " 'BOOKS_AND_REFERENCE',\n",
       " 'BUSINESS',\n",
       " 'COMICS',\n",
       " 'COMMUNICATION',\n",
       " 'DATING',\n",
       " 'EDUCATION',\n",
       " 'ENTERTAINMENT',\n",
       " 'EVENTS',\n",
       " 'FAMILY',\n",
       " 'FINANCE',\n",
       " 'FOOD_AND_DRINK',\n",
       " 'GAME',\n",
       " 'HEALTH_AND_FITNESS',\n",
       " 'HOUSE_AND_HOME',\n",
       " 'LIBRARIES_AND_DEMO',\n",
       " 'LIFESTYLE',\n",
       " 'MAPS_AND_NAVIGATION',\n",
       " 'MEDICAL',\n",
       " 'NEWS_AND_MAGAZINES',\n",
       " 'PARENTING',\n",
       " 'PERSONALIZATION',\n",
       " 'PHOTOGRAPHY',\n",
       " 'PRODUCTIVITY',\n",
       " 'SHOPPING',\n",
       " 'SOCIAL',\n",
       " 'SPORTS',\n",
       " 'TOOLS',\n",
       " 'TRAVEL_AND_LOCAL',\n",
       " 'VIDEO_PLAYERS',\n",
       " 'WEATHER',\n",
       " 'Free',\n",
       " 'Paid',\n",
       " 'Adults only 18+',\n",
       " 'Everyone',\n",
       " 'Everyone 10+',\n",
       " 'Mature 17+',\n",
       " 'Teen',\n",
       " 'Unrated',\n",
       " '1.0 and up',\n",
       " '1.5 and up',\n",
       " '1.6 and up',\n",
       " '2.0 and up',\n",
       " '2.0.1 and up',\n",
       " '2.1 and up',\n",
       " '2.2 - 7.1.1',\n",
       " '2.2 and up',\n",
       " '2.3 and up',\n",
       " '2.3.3 and up',\n",
       " '3.0 and up',\n",
       " '3.1 and up',\n",
       " '3.2 and up',\n",
       " '4.0 and up',\n",
       " '4.0.3 - 7.1.1',\n",
       " '4.0.3 and up',\n",
       " '4.1 - 7.1.1',\n",
       " '4.1 and up',\n",
       " '4.2 and up',\n",
       " '4.3 and up',\n",
       " '4.4 and up',\n",
       " '4.4W and up',\n",
       " '5.0 - 6.0',\n",
       " '5.0 - 7.1.1',\n",
       " '5.0 - 8.0',\n",
       " '5.0 and up',\n",
       " '5.1 and up',\n",
       " '6.0 and up',\n",
       " '7.0 - 7.1.1',\n",
       " '7.0 and up',\n",
       " '7.1 and up',\n",
       " '8.0 and up',\n",
       " 'Varies with device',\n",
       " 'GENERO1_ACTION',\n",
       " 'GENERO1_ADVENTURE',\n",
       " 'GENERO1_ARCADE',\n",
       " 'GENERO1_ART_AND_DESIGN',\n",
       " 'GENERO1_AUTO_AND_VEHICLES',\n",
       " 'GENERO1_BEAUTY',\n",
       " 'GENERO1_BOARD',\n",
       " 'GENERO1_BOOKS_AND_REFERENCE',\n",
       " 'GENERO1_BUSINESS',\n",
       " 'GENERO1_CARD',\n",
       " 'GENERO1_CASINO',\n",
       " 'GENERO1_CASUAL',\n",
       " 'GENERO1_COMICS',\n",
       " 'GENERO1_COMMUNICATION',\n",
       " 'GENERO1_DATING',\n",
       " 'GENERO1_EDUCATION',\n",
       " 'GENERO1_EDUCATIONAL',\n",
       " 'GENERO1_ENTERTAINMENT',\n",
       " 'GENERO1_EVENTS',\n",
       " 'GENERO1_FINANCE',\n",
       " 'GENERO1_FOOD_AND_DRINK',\n",
       " 'GENERO1_HEALTH_AND_FITNESS',\n",
       " 'GENERO1_HOUSE_AND_HOME',\n",
       " 'GENERO1_LIBRARIES_AND_DEMO',\n",
       " 'GENERO1_LIFESTYLE',\n",
       " 'GENERO1_MAPS_AND_NAVIGATION',\n",
       " 'GENERO1_MEDICAL',\n",
       " 'GENERO1_MUSIC',\n",
       " 'GENERO1_MUSIC_AND_AUDIO',\n",
       " 'GENERO1_NEWS_AND_MAGAZINES',\n",
       " 'GENERO1_PARENTING',\n",
       " 'GENERO1_PERSONALIZATION',\n",
       " 'GENERO1_PHOTOGRAPHY',\n",
       " 'GENERO1_PRODUCTIVITY',\n",
       " 'GENERO1_PUZZLE',\n",
       " 'GENERO1_RACING',\n",
       " 'GENERO1_ROLE_PLAYING',\n",
       " 'GENERO1_SHOPPING',\n",
       " 'GENERO1_SIMULATION',\n",
       " 'GENERO1_SOCIAL',\n",
       " 'GENERO1_SPORTS',\n",
       " 'GENERO1_STRATEGY',\n",
       " 'GENERO1_TOOLS',\n",
       " 'GENERO1_TRAVEL_AND_LOCAL',\n",
       " 'GENERO1_TRIVIA',\n",
       " 'GENERO1_VIDEO_PLAYERS_AND_EDITORS',\n",
       " 'GENERO1_WEATHER',\n",
       " 'GENERO1_WORD',\n",
       " 'GENERO2_ACTION_AND_ADVENTURE',\n",
       " 'GENERO2_BRAIN_GAMES',\n",
       " 'GENERO2_CREATIVITY',\n",
       " 'GENERO2_EDUCATION',\n",
       " 'GENERO2_MUSIC_AND_VIDEO',\n",
       " 'GENERO2_PRETEND_PLAY',\n",
       " 'GENERO2_NONE']"
      ]
     },
     "execution_count": 92,
     "metadata": {},
     "output_type": "execute_result"
    }
   ],
   "source": [
    "google_norm.columns.tolist()"
   ]
  },
  {
   "attachments": {},
   "cell_type": "markdown",
   "metadata": {},
   "source": [
    "Ahora tenemos columnas que empieza el nombre por GENERO1_ y GENERO2_ que coinciden con las categorías generales, por lo que pasamos a fucionarlas, tanto entre ellas, como con las categorías, ya que muchas coinciden, como podemos ver en la lista anterior"
   ]
  },
  {
   "cell_type": "code",
   "execution_count": 93,
   "metadata": {},
   "outputs": [],
   "source": [
    "# Obtener las columnas que necesitan fusionarse\n",
    "cols_to_merge = [col for col in google_norm.columns if 'GENERO1_' in col or 'GENERO2_' in col]\n",
    "\n",
    "# Fusionar columnas\n",
    "for col in set(cols_to_merge):\n",
    "    col_names = [c for c in google_norm.columns if c.endswith(col[8:])]\n",
    "    if len(col_names) > 1:\n",
    "        google_norm[col] = google_norm[col_names].max(axis=1)\n",
    "        google_norm.drop(col_names, axis=1, inplace=True)\n",
    "\n",
    "# Modificar los nombres de las columnas\n",
    "google_norm.columns = google_norm.columns.str.replace('GENERO1_', '').str.replace('GENERO2_', '')\n",
    "\n",
    "# Eliminar columnas de género1 y género2\n",
    "google_norm = google_norm.loc[:,~google_norm.columns.str.startswith('GENERO1_') & ~google_norm.columns.str.startswith('GENERO2_')]\n"
   ]
  },
  {
   "attachments": {},
   "cell_type": "markdown",
   "metadata": {},
   "source": [
    "Comprobamos que ha surtido efecto el cambio deseado"
   ]
  },
  {
   "cell_type": "code",
   "execution_count": 94,
   "metadata": {},
   "outputs": [
    {
     "data": {
      "text/plain": [
       "['Rating',\n",
       " 'Reviews',\n",
       " 'Size',\n",
       " 'Installs',\n",
       " 'Price',\n",
       " 'FAMILY',\n",
       " 'GAME',\n",
       " 'VIDEO_PLAYERS',\n",
       " 'Free',\n",
       " 'Paid',\n",
       " 'Adults only 18+',\n",
       " 'Everyone',\n",
       " 'Everyone 10+',\n",
       " 'Mature 17+',\n",
       " 'Teen',\n",
       " 'Unrated',\n",
       " '1.0 and up',\n",
       " '1.5 and up',\n",
       " '1.6 and up',\n",
       " '2.0 and up',\n",
       " '2.0.1 and up',\n",
       " '2.1 and up',\n",
       " '2.2 - 7.1.1',\n",
       " '2.2 and up',\n",
       " '2.3 and up',\n",
       " '2.3.3 and up',\n",
       " '3.0 and up',\n",
       " '3.1 and up',\n",
       " '3.2 and up',\n",
       " '4.0 and up',\n",
       " '4.0.3 - 7.1.1',\n",
       " '4.0.3 and up',\n",
       " '4.1 - 7.1.1',\n",
       " '4.1 and up',\n",
       " '4.2 and up',\n",
       " '4.3 and up',\n",
       " '4.4 and up',\n",
       " '4.4W and up',\n",
       " '5.0 - 6.0',\n",
       " '5.0 - 7.1.1',\n",
       " '5.0 - 8.0',\n",
       " '5.0 and up',\n",
       " '5.1 and up',\n",
       " '6.0 and up',\n",
       " '7.0 - 7.1.1',\n",
       " '7.0 and up',\n",
       " '7.1 and up',\n",
       " '8.0 and up',\n",
       " 'Varies with device',\n",
       " 'ACTION',\n",
       " 'ARCADE',\n",
       " 'BOARD',\n",
       " 'CARD',\n",
       " 'CASINO',\n",
       " 'CASUAL',\n",
       " 'EDUCATIONAL',\n",
       " 'MUSIC',\n",
       " 'MUSIC_AND_AUDIO',\n",
       " 'PUZZLE',\n",
       " 'RACING',\n",
       " 'ROLE_PLAYING',\n",
       " 'SIMULATION',\n",
       " 'STRATEGY',\n",
       " 'TRIVIA',\n",
       " 'VIDEO_PLAYERS_AND_EDITORS',\n",
       " 'WORD',\n",
       " 'BRAIN_GAMES',\n",
       " 'CREATIVITY',\n",
       " 'MUSIC_AND_VIDEO',\n",
       " 'PRETEND_PLAY',\n",
       " 'NONE']"
      ]
     },
     "execution_count": 94,
     "metadata": {},
     "output_type": "execute_result"
    }
   ],
   "source": [
    "google_norm.columns.tolist()"
   ]
  },
  {
   "cell_type": "code",
   "execution_count": 95,
   "metadata": {},
   "outputs": [
    {
     "data": {
      "text/html": [
       "<div>\n",
       "<style scoped>\n",
       "    .dataframe tbody tr th:only-of-type {\n",
       "        vertical-align: middle;\n",
       "    }\n",
       "\n",
       "    .dataframe tbody tr th {\n",
       "        vertical-align: top;\n",
       "    }\n",
       "\n",
       "    .dataframe thead th {\n",
       "        text-align: right;\n",
       "    }\n",
       "</style>\n",
       "<table border=\"1\" class=\"dataframe\">\n",
       "  <thead>\n",
       "    <tr style=\"text-align: right;\">\n",
       "      <th></th>\n",
       "      <th>Rating</th>\n",
       "      <th>Reviews</th>\n",
       "      <th>Size</th>\n",
       "      <th>Installs</th>\n",
       "      <th>Price</th>\n",
       "      <th>FAMILY</th>\n",
       "      <th>GAME</th>\n",
       "      <th>VIDEO_PLAYERS</th>\n",
       "      <th>Free</th>\n",
       "      <th>Paid</th>\n",
       "      <th>...</th>\n",
       "      <th>SIMULATION</th>\n",
       "      <th>STRATEGY</th>\n",
       "      <th>TRIVIA</th>\n",
       "      <th>VIDEO_PLAYERS_AND_EDITORS</th>\n",
       "      <th>WORD</th>\n",
       "      <th>BRAIN_GAMES</th>\n",
       "      <th>CREATIVITY</th>\n",
       "      <th>MUSIC_AND_VIDEO</th>\n",
       "      <th>PRETEND_PLAY</th>\n",
       "      <th>NONE</th>\n",
       "    </tr>\n",
       "  </thead>\n",
       "  <tbody>\n",
       "    <tr>\n",
       "      <th>0</th>\n",
       "      <td>4.1</td>\n",
       "      <td>159</td>\n",
       "      <td>19.0</td>\n",
       "      <td>10000</td>\n",
       "      <td>0.0</td>\n",
       "      <td>0.0</td>\n",
       "      <td>0.0</td>\n",
       "      <td>0.0</td>\n",
       "      <td>1.0</td>\n",
       "      <td>0.0</td>\n",
       "      <td>...</td>\n",
       "      <td>0.0</td>\n",
       "      <td>0.0</td>\n",
       "      <td>0.0</td>\n",
       "      <td>0.0</td>\n",
       "      <td>0.0</td>\n",
       "      <td>0.0</td>\n",
       "      <td>0.0</td>\n",
       "      <td>0.0</td>\n",
       "      <td>0.0</td>\n",
       "      <td>1.0</td>\n",
       "    </tr>\n",
       "    <tr>\n",
       "      <th>1</th>\n",
       "      <td>3.9</td>\n",
       "      <td>967</td>\n",
       "      <td>14.0</td>\n",
       "      <td>500000</td>\n",
       "      <td>0.0</td>\n",
       "      <td>0.0</td>\n",
       "      <td>0.0</td>\n",
       "      <td>0.0</td>\n",
       "      <td>1.0</td>\n",
       "      <td>0.0</td>\n",
       "      <td>...</td>\n",
       "      <td>0.0</td>\n",
       "      <td>0.0</td>\n",
       "      <td>0.0</td>\n",
       "      <td>0.0</td>\n",
       "      <td>0.0</td>\n",
       "      <td>0.0</td>\n",
       "      <td>0.0</td>\n",
       "      <td>0.0</td>\n",
       "      <td>1.0</td>\n",
       "      <td>0.0</td>\n",
       "    </tr>\n",
       "    <tr>\n",
       "      <th>2</th>\n",
       "      <td>4.7</td>\n",
       "      <td>87510</td>\n",
       "      <td>8.7</td>\n",
       "      <td>5000000</td>\n",
       "      <td>0.0</td>\n",
       "      <td>0.0</td>\n",
       "      <td>0.0</td>\n",
       "      <td>0.0</td>\n",
       "      <td>1.0</td>\n",
       "      <td>0.0</td>\n",
       "      <td>...</td>\n",
       "      <td>0.0</td>\n",
       "      <td>0.0</td>\n",
       "      <td>0.0</td>\n",
       "      <td>0.0</td>\n",
       "      <td>0.0</td>\n",
       "      <td>0.0</td>\n",
       "      <td>0.0</td>\n",
       "      <td>0.0</td>\n",
       "      <td>0.0</td>\n",
       "      <td>1.0</td>\n",
       "    </tr>\n",
       "    <tr>\n",
       "      <th>3</th>\n",
       "      <td>4.5</td>\n",
       "      <td>215644</td>\n",
       "      <td>25.0</td>\n",
       "      <td>50000000</td>\n",
       "      <td>0.0</td>\n",
       "      <td>0.0</td>\n",
       "      <td>0.0</td>\n",
       "      <td>0.0</td>\n",
       "      <td>1.0</td>\n",
       "      <td>0.0</td>\n",
       "      <td>...</td>\n",
       "      <td>0.0</td>\n",
       "      <td>0.0</td>\n",
       "      <td>0.0</td>\n",
       "      <td>0.0</td>\n",
       "      <td>0.0</td>\n",
       "      <td>0.0</td>\n",
       "      <td>0.0</td>\n",
       "      <td>0.0</td>\n",
       "      <td>0.0</td>\n",
       "      <td>1.0</td>\n",
       "    </tr>\n",
       "    <tr>\n",
       "      <th>4</th>\n",
       "      <td>4.3</td>\n",
       "      <td>967</td>\n",
       "      <td>2.8</td>\n",
       "      <td>100000</td>\n",
       "      <td>0.0</td>\n",
       "      <td>0.0</td>\n",
       "      <td>0.0</td>\n",
       "      <td>0.0</td>\n",
       "      <td>1.0</td>\n",
       "      <td>0.0</td>\n",
       "      <td>...</td>\n",
       "      <td>0.0</td>\n",
       "      <td>0.0</td>\n",
       "      <td>0.0</td>\n",
       "      <td>0.0</td>\n",
       "      <td>0.0</td>\n",
       "      <td>0.0</td>\n",
       "      <td>1.0</td>\n",
       "      <td>0.0</td>\n",
       "      <td>0.0</td>\n",
       "      <td>0.0</td>\n",
       "    </tr>\n",
       "  </tbody>\n",
       "</table>\n",
       "<p>5 rows × 71 columns</p>\n",
       "</div>"
      ],
      "text/plain": [
       "   Rating  Reviews  Size  Installs  Price  FAMILY  GAME  VIDEO_PLAYERS  Free  \\\n",
       "0     4.1      159  19.0     10000    0.0     0.0   0.0            0.0   1.0   \n",
       "1     3.9      967  14.0    500000    0.0     0.0   0.0            0.0   1.0   \n",
       "2     4.7    87510   8.7   5000000    0.0     0.0   0.0            0.0   1.0   \n",
       "3     4.5   215644  25.0  50000000    0.0     0.0   0.0            0.0   1.0   \n",
       "4     4.3      967   2.8    100000    0.0     0.0   0.0            0.0   1.0   \n",
       "\n",
       "   Paid  ...  SIMULATION  STRATEGY  TRIVIA  VIDEO_PLAYERS_AND_EDITORS  WORD  \\\n",
       "0   0.0  ...         0.0       0.0     0.0                        0.0   0.0   \n",
       "1   0.0  ...         0.0       0.0     0.0                        0.0   0.0   \n",
       "2   0.0  ...         0.0       0.0     0.0                        0.0   0.0   \n",
       "3   0.0  ...         0.0       0.0     0.0                        0.0   0.0   \n",
       "4   0.0  ...         0.0       0.0     0.0                        0.0   0.0   \n",
       "\n",
       "   BRAIN_GAMES  CREATIVITY  MUSIC_AND_VIDEO  PRETEND_PLAY  NONE  \n",
       "0          0.0         0.0              0.0           0.0   1.0  \n",
       "1          0.0         0.0              0.0           1.0   0.0  \n",
       "2          0.0         0.0              0.0           0.0   1.0  \n",
       "3          0.0         0.0              0.0           0.0   1.0  \n",
       "4          0.0         1.0              0.0           0.0   0.0  \n",
       "\n",
       "[5 rows x 71 columns]"
      ]
     },
     "execution_count": 95,
     "metadata": {},
     "output_type": "execute_result"
    }
   ],
   "source": [
    "google_norm.head()"
   ]
  },
  {
   "attachments": {},
   "cell_type": "markdown",
   "metadata": {},
   "source": [
    "Eliminamos la columna de NONE, ya que es aquella en la que no existe un segundo género"
   ]
  },
  {
   "cell_type": "code",
   "execution_count": 96,
   "metadata": {},
   "outputs": [],
   "source": [
    "google_norm = google_norm.drop('NONE', axis=1)"
   ]
  },
  {
   "attachments": {},
   "cell_type": "markdown",
   "metadata": {},
   "source": [
    "Ahora gestionaremos las columnas duplicadas y los géneros que coincidan con las categorías"
   ]
  },
  {
   "cell_type": "markdown",
   "metadata": {},
   "source": [
    "\n",
    "---\n",
    "---"
   ]
  },
  {
   "cell_type": "markdown",
   "metadata": {},
   "source": [
    "## Estudio numérico de la correlación entre los datos para obtener información relevante\n",
    "---"
   ]
  },
  {
   "attachments": {},
   "cell_type": "markdown",
   "metadata": {},
   "source": [
    "# Buscando correlaciones"
   ]
  },
  {
   "cell_type": "markdown",
   "metadata": {},
   "source": [
    "Aquí nos damos cuenta de la necesidad de la normalización del modelo para que las correlaciones puedan ser medidas"
   ]
  },
  {
   "cell_type": "code",
   "execution_count": 97,
   "metadata": {},
   "outputs": [
    {
     "data": {
      "text/plain": [
       "Rating                       1.000000\n",
       "Size                         0.074076\n",
       "Reviews                      0.067679\n",
       "GAME                         0.064519\n",
       "Installs                     0.050814\n",
       "                               ...   \n",
       "2.0.1 and up                -0.024644\n",
       "Mature 17+                  -0.029162\n",
       "VIDEO_PLAYERS               -0.031404\n",
       "VIDEO_PLAYERS_AND_EDITORS   -0.031868\n",
       "Free                        -0.035851\n",
       "Name: Rating, Length: 70, dtype: float64"
      ]
     },
     "execution_count": 97,
     "metadata": {},
     "output_type": "execute_result"
    }
   ],
   "source": [
    "corr_matrix = google_norm.corr()\n",
    "corr_matrix[\"Rating\"].sort_values(ascending=False)"
   ]
  },
  {
   "attachments": {},
   "cell_type": "markdown",
   "metadata": {},
   "source": [
    "- Podemos observar una muy pobre correlación positiva o negativa en la relación al 'Rating' no superior al 8%."
   ]
  },
  {
   "attachments": {},
   "cell_type": "markdown",
   "metadata": {},
   "source": [
    "---\n",
    "---\n",
    "---"
   ]
  },
  {
   "attachments": {},
   "cell_type": "markdown",
   "metadata": {},
   "source": [
    "# Entrenando modelos de Clasificación\n",
    "---"
   ]
  },
  {
   "attachments": {},
   "cell_type": "markdown",
   "metadata": {},
   "source": [
    "### Necesidad para los modelos que Rating sea una variable discreta y no continua\n",
    "---"
   ]
  },
  {
   "cell_type": "code",
   "execution_count": 98,
   "metadata": {},
   "outputs": [],
   "source": [
    "google_norm['Rating'] = google_norm['Rating'].round(1) # Redondear a la décima más cercana\n",
    "google_norm['Rating'] = google_norm['Rating'].astype(int) # Convertir a tipo int"
   ]
  },
  {
   "cell_type": "markdown",
   "metadata": {},
   "source": [
    "## Creación del Train y Test Set\n",
    "---"
   ]
  },
  {
   "cell_type": "markdown",
   "metadata": {},
   "source": [
    "Necesitamos crear, del total de datos del Dataset, una subdivisión. Una parte será para entrenar al modelo (TrainSet) y otro para comprobar el resultado del entrenamiento (TestSet)\n",
    "\n",
    "Usaremos un método de la librería \"sklearn\""
   ]
  },
  {
   "cell_type": "code",
   "execution_count": 99,
   "metadata": {},
   "outputs": [],
   "source": [
    "from sklearn.model_selection import train_test_split"
   ]
  },
  {
   "cell_type": "markdown",
   "metadata": {},
   "source": [
    "Aplicaremos normalmente una división 80/20. Otros ratios pueden ser 70:30, 60:40, e incluso 50:50, pero en este caso usaremos el primero, ya que es el más común."
   ]
  },
  {
   "cell_type": "markdown",
   "metadata": {},
   "source": [
    "Aplicaremos normalmente una división 80/20. Otros ratios pueden ser 70:30, 60:40, e incluso 50:50, pero en este caso usaremos el primero, ya que es el más común."
   ]
  },
  {
   "cell_type": "code",
   "execution_count": 100,
   "metadata": {},
   "outputs": [
    {
     "name": "stdout",
     "output_type": "stream",
     "text": [
      "Número de filas Total del dataset :  10838\n",
      "Ratio :  80.0 / 20.0\n",
      "Número de filas por dataset :\n",
      "TrainSet :  8670\n",
      "TestSet  :  2168\n"
     ]
    }
   ],
   "source": [
    "# Agreagamos el ratio de split\n",
    "ratio = 0.2\n",
    "# Ejecutamos la función\n",
    "X_train, X_test, y_train, y_test = train_test_split(google_norm.drop('Rating', axis=1), google_norm['Rating'], test_size=0.2, random_state=42)\n",
    "# Revisamos el número de filas en cada Set\n",
    "print('Número de filas Total del dataset : ',len(google_norm))\n",
    "print('Ratio : ', 100-100*ratio, '/',ratio*100) \n",
    "print('Número de filas por dataset :')\n",
    "print('TrainSet : ',len(X_train))\n",
    "print('TestSet  : ', len(X_test))\n"
   ]
  },
  {
   "attachments": {},
   "cell_type": "markdown",
   "metadata": {},
   "source": [
    "---\n",
    "---"
   ]
  },
  {
   "cell_type": "markdown",
   "metadata": {},
   "source": [
    "###  Técnica del sobremuestreo \n",
    "---\n",
    "-  Como hemos dicho anteriormente aplicaremos la técnica del sobremuestreo en las clases minoritarias con el método SMOTE de la librería \"imblearn\", y veremos como se comportan con y sin sobremuestreo\n"
   ]
  },
  {
   "cell_type": "code",
   "execution_count": 139,
   "metadata": {},
   "outputs": [
    {
     "data": {
      "text/plain": [
       "4    8566\n",
       "3    1711\n",
       "5     274\n",
       "2     231\n",
       "1      56\n",
       "Name: Rating, dtype: int64"
      ]
     },
     "execution_count": 139,
     "metadata": {},
     "output_type": "execute_result"
    }
   ],
   "source": [
    "google_norm['Rating'].value_counts()"
   ]
  },
  {
   "cell_type": "code",
   "execution_count": 140,
   "metadata": {},
   "outputs": [],
   "source": [
    "from imblearn.over_sampling import SMOTE\n",
    "\n",
    "# Crear una instancia de SMOTE y sobremuestrear a cantidades más altas que el dataset de entrenamiento\n",
    "sampling_strategy = {1: 2000, 2: 2000, 3: 2000, 4: 8566, 5: 2000}\n",
    "smote = SMOTE(sampling_strategy=sampling_strategy)\n",
    "X_sobre, y_sobre = smote.fit_resample(X_train, y_train)\n"
   ]
  },
  {
   "attachments": {},
   "cell_type": "markdown",
   "metadata": {},
   "source": [
    "## Aumentar la precisión con StandarScaler\n",
    "---"
   ]
  },
  {
   "attachments": {},
   "cell_type": "markdown",
   "metadata": {},
   "source": [
    "#### Esté método lo que realiza en una transformación de variables discretas a contínuas, aumentando la precisión del modelo, de hasta un 10%"
   ]
  },
  {
   "cell_type": "code",
   "execution_count": 141,
   "metadata": {},
   "outputs": [],
   "source": [
    "# Declara la librería\n",
    "from sklearn.preprocessing import StandardScaler\n",
    "# Declara un objeto/clase StandarScaler\n",
    "scaler = StandardScaler()\n",
    "# Realiza la conversión a escala \n",
    "X_train_scaled = scaler.fit_transform(X_train.astype(np.float64))\n",
    "X_sobre_scaled = scaler.fit_transform(X_sobre.astype(np.float64))\n"
   ]
  },
  {
   "attachments": {},
   "cell_type": "markdown",
   "metadata": {},
   "source": [
    "---\n",
    "---"
   ]
  },
  {
   "cell_type": "markdown",
   "metadata": {},
   "source": [
    "# ENTRENAMIENTO DE LOS MODELOS\n",
    "---"
   ]
  },
  {
   "cell_type": "code",
   "execution_count": 102,
   "metadata": {},
   "outputs": [],
   "source": [
    "from sklearn.model_selection import cross_val_predict\n",
    "from sklearn.model_selection import cross_val_score\n",
    "from sklearn.metrics import classification_report\n",
    "from sklearn.metrics import confusion_matrix"
   ]
  },
  {
   "attachments": {},
   "cell_type": "markdown",
   "metadata": {},
   "source": [
    "Como el numero de registros totales del dataset de Train es de 1600, le correspondería un k-fold(para el cv) de:\n",
    "- 8600/10 = 860, lo cual es demasiado esfuerzo computacionalmente hablando, por lo que le asignamos k=50"
   ]
  },
  {
   "cell_type": "markdown",
   "metadata": {},
   "source": [
    "PERO otendremos un warning, porque algunas de las clases no están lo suficientemente representadas en las divisiones, por lo que podemos hacer uso de la librería KFold para realizar un shuffle(baraja) para habilitar la estratificación, que asegurará que todas las clases tengan una representación igual"
   ]
  },
  {
   "cell_type": "code",
   "execution_count": 103,
   "metadata": {},
   "outputs": [],
   "source": [
    "from sklearn.model_selection import KFold\n",
    "\n",
    "kf = KFold(n_splits=50, shuffle=True)"
   ]
  },
  {
   "cell_type": "markdown",
   "metadata": {},
   "source": [
    "#### Para los modelos seguiremos usando el dataset con precisión aumentada con StandarScaler \"X_train_scaled\""
   ]
  },
  {
   "attachments": {},
   "cell_type": "markdown",
   "metadata": {},
   "source": [
    "## Casificador SVC  'Support Vector Classification'\n",
    "---\n",
    "\n",
    "- En el algoritmo SVC se utiliza la técnica de optimización de descenso de gradiente para encontrar el hiperplano que maximiza el margen. También utiliza una técnica de regularización para evitar el sobreajuste y mejorar la generalización del modelo."
   ]
  },
  {
   "attachments": {},
   "cell_type": "markdown",
   "metadata": {},
   "source": [
    "Importamos librería"
   ]
  },
  {
   "cell_type": "code",
   "execution_count": 104,
   "metadata": {},
   "outputs": [],
   "source": [
    "from sklearn.svm import SVC;"
   ]
  },
  {
   "attachments": {},
   "cell_type": "markdown",
   "metadata": {},
   "source": [
    "Ajustar el modelo normal y entrenarlo"
   ]
  },
  {
   "cell_type": "code",
   "execution_count": 105,
   "metadata": {},
   "outputs": [],
   "source": [
    "# Ajustar el modelo\n",
    "svm_clf = SVC(gamma=\"auto\", random_state=42)\n",
    "# Entrenarlo con el dataset de Entrenamiento\n",
    "svm_clf.fit(X_train_scaled, y_train)\n",
    "# Predicción del modelo\n",
    "y_train_pred_svm = cross_val_predict(svm_clf, X_train_scaled, y_train, cv=kf)"
   ]
  },
  {
   "attachments": {},
   "cell_type": "markdown",
   "metadata": {},
   "source": [
    "Ajustar el modelo sobremuestreado y entrenarlo"
   ]
  },
  {
   "cell_type": "code",
   "execution_count": 148,
   "metadata": {},
   "outputs": [],
   "source": [
    "# Ajustar el modelo\n",
    "svm_clf_sobre = SVC(gamma=\"auto\", random_state=42)\n",
    "# Entrenarlo con el dataset de Entrenamiento\n",
    "svm_clf_sobre.fit(X_sobre_scaled, y_sobre)\n",
    "# Predicción del modelo\n",
    "y_sobre_pred_svm = cross_val_predict(svm_clf_sobre, X_sobre_scaled, y_sobre, cv=kf)"
   ]
  },
  {
   "cell_type": "markdown",
   "metadata": {},
   "source": [
    "Realizar predicciones para el grupo de TEST con el modelo normal"
   ]
  },
  {
   "cell_type": "code",
   "execution_count": 106,
   "metadata": {},
   "outputs": [],
   "source": [
    "# Predicción del modelo con el TEST\n",
    "y_test_pred_svm = cross_val_predict(svm_clf, X_test, y_test, cv=kf)"
   ]
  },
  {
   "attachments": {},
   "cell_type": "markdown",
   "metadata": {},
   "source": [
    "Realizar predicciones para el grupo de TEST con el modelo sobremuestreado"
   ]
  },
  {
   "cell_type": "code",
   "execution_count": 149,
   "metadata": {},
   "outputs": [],
   "source": [
    "# Predicción del modelo con el TEST sobremuestreado\n",
    "y_testsobre_pred_svm = cross_val_predict(svm_clf_sobre, X_test, y_test, cv=kf)"
   ]
  },
  {
   "cell_type": "markdown",
   "metadata": {},
   "source": [
    "#### Matrices de Confusión\n",
    "---"
   ]
  },
  {
   "cell_type": "code",
   "execution_count": 107,
   "metadata": {},
   "outputs": [
    {
     "data": {
      "text/plain": [
       "array([[   0,    0,    0,   48,    0],\n",
       "       [   0,    0,    0,  183,    0],\n",
       "       [   0,    0,    0, 1369,    0],\n",
       "       [   0,    0,   16, 6829,    0],\n",
       "       [   0,    0,    0,  225,    0]], dtype=int64)"
      ]
     },
     "execution_count": 107,
     "metadata": {},
     "output_type": "execute_result"
    }
   ],
   "source": [
    "# Ver la matriz de decisión del modelo normal \n",
    "cm = confusion_matrix(y_train, y_train_pred_svm)\n",
    "cm"
   ]
  },
  {
   "cell_type": "code",
   "execution_count": 143,
   "metadata": {},
   "outputs": [
    {
     "data": {
      "text/plain": [
       "array([[1105,   56,    0,  804,   35],\n",
       "       [ 209,  594,    0, 1106,   91],\n",
       "       [  62,   60,   54, 1745,   79],\n",
       "       [ 127,  155,   25, 8107,  152],\n",
       "       [ 158,  123,    0, 1123,  596]], dtype=int64)"
      ]
     },
     "execution_count": 143,
     "metadata": {},
     "output_type": "execute_result"
    }
   ],
   "source": [
    "# Ver la matriz de decisión del modelo sobremuestreado \n",
    "cm = confusion_matrix(y_sobre, y_sobre_pred_svm)\n",
    "cm"
   ]
  },
  {
   "cell_type": "code",
   "execution_count": 108,
   "metadata": {},
   "outputs": [
    {
     "data": {
      "text/plain": [
       "array([[   0,    0,    0,    8,    0],\n",
       "       [   0,    2,    1,   45,    0],\n",
       "       [   0,    0,    5,  337,    0],\n",
       "       [   0,    1,   17, 1702,    1],\n",
       "       [   0,    0,    0,   49,    0]], dtype=int64)"
      ]
     },
     "execution_count": 108,
     "metadata": {},
     "output_type": "execute_result"
    }
   ],
   "source": [
    "# Ver la matriz de decisión del modelo de TEST normal\n",
    "cm = confusion_matrix(y_test, y_test_pred_svm)\n",
    "cm"
   ]
  },
  {
   "cell_type": "code",
   "execution_count": 151,
   "metadata": {},
   "outputs": [
    {
     "data": {
      "text/plain": [
       "array([[   0,    0,    0,    8,    0],\n",
       "       [   0,    2,    1,   45,    0],\n",
       "       [   0,    0,    5,  337,    0],\n",
       "       [   1,    0,   17, 1702,    1],\n",
       "       [   0,    0,    0,   49,    0]], dtype=int64)"
      ]
     },
     "execution_count": 151,
     "metadata": {},
     "output_type": "execute_result"
    }
   ],
   "source": [
    "# Ver la matriz de decisión del modelo de TEST sobremuestreado\n",
    "cm = confusion_matrix(y_test, y_testsobre_pred_svm)\n",
    "cm"
   ]
  },
  {
   "attachments": {},
   "cell_type": "markdown",
   "metadata": {},
   "source": [
    "## Casificador 'OneVsRestClassifier'\n",
    "---\n",
    "\n",
    "- Este clasificador funciona realizando una clasificación multiclase mediante la conversión en múltiples de clasificación binaria"
   ]
  },
  {
   "attachments": {},
   "cell_type": "markdown",
   "metadata": {},
   "source": [
    "Cargamos la librería"
   ]
  },
  {
   "cell_type": "code",
   "execution_count": 109,
   "metadata": {},
   "outputs": [],
   "source": [
    "from sklearn.multiclass import OneVsRestClassifier;"
   ]
  },
  {
   "cell_type": "markdown",
   "metadata": {},
   "source": [
    "Ajustar el modelo, entrenarlo y realizar predicciones para el grupo de entrenamiento normal"
   ]
  },
  {
   "cell_type": "code",
   "execution_count": 110,
   "metadata": {},
   "outputs": [],
   "source": [
    "# Definimos el modelo\n",
    "ovr_clf = OneVsRestClassifier( SVC(gamma=\"auto\", random_state=42) )\n",
    "# Lo entrenamos con el dataset\n",
    "ovr_clf.fit(X_train, y_train)\n",
    "# Predicción del modelo\n",
    "y_train_pred_ovr = cross_val_predict(ovr_clf, X_train_scaled, y_train, cv=kf)"
   ]
  },
  {
   "cell_type": "markdown",
   "metadata": {},
   "source": [
    "Ajustar el modelo sobremuestreado y entrenarlo"
   ]
  },
  {
   "cell_type": "code",
   "execution_count": 152,
   "metadata": {},
   "outputs": [],
   "source": [
    "# Ajustar el modelo\n",
    "ovr_clf_sobre = SVC(gamma=\"auto\", random_state=42)\n",
    "# Entrenarlo con el dataset de Entrenamiento\n",
    "ovr_clf_sobre.fit(X_sobre_scaled, y_sobre)\n",
    "# Predicción del modelo\n",
    "y_sobre_pred_ovr = cross_val_predict(ovr_clf_sobre, X_sobre_scaled, y_sobre, cv=kf)"
   ]
  },
  {
   "cell_type": "markdown",
   "metadata": {},
   "source": [
    "Realizar predicciones para el grupo de TEST con el modelo normal"
   ]
  },
  {
   "cell_type": "code",
   "execution_count": 111,
   "metadata": {},
   "outputs": [],
   "source": [
    "# Predicción del modelo con el TEST\n",
    "y_test_pred_ovr = cross_val_predict(ovr_clf, X_test, y_test, cv=kf)"
   ]
  },
  {
   "cell_type": "markdown",
   "metadata": {},
   "source": [
    "Realizar predicciones para el grupo de TEST con el modelo sobremuestreado"
   ]
  },
  {
   "cell_type": "code",
   "execution_count": 153,
   "metadata": {},
   "outputs": [],
   "source": [
    "# Predicción del modelo con el TEST sopremuestreado\n",
    "y_testsobre_pred_ovr = cross_val_predict(ovr_clf_sobre, X_test, y_test, cv=kf)"
   ]
  },
  {
   "cell_type": "markdown",
   "metadata": {},
   "source": [
    "#### Matrices de Confusión\n",
    "---"
   ]
  },
  {
   "cell_type": "code",
   "execution_count": 112,
   "metadata": {},
   "outputs": [
    {
     "data": {
      "text/plain": [
       "array([[   0,    0,    0,   48,    0],\n",
       "       [   0,    0,    0,  183,    0],\n",
       "       [   0,    0,    0, 1369,    0],\n",
       "       [   0,    0,   16, 6829,    0],\n",
       "       [   0,    0,    0,  225,    0]], dtype=int64)"
      ]
     },
     "execution_count": 112,
     "metadata": {},
     "output_type": "execute_result"
    }
   ],
   "source": [
    "# Ver la matriz de decisión del modelo normal \n",
    "cm = confusion_matrix(y_train, y_train_pred_ovr)\n",
    "cm"
   ]
  },
  {
   "cell_type": "code",
   "execution_count": 154,
   "metadata": {},
   "outputs": [
    {
     "data": {
      "text/plain": [
       "array([[1104,   54,    0,  805,   37],\n",
       "       [ 214,  591,    1, 1104,   90],\n",
       "       [  64,   59,   57, 1744,   76],\n",
       "       [ 129,  157,   29, 8097,  154],\n",
       "       [ 154,  122,    1, 1134,  589]], dtype=int64)"
      ]
     },
     "execution_count": 154,
     "metadata": {},
     "output_type": "execute_result"
    }
   ],
   "source": [
    "# Ver la matriz de decisión del modelo sobremuestreado \n",
    "cm = confusion_matrix(y_sobre, y_sobre_pred_ovr)\n",
    "cm"
   ]
  },
  {
   "cell_type": "code",
   "execution_count": 113,
   "metadata": {},
   "outputs": [
    {
     "data": {
      "text/plain": [
       "array([[   0,    0,    0,    8,    0],\n",
       "       [   0,    2,    1,   45,    0],\n",
       "       [   0,    0,   11,  331,    0],\n",
       "       [   1,    2,   15, 1702,    1],\n",
       "       [   0,    0,    0,   49,    0]], dtype=int64)"
      ]
     },
     "execution_count": 113,
     "metadata": {},
     "output_type": "execute_result"
    }
   ],
   "source": [
    "# Ver la matriz de decisión del modelo de TEST normal\n",
    "cm = confusion_matrix(y_test, y_test_pred_ovr)\n",
    "cm"
   ]
  },
  {
   "cell_type": "code",
   "execution_count": 155,
   "metadata": {},
   "outputs": [
    {
     "data": {
      "text/plain": [
       "array([[   0,    0,    0,    8,    0],\n",
       "       [   0,    2,    1,   45,    0],\n",
       "       [   0,    0,    5,  337,    0],\n",
       "       [   1,    0,   16, 1703,    1],\n",
       "       [   0,    0,    0,   49,    0]], dtype=int64)"
      ]
     },
     "execution_count": 155,
     "metadata": {},
     "output_type": "execute_result"
    }
   ],
   "source": [
    "# Ver la matriz de decisión del modelo de TEST sobremuestreado\n",
    "cm = confusion_matrix(y_test, y_testsobre_pred_ovr)\n",
    "cm"
   ]
  },
  {
   "attachments": {},
   "cell_type": "markdown",
   "metadata": {},
   "source": [
    "## Casificador SGD 'Descenso del gradiente' o 'Stochastic Gradient Descent'\n",
    "---\n",
    "\n",
    "- Este modelo iterativo, realizará una comprobación constante de la funcion coste o pérdida hacie el máximo descenso hacia el equilibrio en las puntuaciones"
   ]
  },
  {
   "attachments": {},
   "cell_type": "markdown",
   "metadata": {},
   "source": [
    "Para esto usaremos el 'Descenso del gradiente' o 'Stochastic Gradient Descent', y para ello empezaremos por importar las librerías"
   ]
  },
  {
   "cell_type": "code",
   "execution_count": 114,
   "metadata": {},
   "outputs": [],
   "source": [
    "from sklearn.linear_model import SGDClassifier"
   ]
  },
  {
   "cell_type": "markdown",
   "metadata": {},
   "source": [
    "Ajustar el modelo, entrenarlo y realizar predicciones para el grupo de entrenamiento normal"
   ]
  },
  {
   "cell_type": "code",
   "execution_count": 115,
   "metadata": {},
   "outputs": [],
   "source": [
    "# Ajustar el modelo\n",
    "sgd_clf = SVC(gamma=\"auto\", random_state=42)\n",
    "# Entrenarlo con el dataset de Entrenamiento\n",
    "sgd_clf.fit(X_train_scaled, y_train)\n",
    "# Predicción del modelo\n",
    "y_train_pred_sgd = cross_val_predict(sgd_clf, X_train_scaled, y_train, cv=kf)"
   ]
  },
  {
   "cell_type": "markdown",
   "metadata": {},
   "source": [
    "Ajustar el modelo sobremuestreado y entrenarlo"
   ]
  },
  {
   "cell_type": "code",
   "execution_count": 156,
   "metadata": {},
   "outputs": [],
   "source": [
    "# Ajustar el modelo\n",
    "sgd_clf_sobre = SVC(gamma=\"auto\", random_state=42)\n",
    "# Entrenarlo con el dataset de Entrenamiento\n",
    "sgd_clf_sobre.fit(X_sobre_scaled, y_sobre)\n",
    "# Predicción del modelo\n",
    "y_sobre_pred_sgd = cross_val_predict(sgd_clf_sobre, X_sobre_scaled, y_sobre, cv=kf)"
   ]
  },
  {
   "cell_type": "markdown",
   "metadata": {},
   "source": [
    "Realizar predicciones para el grupo de TEST con el modelo normal"
   ]
  },
  {
   "cell_type": "code",
   "execution_count": 116,
   "metadata": {},
   "outputs": [],
   "source": [
    "# Predicción del modelo con el TEST\n",
    "y_test_pred_sgd = cross_val_predict(sgd_clf, X_test, y_test, cv=kf)"
   ]
  },
  {
   "cell_type": "markdown",
   "metadata": {},
   "source": [
    "Realizar predicciones para el grupo de TEST con el modelo sobremuestreado"
   ]
  },
  {
   "cell_type": "code",
   "execution_count": 157,
   "metadata": {},
   "outputs": [],
   "source": [
    "# Predicción del modelo con el TEST sobremuestreado\n",
    "y_testsobre_pred_sgd = cross_val_predict(sgd_clf_sobre, X_test, y_test, cv=kf)"
   ]
  },
  {
   "cell_type": "markdown",
   "metadata": {},
   "source": [
    "#### Matrices de Confusión\n",
    "---"
   ]
  },
  {
   "cell_type": "code",
   "execution_count": 117,
   "metadata": {},
   "outputs": [
    {
     "data": {
      "text/plain": [
       "array([[   0,    0,    0,   48,    0],\n",
       "       [   0,    0,    0,  183,    0],\n",
       "       [   0,    0,    0, 1369,    0],\n",
       "       [   0,    0,   16, 6829,    0],\n",
       "       [   0,    0,    0,  225,    0]], dtype=int64)"
      ]
     },
     "execution_count": 117,
     "metadata": {},
     "output_type": "execute_result"
    }
   ],
   "source": [
    "# Ver la matriz de decisión del modelo normal \n",
    "cm = confusion_matrix(y_train, y_train_pred_sgd)\n",
    "cm"
   ]
  },
  {
   "cell_type": "code",
   "execution_count": 158,
   "metadata": {},
   "outputs": [
    {
     "data": {
      "text/plain": [
       "array([[1104,   55,    0,  805,   36],\n",
       "       [ 212,  594,    1, 1107,   86],\n",
       "       [  62,   61,   54, 1745,   78],\n",
       "       [ 130,  153,   28, 8106,  149],\n",
       "       [ 157,  119,    0, 1128,  596]], dtype=int64)"
      ]
     },
     "execution_count": 158,
     "metadata": {},
     "output_type": "execute_result"
    }
   ],
   "source": [
    "# Ver la matriz de decisión del modelo sobremuestreado \n",
    "cm = confusion_matrix(y_sobre, y_sobre_pred_sgd)\n",
    "cm"
   ]
  },
  {
   "cell_type": "code",
   "execution_count": 118,
   "metadata": {},
   "outputs": [
    {
     "data": {
      "text/plain": [
       "array([[   0,    0,    0,    8,    0],\n",
       "       [   0,    2,    2,   44,    0],\n",
       "       [   0,    0,    5,  337,    0],\n",
       "       [   1,    0,   16, 1703,    1],\n",
       "       [   0,    0,    0,   49,    0]], dtype=int64)"
      ]
     },
     "execution_count": 118,
     "metadata": {},
     "output_type": "execute_result"
    }
   ],
   "source": [
    "# Ver la matriz de decisión del modelo de TEST normal \n",
    "cm = confusion_matrix(y_test, y_test_pred_sgd)\n",
    "cm"
   ]
  },
  {
   "cell_type": "code",
   "execution_count": 159,
   "metadata": {},
   "outputs": [
    {
     "data": {
      "text/plain": [
       "array([[   0,    0,    0,    8,    0],\n",
       "       [   0,    2,    1,   45,    0],\n",
       "       [   0,    0,    6,  336,    0],\n",
       "       [   1,    0,   16, 1704,    0],\n",
       "       [   0,    0,    0,   49,    0]], dtype=int64)"
      ]
     },
     "execution_count": 159,
     "metadata": {},
     "output_type": "execute_result"
    }
   ],
   "source": [
    "# Ver la matriz de decisión del modelo de TEST sobremuestreado\n",
    "cm = confusion_matrix(y_test, y_testsobre_pred_sgd)\n",
    "cm"
   ]
  },
  {
   "attachments": {},
   "cell_type": "markdown",
   "metadata": {},
   "source": [
    "---\n"
   ]
  },
  {
   "cell_type": "markdown",
   "metadata": {},
   "source": [
    "## Eficiencia de los modelos de clasificación\n",
    "---\n"
   ]
  },
  {
   "cell_type": "markdown",
   "metadata": {},
   "source": [
    "### Casificador SVC  'Support Vector Classification'\n",
    "---"
   ]
  },
  {
   "cell_type": "markdown",
   "metadata": {},
   "source": [
    "Modelo normal"
   ]
  },
  {
   "cell_type": "code",
   "execution_count": 119,
   "metadata": {},
   "outputs": [
    {
     "data": {
      "text/plain": [
       "array([0.77011494, 0.72413793, 0.78735632, 0.79885057, 0.76436782,\n",
       "       0.77586207, 0.74712644, 0.81609195, 0.75287356, 0.77586207,\n",
       "       0.79885057, 0.79885057, 0.77011494, 0.7816092 , 0.7816092 ,\n",
       "       0.77586207, 0.78735632, 0.77011494, 0.83333333, 0.79310345,\n",
       "       0.77456647, 0.83815029, 0.80346821, 0.82080925, 0.76878613,\n",
       "       0.84393064, 0.79768786, 0.75722543, 0.80346821, 0.78612717,\n",
       "       0.80346821, 0.83815029, 0.80346821, 0.80924855, 0.79190751,\n",
       "       0.76878613, 0.76300578, 0.78612717, 0.79768786, 0.77456647,\n",
       "       0.78612717, 0.76878613, 0.78612717, 0.79768786, 0.75722543,\n",
       "       0.79768786, 0.8150289 , 0.77456647, 0.8150289 , 0.75144509])"
      ]
     },
     "execution_count": 119,
     "metadata": {},
     "output_type": "execute_result"
    }
   ],
   "source": [
    "svm_scaled = cross_val_score(svm_clf,X_train_scaled,y_train,cv=kf, scoring=\"accuracy\")\n",
    "svm_scaled"
   ]
  },
  {
   "cell_type": "code",
   "execution_count": 120,
   "metadata": {},
   "outputs": [
    {
     "name": "stdout",
     "output_type": "stream",
     "text": [
      "              precision    recall  f1-score   support\n",
      "\n",
      "           1       0.00      0.00      0.00        48\n",
      "           2       0.00      0.00      0.00       183\n",
      "           3       0.00      0.00      0.00      1369\n",
      "           4       0.79      1.00      0.88      6845\n",
      "           5       0.00      0.00      0.00       225\n",
      "\n",
      "    accuracy                           0.79      8670\n",
      "   macro avg       0.16      0.20      0.18      8670\n",
      "weighted avg       0.62      0.79      0.70      8670\n",
      "\n"
     ]
    }
   ],
   "source": [
    "print(classification_report(y_train, y_train_pred_svm))"
   ]
  },
  {
   "attachments": {},
   "cell_type": "markdown",
   "metadata": {},
   "source": [
    "Modelo sobremuestreado"
   ]
  },
  {
   "cell_type": "code",
   "execution_count": 160,
   "metadata": {},
   "outputs": [
    {
     "data": {
      "text/plain": [
       "array([0.59036145, 0.64457831, 0.61144578, 0.59638554, 0.62048193,\n",
       "       0.61746988, 0.63554217, 0.64759036, 0.6626506 , 0.61144578,\n",
       "       0.64457831, 0.65662651, 0.64759036, 0.62650602, 0.62650602,\n",
       "       0.63253012, 0.60120846, 0.58610272, 0.66163142, 0.62839879,\n",
       "       0.63746224, 0.65558912, 0.66767372, 0.64652568, 0.64350453,\n",
       "       0.59818731, 0.63444109, 0.63141994, 0.61933535, 0.67069486,\n",
       "       0.66163142, 0.65558912, 0.58308157, 0.6223565 , 0.67069486,\n",
       "       0.65558912, 0.60120846, 0.62839879, 0.60120846, 0.63141994,\n",
       "       0.60120846, 0.61933535, 0.63746224, 0.63444109, 0.63141994,\n",
       "       0.62839879, 0.6102719 , 0.60725076, 0.63141994, 0.64048338])"
      ]
     },
     "execution_count": 160,
     "metadata": {},
     "output_type": "execute_result"
    }
   ],
   "source": [
    "svm_scaled = cross_val_score(svm_clf_sobre,X_sobre_scaled,y_sobre,cv=kf, scoring=\"accuracy\")\n",
    "svm_scaled"
   ]
  },
  {
   "cell_type": "code",
   "execution_count": 146,
   "metadata": {},
   "outputs": [
    {
     "name": "stdout",
     "output_type": "stream",
     "text": [
      "              precision    recall  f1-score   support\n",
      "\n",
      "           1       0.67      0.55      0.60      2000\n",
      "           2       0.60      0.30      0.40      2000\n",
      "           3       0.68      0.03      0.05      2000\n",
      "           4       0.63      0.95      0.76      8566\n",
      "           5       0.63      0.30      0.40      2000\n",
      "\n",
      "    accuracy                           0.63     16566\n",
      "   macro avg       0.64      0.42      0.44     16566\n",
      "weighted avg       0.64      0.63      0.57     16566\n",
      "\n"
     ]
    }
   ],
   "source": [
    "print(classification_report(y_sobre, y_sobre_pred_svm))"
   ]
  },
  {
   "cell_type": "markdown",
   "metadata": {},
   "source": [
    "### Prueba con el TEST:"
   ]
  },
  {
   "attachments": {},
   "cell_type": "markdown",
   "metadata": {},
   "source": [
    "Comprobación con el dataset de test del modelo normal"
   ]
  },
  {
   "cell_type": "code",
   "execution_count": 121,
   "metadata": {},
   "outputs": [
    {
     "data": {
      "text/plain": [
       "array([0.75      , 0.70454545, 0.88636364, 0.72727273, 0.79545455,\n",
       "       0.72727273, 0.81818182, 0.86363636, 0.75      , 0.72727273,\n",
       "       0.79545455, 0.79545455, 0.75      , 0.79545455, 0.90909091,\n",
       "       0.75      , 0.84090909, 0.75      , 0.86046512, 0.79069767,\n",
       "       0.72093023, 0.81395349, 0.79069767, 0.79069767, 0.93023256,\n",
       "       0.8372093 , 0.8372093 , 0.88372093, 0.72093023, 0.6744186 ,\n",
       "       0.74418605, 0.76744186, 0.81395349, 0.69767442, 0.88372093,\n",
       "       0.86046512, 0.6744186 , 0.86046512, 0.79069767, 0.79069767,\n",
       "       0.62790698, 0.81395349, 0.86046512, 0.86046512, 0.72093023,\n",
       "       0.81395349, 0.72093023, 0.81395349, 0.88372093, 0.69767442])"
      ]
     },
     "execution_count": 121,
     "metadata": {},
     "output_type": "execute_result"
    }
   ],
   "source": [
    "svm_scaled_test = cross_val_score(svm_clf,X_test,y_test,cv=kf, scoring=\"accuracy\")\n",
    "svm_scaled_test"
   ]
  },
  {
   "cell_type": "code",
   "execution_count": 122,
   "metadata": {},
   "outputs": [
    {
     "name": "stdout",
     "output_type": "stream",
     "text": [
      "              precision    recall  f1-score   support\n",
      "\n",
      "           1       0.00      0.00      0.00         8\n",
      "           2       0.67      0.04      0.08        48\n",
      "           3       0.22      0.01      0.03       342\n",
      "           4       0.79      0.99      0.88      1721\n",
      "           5       0.00      0.00      0.00        49\n",
      "\n",
      "    accuracy                           0.79      2168\n",
      "   macro avg       0.34      0.21      0.20      2168\n",
      "weighted avg       0.68      0.79      0.71      2168\n",
      "\n"
     ]
    }
   ],
   "source": [
    "print(classification_report(y_test, y_test_pred_svm))"
   ]
  },
  {
   "attachments": {},
   "cell_type": "markdown",
   "metadata": {},
   "source": [
    "Comprobación con el dataset de test del modelo sobremuestreado"
   ]
  },
  {
   "cell_type": "code",
   "execution_count": 161,
   "metadata": {},
   "outputs": [
    {
     "data": {
      "text/plain": [
       "array([0.68181818, 0.88636364, 0.70454545, 0.77272727, 0.72727273,\n",
       "       0.88636364, 0.81818182, 0.86363636, 0.79545455, 0.75      ,\n",
       "       0.81818182, 0.77272727, 0.75      , 0.84090909, 0.84090909,\n",
       "       0.75      , 0.81818182, 0.81818182, 0.81395349, 0.79069767,\n",
       "       0.86046512, 0.74418605, 0.79069767, 0.76744186, 0.72093023,\n",
       "       0.74418605, 0.86046512, 0.69767442, 0.74418605, 0.76744186,\n",
       "       0.8372093 , 0.81395349, 0.74418605, 0.8372093 , 0.88372093,\n",
       "       0.86046512, 0.74418605, 0.76744186, 0.74418605, 0.74418605,\n",
       "       0.76744186, 0.76744186, 0.76744186, 0.79069767, 0.79069767,\n",
       "       0.86046512, 0.81395349, 0.79069767, 0.81395349, 0.76744186])"
      ]
     },
     "execution_count": 161,
     "metadata": {},
     "output_type": "execute_result"
    }
   ],
   "source": [
    "svm_scaled_test = cross_val_score(svm_clf_sobre,X_test,y_test,cv=kf, scoring=\"accuracy\")\n",
    "svm_scaled_test"
   ]
  },
  {
   "cell_type": "code",
   "execution_count": 150,
   "metadata": {},
   "outputs": [
    {
     "name": "stdout",
     "output_type": "stream",
     "text": [
      "              precision    recall  f1-score   support\n",
      "\n",
      "           1       0.00      0.00      0.00         8\n",
      "           2       1.00      0.04      0.08        48\n",
      "           3       0.22      0.01      0.03       342\n",
      "           4       0.79      0.99      0.88      1721\n",
      "           5       0.00      0.00      0.00        49\n",
      "\n",
      "    accuracy                           0.79      2168\n",
      "   macro avg       0.40      0.21      0.20      2168\n",
      "weighted avg       0.69      0.79      0.71      2168\n",
      "\n"
     ]
    }
   ],
   "source": [
    "print(classification_report(y_test, y_testsobre_pred_svm))"
   ]
  },
  {
   "cell_type": "markdown",
   "metadata": {},
   "source": [
    "### Casificador 'OneVsRestClassifier'\n",
    "---"
   ]
  },
  {
   "cell_type": "markdown",
   "metadata": {},
   "source": [
    "Modelo normal"
   ]
  },
  {
   "cell_type": "code",
   "execution_count": 123,
   "metadata": {},
   "outputs": [
    {
     "data": {
      "text/plain": [
       "array([0.7816092 , 0.81034483, 0.8045977 , 0.79885057, 0.81034483,\n",
       "       0.8045977 , 0.79310345, 0.82183908, 0.83333333, 0.77586207,\n",
       "       0.78735632, 0.75862069, 0.8045977 , 0.84482759, 0.82758621,\n",
       "       0.75287356, 0.72413793, 0.72413793, 0.84482759, 0.78735632,\n",
       "       0.83815029, 0.77456647, 0.79768786, 0.77456647, 0.8150289 ,\n",
       "       0.79190751, 0.75144509, 0.76878613, 0.79768786, 0.80346821,\n",
       "       0.76300578, 0.79768786, 0.80346821, 0.78612717, 0.72254335,\n",
       "       0.75144509, 0.76300578, 0.86127168, 0.79190751, 0.8150289 ,\n",
       "       0.79190751, 0.79768786, 0.78034682, 0.76878613, 0.75144509,\n",
       "       0.69942197, 0.82080925, 0.79768786, 0.77456647, 0.73988439])"
      ]
     },
     "execution_count": 123,
     "metadata": {},
     "output_type": "execute_result"
    }
   ],
   "source": [
    "#Realizamos la comprobación de la validación cruzada con el modelo\n",
    "ovr_scaled = cross_val_score(ovr_clf, X_train_scaled, y_train, cv=kf, scoring=\"accuracy\")\n",
    "ovr_scaled"
   ]
  },
  {
   "cell_type": "code",
   "execution_count": 124,
   "metadata": {},
   "outputs": [
    {
     "name": "stdout",
     "output_type": "stream",
     "text": [
      "              precision    recall  f1-score   support\n",
      "\n",
      "           1       0.00      0.00      0.00        48\n",
      "           2       0.00      0.00      0.00       183\n",
      "           3       0.00      0.00      0.00      1369\n",
      "           4       0.79      1.00      0.88      6845\n",
      "           5       0.00      0.00      0.00       225\n",
      "\n",
      "    accuracy                           0.79      8670\n",
      "   macro avg       0.16      0.20      0.18      8670\n",
      "weighted avg       0.62      0.79      0.70      8670\n",
      "\n"
     ]
    }
   ],
   "source": [
    "print(classification_report(y_train, y_train_pred_ovr))"
   ]
  },
  {
   "cell_type": "markdown",
   "metadata": {},
   "source": [
    "Modelo sobremuestreado"
   ]
  },
  {
   "cell_type": "code",
   "execution_count": 162,
   "metadata": {},
   "outputs": [
    {
     "data": {
      "text/plain": [
       "array([0.62349398, 0.62349398, 0.62048193, 0.61746988, 0.64759036,\n",
       "       0.64759036, 0.61144578, 0.6746988 , 0.65060241, 0.63554217,\n",
       "       0.62048193, 0.68373494, 0.60843373, 0.61445783, 0.63554217,\n",
       "       0.64156627, 0.60725076, 0.65256798, 0.6163142 , 0.57703927,\n",
       "       0.60120846, 0.63444109, 0.64048338, 0.67975831, 0.67371601,\n",
       "       0.60725076, 0.63746224, 0.60422961, 0.6918429 , 0.6223565 ,\n",
       "       0.59818731, 0.64954683, 0.61933535, 0.63141994, 0.70392749,\n",
       "       0.64350453, 0.57703927, 0.62537764, 0.64652568, 0.64350453,\n",
       "       0.61329305, 0.58006042, 0.63746224, 0.62537764, 0.67975831,\n",
       "       0.62839879, 0.63444109, 0.6102719 , 0.6102719 , 0.59516616])"
      ]
     },
     "execution_count": 162,
     "metadata": {},
     "output_type": "execute_result"
    }
   ],
   "source": [
    "svm_scaled = cross_val_score(ovr_clf_sobre,X_sobre_scaled,y_sobre,cv=kf, scoring=\"accuracy\")\n",
    "svm_scaled"
   ]
  },
  {
   "cell_type": "code",
   "execution_count": 163,
   "metadata": {},
   "outputs": [
    {
     "name": "stdout",
     "output_type": "stream",
     "text": [
      "              precision    recall  f1-score   support\n",
      "\n",
      "           1       0.66      0.55      0.60      2000\n",
      "           2       0.60      0.30      0.40      2000\n",
      "           3       0.65      0.03      0.05      2000\n",
      "           4       0.63      0.95      0.75      8566\n",
      "           5       0.62      0.29      0.40      2000\n",
      "\n",
      "    accuracy                           0.63     16566\n",
      "   macro avg       0.63      0.42      0.44     16566\n",
      "weighted avg       0.63      0.63      0.57     16566\n",
      "\n"
     ]
    }
   ],
   "source": [
    "print(classification_report(y_sobre, y_sobre_pred_ovr))"
   ]
  },
  {
   "cell_type": "markdown",
   "metadata": {},
   "source": [
    "### Prueba con el TEST:"
   ]
  },
  {
   "cell_type": "markdown",
   "metadata": {},
   "source": [
    "Comprobación con el dataset de test del modelo normal"
   ]
  },
  {
   "cell_type": "code",
   "execution_count": 125,
   "metadata": {},
   "outputs": [
    {
     "data": {
      "text/plain": [
       "array([0.75      , 0.79545455, 0.79545455, 0.70454545, 0.84090909,\n",
       "       0.68181818, 0.72727273, 0.79545455, 0.77272727, 0.84090909,\n",
       "       0.84090909, 0.77272727, 0.68181818, 0.72727273, 0.77272727,\n",
       "       0.81818182, 0.72727273, 0.77272727, 0.74418605, 0.86046512,\n",
       "       0.74418605, 0.79069767, 0.76744186, 0.86046512, 0.86046512,\n",
       "       0.8372093 , 0.79069767, 0.81395349, 0.90697674, 0.76744186,\n",
       "       0.74418605, 0.76744186, 0.86046512, 0.74418605, 0.93023256,\n",
       "       0.79069767, 0.86046512, 0.81395349, 0.72093023, 0.8372093 ,\n",
       "       0.74418605, 0.72093023, 0.8372093 , 0.8372093 , 0.79069767,\n",
       "       0.74418605, 0.95348837, 0.74418605, 0.65116279, 0.8372093 ])"
      ]
     },
     "execution_count": 125,
     "metadata": {},
     "output_type": "execute_result"
    }
   ],
   "source": [
    "#Realizamos la comprobación de la validación cruzada con el modelo\n",
    "ovr_scaled_test = cross_val_score(ovr_clf, X_test, y_test, cv=kf, scoring=\"accuracy\")\n",
    "ovr_scaled_test"
   ]
  },
  {
   "cell_type": "code",
   "execution_count": 126,
   "metadata": {},
   "outputs": [
    {
     "name": "stdout",
     "output_type": "stream",
     "text": [
      "              precision    recall  f1-score   support\n",
      "\n",
      "           1       0.00      0.00      0.00         8\n",
      "           2       0.50      0.04      0.08        48\n",
      "           3       0.41      0.03      0.06       342\n",
      "           4       0.80      0.99      0.88      1721\n",
      "           5       0.00      0.00      0.00        49\n",
      "\n",
      "    accuracy                           0.79      2168\n",
      "   macro avg       0.34      0.21      0.20      2168\n",
      "weighted avg       0.71      0.79      0.71      2168\n",
      "\n"
     ]
    }
   ],
   "source": [
    "print(classification_report(y_test, y_test_pred_ovr))"
   ]
  },
  {
   "cell_type": "markdown",
   "metadata": {},
   "source": [
    "Comprobación con el dataset de test del modelo sobremuestreado"
   ]
  },
  {
   "cell_type": "code",
   "execution_count": 164,
   "metadata": {},
   "outputs": [
    {
     "data": {
      "text/plain": [
       "array([0.77272727, 0.63636364, 0.84090909, 0.68181818, 0.84090909,\n",
       "       0.88636364, 0.86363636, 0.86363636, 0.84090909, 0.75      ,\n",
       "       0.70454545, 0.79545455, 0.72727273, 0.72727273, 0.75      ,\n",
       "       0.72727273, 0.90909091, 0.75      , 0.86046512, 0.8372093 ,\n",
       "       0.88372093, 0.76744186, 0.81395349, 0.72093023, 0.79069767,\n",
       "       0.69767442, 0.74418605, 0.74418605, 0.69767442, 0.90697674,\n",
       "       0.8372093 , 0.88372093, 0.8372093 , 0.76744186, 0.79069767,\n",
       "       0.81395349, 0.6744186 , 0.79069767, 0.79069767, 0.88372093,\n",
       "       0.8372093 , 0.8372093 , 0.8372093 , 0.79069767, 0.81395349,\n",
       "       0.69767442, 0.69767442, 0.81395349, 0.76744186, 0.79069767])"
      ]
     },
     "execution_count": 164,
     "metadata": {},
     "output_type": "execute_result"
    }
   ],
   "source": [
    "ovr_scaled_test = cross_val_score(ovr_clf_sobre,X_test,y_test,cv=kf, scoring=\"accuracy\")\n",
    "ovr_scaled_test"
   ]
  },
  {
   "cell_type": "code",
   "execution_count": 165,
   "metadata": {},
   "outputs": [
    {
     "name": "stdout",
     "output_type": "stream",
     "text": [
      "              precision    recall  f1-score   support\n",
      "\n",
      "           1       0.00      0.00      0.00         8\n",
      "           2       1.00      0.04      0.08        48\n",
      "           3       0.23      0.01      0.03       342\n",
      "           4       0.80      0.99      0.88      1721\n",
      "           5       0.00      0.00      0.00        49\n",
      "\n",
      "    accuracy                           0.79      2168\n",
      "   macro avg       0.40      0.21      0.20      2168\n",
      "weighted avg       0.69      0.79      0.71      2168\n",
      "\n"
     ]
    }
   ],
   "source": [
    "print(classification_report(y_test, y_testsobre_pred_ovr))"
   ]
  },
  {
   "cell_type": "markdown",
   "metadata": {},
   "source": [
    "### Casificador SGD 'Descenso del gradiente' o 'Stochastic Gradient Descent'\n",
    "---"
   ]
  },
  {
   "cell_type": "markdown",
   "metadata": {},
   "source": [
    "Modelo normal"
   ]
  },
  {
   "cell_type": "code",
   "execution_count": 127,
   "metadata": {},
   "outputs": [
    {
     "data": {
      "text/plain": [
       "array([0.82758621, 0.74712644, 0.77011494, 0.79885057, 0.79885057,\n",
       "       0.76436782, 0.77011494, 0.79310345, 0.77586207, 0.81034483,\n",
       "       0.77011494, 0.81034483, 0.77011494, 0.81609195, 0.79310345,\n",
       "       0.75862069, 0.72988506, 0.7816092 , 0.77586207, 0.82758621,\n",
       "       0.79190751, 0.74566474, 0.8265896 , 0.75722543, 0.8265896 ,\n",
       "       0.78034682, 0.75722543, 0.78034682, 0.75722543, 0.75722543,\n",
       "       0.80346821, 0.79190751, 0.79768786, 0.80924855, 0.80924855,\n",
       "       0.80924855, 0.78612717, 0.78034682, 0.8150289 , 0.74566474,\n",
       "       0.75144509, 0.83236994, 0.85549133, 0.78612717, 0.78612717,\n",
       "       0.75722543, 0.8150289 , 0.76300578, 0.79768786, 0.8150289 ])"
      ]
     },
     "execution_count": 127,
     "metadata": {},
     "output_type": "execute_result"
    }
   ],
   "source": [
    "sgd_scaled = cross_val_score(sgd_clf, X_train_scaled, y_train, cv=kf, scoring=\"accuracy\")\n",
    "sgd_scaled"
   ]
  },
  {
   "cell_type": "code",
   "execution_count": 128,
   "metadata": {},
   "outputs": [
    {
     "name": "stdout",
     "output_type": "stream",
     "text": [
      "              precision    recall  f1-score   support\n",
      "\n",
      "           1       0.00      0.00      0.00        48\n",
      "           2       0.00      0.00      0.00       183\n",
      "           3       0.00      0.00      0.00      1369\n",
      "           4       0.79      1.00      0.88      6845\n",
      "           5       0.00      0.00      0.00       225\n",
      "\n",
      "    accuracy                           0.79      8670\n",
      "   macro avg       0.16      0.20      0.18      8670\n",
      "weighted avg       0.62      0.79      0.70      8670\n",
      "\n"
     ]
    }
   ],
   "source": [
    "print(classification_report(y_train, y_train_pred_sgd))"
   ]
  },
  {
   "cell_type": "markdown",
   "metadata": {},
   "source": [
    "Modelo sobremuestreado"
   ]
  },
  {
   "cell_type": "code",
   "execution_count": 166,
   "metadata": {},
   "outputs": [
    {
     "data": {
      "text/plain": [
       "array([0.61445783, 0.59036145, 0.56024096, 0.63253012, 0.62048193,\n",
       "       0.62349398, 0.62650602, 0.6626506 , 0.63855422, 0.62048193,\n",
       "       0.67168675, 0.63554217, 0.63855422, 0.65060241, 0.62048193,\n",
       "       0.64156627, 0.64652568, 0.58912387, 0.64652568, 0.66465257,\n",
       "       0.63141994, 0.64954683, 0.61329305, 0.65861027, 0.6223565 ,\n",
       "       0.60120846, 0.60422961, 0.63746224, 0.6918429 , 0.62839879,\n",
       "       0.63444109, 0.63141994, 0.66163142, 0.65256798, 0.6163142 ,\n",
       "       0.63141994, 0.6163142 , 0.63141994, 0.62839879, 0.61933535,\n",
       "       0.63746224, 0.61329305, 0.58610272, 0.65558912, 0.67069486,\n",
       "       0.63444109, 0.63444109, 0.62839879, 0.6163142 , 0.6163142 ])"
      ]
     },
     "execution_count": 166,
     "metadata": {},
     "output_type": "execute_result"
    }
   ],
   "source": [
    "sgd_scaled = cross_val_score(sgd_clf_sobre,X_sobre_scaled,y_sobre,cv=kf, scoring=\"accuracy\")\n",
    "sgd_scaled"
   ]
  },
  {
   "cell_type": "code",
   "execution_count": 167,
   "metadata": {},
   "outputs": [
    {
     "name": "stdout",
     "output_type": "stream",
     "text": [
      "              precision    recall  f1-score   support\n",
      "\n",
      "           1       0.66      0.55      0.60      2000\n",
      "           2       0.60      0.30      0.40      2000\n",
      "           3       0.65      0.03      0.05      2000\n",
      "           4       0.63      0.95      0.76      8566\n",
      "           5       0.63      0.30      0.40      2000\n",
      "\n",
      "    accuracy                           0.63     16566\n",
      "   macro avg       0.64      0.42      0.44     16566\n",
      "weighted avg       0.63      0.63      0.57     16566\n",
      "\n"
     ]
    }
   ],
   "source": [
    "print(classification_report(y_sobre, y_sobre_pred_sgd))"
   ]
  },
  {
   "cell_type": "markdown",
   "metadata": {},
   "source": [
    "### Prueba con el TEST:"
   ]
  },
  {
   "cell_type": "markdown",
   "metadata": {},
   "source": [
    "Comprobación con el dataset de test del modelo normal"
   ]
  },
  {
   "cell_type": "code",
   "execution_count": 129,
   "metadata": {},
   "outputs": [
    {
     "data": {
      "text/plain": [
       "array([0.70454545, 0.84090909, 0.88636364, 0.88636364, 0.81818182,\n",
       "       0.77272727, 0.72727273, 0.81818182, 0.75      , 0.77272727,\n",
       "       0.70454545, 0.79545455, 0.84090909, 0.75      , 0.79545455,\n",
       "       0.77272727, 0.90909091, 0.72727273, 0.69767442, 0.79069767,\n",
       "       0.74418605, 0.81395349, 0.79069767, 0.8372093 , 0.79069767,\n",
       "       0.88372093, 0.81395349, 0.79069767, 0.72093023, 0.74418605,\n",
       "       0.86046512, 0.86046512, 0.74418605, 0.8372093 , 0.74418605,\n",
       "       0.81395349, 0.69767442, 0.8372093 , 0.79069767, 0.72093023,\n",
       "       0.86046512, 0.79069767, 0.74418605, 0.76744186, 0.76744186,\n",
       "       0.69767442, 0.79069767, 0.86046512, 0.81395349, 0.74418605])"
      ]
     },
     "execution_count": 129,
     "metadata": {},
     "output_type": "execute_result"
    }
   ],
   "source": [
    "sgd_scaled_test = cross_val_score(sgd_clf, X_test, y_test, cv=kf, scoring=\"accuracy\")\n",
    "sgd_scaled_test"
   ]
  },
  {
   "cell_type": "code",
   "execution_count": 130,
   "metadata": {},
   "outputs": [
    {
     "name": "stdout",
     "output_type": "stream",
     "text": [
      "              precision    recall  f1-score   support\n",
      "\n",
      "           1       0.00      0.00      0.00         8\n",
      "           2       1.00      0.04      0.08        48\n",
      "           3       0.22      0.01      0.03       342\n",
      "           4       0.80      0.99      0.88      1721\n",
      "           5       0.00      0.00      0.00        49\n",
      "\n",
      "    accuracy                           0.79      2168\n",
      "   macro avg       0.40      0.21      0.20      2168\n",
      "weighted avg       0.69      0.79      0.71      2168\n",
      "\n"
     ]
    }
   ],
   "source": [
    "print(classification_report(y_test, y_test_pred_sgd))"
   ]
  },
  {
   "cell_type": "markdown",
   "metadata": {},
   "source": [
    "Comprobación con el dataset de test del modelo sobremuestreado"
   ]
  },
  {
   "cell_type": "code",
   "execution_count": 168,
   "metadata": {},
   "outputs": [
    {
     "data": {
      "text/plain": [
       "array([0.79545455, 0.81818182, 0.68181818, 0.81818182, 0.84090909,\n",
       "       0.88636364, 0.86363636, 0.86363636, 0.68181818, 0.75      ,\n",
       "       0.75      , 0.86363636, 0.70454545, 0.77272727, 0.75      ,\n",
       "       0.77272727, 0.79545455, 0.70454545, 0.79069767, 0.81395349,\n",
       "       0.81395349, 0.8372093 , 0.6744186 , 0.69767442, 0.88372093,\n",
       "       0.8372093 , 0.76744186, 0.76744186, 0.72093023, 0.90697674,\n",
       "       0.81395349, 0.8372093 , 0.72093023, 0.72093023, 0.74418605,\n",
       "       0.76744186, 0.79069767, 0.76744186, 0.81395349, 0.79069767,\n",
       "       0.86046512, 0.69767442, 0.81395349, 0.8372093 , 0.8372093 ,\n",
       "       0.8372093 , 0.76744186, 0.81395349, 0.86046512, 0.76744186])"
      ]
     },
     "execution_count": 168,
     "metadata": {},
     "output_type": "execute_result"
    }
   ],
   "source": [
    "sgd_scaled_test = cross_val_score(sgd_clf_sobre,X_test,y_test,cv=kf, scoring=\"accuracy\")\n",
    "sgd_scaled_test"
   ]
  },
  {
   "cell_type": "code",
   "execution_count": 169,
   "metadata": {},
   "outputs": [
    {
     "name": "stdout",
     "output_type": "stream",
     "text": [
      "              precision    recall  f1-score   support\n",
      "\n",
      "           1       0.00      0.00      0.00         8\n",
      "           2       1.00      0.04      0.08        48\n",
      "           3       0.26      0.02      0.03       342\n",
      "           4       0.80      0.99      0.88      1721\n",
      "           5       0.00      0.00      0.00        49\n",
      "\n",
      "    accuracy                           0.79      2168\n",
      "   macro avg       0.41      0.21      0.20      2168\n",
      "weighted avg       0.69      0.79      0.71      2168\n",
      "\n"
     ]
    }
   ],
   "source": [
    "print(classification_report(y_test, y_testsobre_pred_sgd))"
   ]
  },
  {
   "attachments": {},
   "cell_type": "markdown",
   "metadata": {},
   "source": [
    "---\n",
    "---\n",
    "---"
   ]
  },
  {
   "attachments": {},
   "cell_type": "markdown",
   "metadata": {},
   "source": [
    "# Conclusión final:\n",
    "---\n",
    "\n",
    "- Podemos observar que el mejor modelo para clasificar la calidad de los vinos es SVG del descenso del gradiente estocástico , ya que nos arroja una precisión del 63%, siendo la mejor marca de los tres modelos, PERO con una diferencia del 1%, lo cual es muy pobre\n",
    "- Tambien vemos que cuando sometemos el entreno realizado al dataset de TEST, los valores bajan drásticamente hasta un 47% en el mejor de los casos, para el modelo de 'OneVSRest'\n",
    "- Destacamos la incapacidad de los modelos para clasificar los valores de calidad con bajos registros, como en las puntuaciones 3, 4 y 8, tanto para el modelo de entrenamiento como el de test.\n",
    "- Decir que a pesar de los esfuerzos por compensar con el SMOTE/sobremuestreo, los resultados son prácticamente idénticos en todos los modelos\n",
    "- Concluir que los modelos de clasificación necesitan un dataset más completo para poder realizar una clasificación múltiple en todas las valoraciones, por lo que se necesitarían más muestras, almenos de las calidades 1, 2, 3 y 5, ya que la descompensación es grande\n",
    "- Ante esto último, hemos generado un nuevo dataset con sobremuestreo, en el que hemos elevado el número de muestras a 2000 de las puntuaciones 1, 2, 3 y 5\n",
    "- Lamentablemente, aunque los aciertos de las predicciones para el set de entrenamiento han subido considerablemente, cuando aplicamos el modelo entrenado con sobre el dataset de TEST, los resultados son prácticamente iguales, por lo que no se ha conseguido el resultado esperado  "
   ]
  },
  {
   "cell_type": "markdown",
   "metadata": {},
   "source": [
    "---\n",
    "---\n",
    "---"
   ]
  }
 ],
 "metadata": {
  "kernelspec": {
   "display_name": "base",
   "language": "python",
   "name": "python3"
  },
  "language_info": {
   "codemirror_mode": {
    "name": "ipython",
    "version": 3
   },
   "file_extension": ".py",
   "mimetype": "text/x-python",
   "name": "python",
   "nbconvert_exporter": "python",
   "pygments_lexer": "ipython3",
   "version": "3.9.13"
  },
  "orig_nbformat": 4,
  "vscode": {
   "interpreter": {
    "hash": "704aea7029d59a45433ae3b663f7cccf597e59967cc6a516676256c90bebdeef"
   }
  }
 },
 "nbformat": 4,
 "nbformat_minor": 2
}
